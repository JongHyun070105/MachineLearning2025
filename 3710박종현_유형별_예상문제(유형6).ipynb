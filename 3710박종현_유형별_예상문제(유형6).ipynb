{
  "nbformat": 4,
  "nbformat_minor": 0,
  "metadata": {
    "colab": {
      "provenance": [],
      "include_colab_link": true
    },
    "kernelspec": {
      "name": "python3",
      "display_name": "Python 3"
    },
    "language_info": {
      "name": "python"
    }
  },
  "cells": [
    {
      "cell_type": "markdown",
      "metadata": {
        "id": "view-in-github",
        "colab_type": "text"
      },
      "source": [
        "<a href=\"https://colab.research.google.com/github/JongHyun070105/MachineLearning2025/blob/main/3710%EB%B0%95%EC%A2%85%ED%98%84_%EC%9C%A0%ED%98%95%EB%B3%84_%EC%98%88%EC%83%81%EB%AC%B8%EC%A0%9C(%EC%9C%A0%ED%98%956).ipynb\" target=\"_parent\"><img src=\"https://colab.research.google.com/assets/colab-badge.svg\" alt=\"Open In Colab\"/></a>"
      ]
    },
    {
      "cell_type": "markdown",
      "source": [
        "# 유형별 예상문제(유형6)\n",
        "# 이상치 제거\n"
      ],
      "metadata": {
        "id": "YHThL1pFuFP-"
      }
    },
    {
      "cell_type": "code",
      "source": [
        "# 01\n",
        "# 연비(MPG)가 50을 초과하는 이상치를 제거하세요.\n",
        "# mpg 값이 50을 초과하는 행을 제거하세요.\n",
        "\n",
        "df.drop(df[df[\"mpg\"] > 50].index, axis = 0)"
      ],
      "metadata": {
        "id": "FwfJWyppuTL3"
      },
      "execution_count": null,
      "outputs": []
    },
    {
      "cell_type": "code",
      "source": [
        "# 02\n",
        "# 마력(Horsepower)이 250을 초과하는 이상치를 제거하세요.\n",
        "# horsepower 값이 250을 초과하는 행을 제거하세요.\n",
        "\n",
        "df.drop(df[df[\"horsepower\"] > 250].index, axis = 0)"
      ],
      "metadata": {
        "id": "okQwQuE8ux1y"
      },
      "execution_count": null,
      "outputs": []
    },
    {
      "cell_type": "code",
      "source": [
        "# 03\n",
        "# 가속력(Acceleration)이 30을 초과하는 이상치를 제거하세요.\n",
        "# acceleration 값이 30을 초과하는 행을 제거하세요.\n",
        "\n",
        "df.drop(df[df[\"acceleration\"] > 30].index, axis = 0)"
      ],
      "metadata": {
        "id": "DfNgVFtwu3sn"
      },
      "execution_count": null,
      "outputs": []
    },
    {
      "cell_type": "code",
      "source": [
        "# 04\n",
        "# 마력(Horsepower)의 이상치를 IQR(사분위 범위) 방법으로 제거하세요.\n",
        "# IQR(Interquartile Range)을 활용하여 horsepower의 이상치를 제거하세요.\n",
        "# 이상치 기준:\n",
        "# Q1 − 1.5 × IQR 미만\n",
        "# Q3 + 1.5 × IQR 초과\n",
        "\n",
        "q1 = df[\"Horsepower\"].quantile(.25)\n",
        "q3 = df[\"Horsepower\"].quantile(.75)\n",
        "\n",
        "IQR = q3 - q1\n",
        "df = df[df['Horsepower'].natna()]\n",
        "df = (df[(df[\"Horsepower\"] > q1 - 1.5 * IQR) & (df[\"Horsepower\"] < q3 + 1.5 * IQR)])\n"
      ],
      "metadata": {
        "id": "VsYg8nG1u7ZQ"
      },
      "execution_count": null,
      "outputs": []
    },
    {
      "cell_type": "code",
      "source": [
        "# 05\n",
        "# 가속력(Acceleration)의 이상치를 표준편차(Z-score) 방법으로 제거하세요.\n",
        "# Z-score(표준화 점수)를 활용하여 acceleration의 이상치를 제거하세요.\n",
        "# 이상치 기준: 절댓값이 3을 초과하는 값 제거\n",
        "z_score = (df[\"Acceleration\"] - data[\"Acceleration\"].mean()) / data[\"Acceleration\"].std()\n",
        "\n",
        "df = df[abs(z_score) <= 3]"
      ],
      "metadata": {
        "id": "vJDsjXoMu_iR"
      },
      "execution_count": null,
      "outputs": []
    }
  ]
}