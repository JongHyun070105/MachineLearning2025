{
  "cells": [
    {
      "cell_type": "markdown",
      "metadata": {
        "id": "view-in-github",
        "colab_type": "text"
      },
      "source": [
        "<a href=\"https://colab.research.google.com/github/JongHyun070105/MachineLearning2025/blob/main/3710%EB%B0%95%EC%A2%85%ED%98%84_numpy_practice_04.ipynb\" target=\"_parent\"><img src=\"https://colab.research.google.com/assets/colab-badge.svg\" alt=\"Open In Colab\"/></a>"
      ]
    },
    {
      "cell_type": "markdown",
      "id": "a74c38b1",
      "metadata": {
        "id": "a74c38b1"
      },
      "source": [
        "## 1차원 배열의 정렬 문제\n"
      ]
    },
    {
      "cell_type": "markdown",
      "id": "7fd3b3fe",
      "metadata": {
        "id": "7fd3b3fe"
      },
      "source": [
        "### 1. 0부터 50까지의 난수를 가지는 크기 10의 1차원 배열을 생성하고, 오름차순으로 정렬하세요.\n"
      ]
    },
    {
      "cell_type": "code",
      "source": [
        "import numpy as np\n",
        "\n",
        "arr = np.random.randint(0, 51, size=10)\n",
        "\n",
        "sorted_arr = np.sort(arr)\n",
        "sorted_arr"
      ],
      "metadata": {
        "colab": {
          "base_uri": "https://localhost:8080/"
        },
        "id": "RBEsZiS6WB5_",
        "outputId": "a1a1c64b-b299-43ce-83da-10fea77ec283"
      },
      "id": "RBEsZiS6WB5_",
      "execution_count": 20,
      "outputs": [
        {
          "output_type": "execute_result",
          "data": {
            "text/plain": [
              "array([ 1,  3, 13, 16, 18, 29, 34, 34, 34, 42])"
            ]
          },
          "metadata": {},
          "execution_count": 20
        }
      ]
    },
    {
      "cell_type": "markdown",
      "id": "f687bd6f",
      "metadata": {
        "id": "f687bd6f"
      },
      "source": [
        "### 2. 위에서 생성한 배열을 내림차순으로 정렬하세요.\n"
      ]
    },
    {
      "cell_type": "code",
      "source": [
        "np.sort(arr,axis = 0)[::-1]"
      ],
      "metadata": {
        "colab": {
          "base_uri": "https://localhost:8080/"
        },
        "id": "6LVCYgYjWYbx",
        "outputId": "026603df-0215-4e7c-aced-fe69a0b1ecd9"
      },
      "id": "6LVCYgYjWYbx",
      "execution_count": 28,
      "outputs": [
        {
          "output_type": "execute_result",
          "data": {
            "text/plain": [
              "array([42, 34, 34, 34, 29, 18, 16, 13,  3,  1])"
            ]
          },
          "metadata": {},
          "execution_count": 28
        }
      ]
    },
    {
      "cell_type": "markdown",
      "id": "cbf74a48",
      "metadata": {
        "id": "cbf74a48"
      },
      "source": [
        "### 3. `np.sort()`와 `np.argsort()`를 사용하여 배열의 정렬된 값과 해당 값의 원래 인덱스를 출력하세요.\n"
      ]
    },
    {
      "cell_type": "code",
      "source": [
        "print(np.sort(arr))\n",
        "print(np.argsort(arr))"
      ],
      "metadata": {
        "colab": {
          "base_uri": "https://localhost:8080/"
        },
        "id": "muCY1SBiWpF4",
        "outputId": "44db2495-f586-4900-925f-2acc2ce1a568"
      },
      "id": "muCY1SBiWpF4",
      "execution_count": 31,
      "outputs": [
        {
          "output_type": "stream",
          "name": "stdout",
          "text": [
            "[ 1  3 13 16 18 29 34 34 34 42]\n",
            "[5 4 9 3 2 0 1 7 8 6]\n"
          ]
        }
      ]
    },
    {
      "cell_type": "markdown",
      "id": "b95ecbd4",
      "metadata": {
        "id": "b95ecbd4"
      },
      "source": [
        "## 2차원 배열의 정렬 문제\n"
      ]
    },
    {
      "cell_type": "markdown",
      "id": "78765925",
      "metadata": {
        "id": "78765925"
      },
      "source": [
        "### 4. `(3,4)` 크기의 2차원 배열을 난수로 생성한 후, 행 기준(`axis=1`)으로 정렬하세요.\n"
      ]
    },
    {
      "cell_type": "code",
      "source": [
        "arr = np.random.randn(3,4)\n",
        "np.sort(arr, axis = 1)"
      ],
      "metadata": {
        "colab": {
          "base_uri": "https://localhost:8080/"
        },
        "id": "DuupVpCWWuO6",
        "outputId": "372db001-4728-4cc7-ec27-a50cf3b347a2"
      },
      "id": "DuupVpCWWuO6",
      "execution_count": 32,
      "outputs": [
        {
          "output_type": "execute_result",
          "data": {
            "text/plain": [
              "array([[-2.13672516e+00, -1.20073118e+00,  7.61834622e-01,\n",
              "         1.34510768e+00],\n",
              "       [-1.84878131e+00, -5.71539772e-01, -3.22638657e-01,\n",
              "         1.01710900e+00],\n",
              "       [-1.08181257e+00, -8.73035842e-01, -7.42004943e-01,\n",
              "        -6.47825543e-04]])"
            ]
          },
          "metadata": {},
          "execution_count": 32
        }
      ]
    },
    {
      "cell_type": "markdown",
      "id": "ee8c555c",
      "metadata": {
        "id": "ee8c555c"
      },
      "source": [
        "### 5. 위의 2차원 배열을 열 기준(`axis=0`)으로 정렬하세요.\n"
      ]
    },
    {
      "cell_type": "code",
      "source": [
        "np.sort(arr, axis = 0)"
      ],
      "metadata": {
        "colab": {
          "base_uri": "https://localhost:8080/"
        },
        "id": "CwYl-FWfW0Gi",
        "outputId": "a8fc73ce-11d5-4754-edf8-55c76f756b71"
      },
      "id": "CwYl-FWfW0Gi",
      "execution_count": 33,
      "outputs": [
        {
          "output_type": "execute_result",
          "data": {
            "text/plain": [
              "array([[-1.20073118e+00, -2.13672516e+00, -7.42004943e-01,\n",
              "        -6.47825543e-04],\n",
              "       [-1.08181257e+00, -1.84878131e+00, -5.71539772e-01,\n",
              "         1.01710900e+00],\n",
              "       [-3.22638657e-01, -8.73035842e-01,  7.61834622e-01,\n",
              "         1.34510768e+00]])"
            ]
          },
          "metadata": {},
          "execution_count": 33
        }
      ]
    },
    {
      "cell_type": "markdown",
      "id": "6a61b5d2",
      "metadata": {
        "id": "6a61b5d2"
      },
      "source": [
        "### 6. 2차원 배열을 1차원 배열로 변환한 후, 정렬하세요.\n"
      ]
    },
    {
      "cell_type": "code",
      "source": [
        "arr = np.ravel(arr)\n",
        "np.sort(arr)"
      ],
      "metadata": {
        "colab": {
          "base_uri": "https://localhost:8080/"
        },
        "id": "8uEvO_c7W161",
        "outputId": "bfc9d5dc-29ff-4776-a778-c57ad5ecac4e"
      },
      "id": "8uEvO_c7W161",
      "execution_count": 41,
      "outputs": [
        {
          "output_type": "execute_result",
          "data": {
            "text/plain": [
              "array([-2.13672516e+00, -1.84878131e+00, -1.20073118e+00, -1.08181257e+00,\n",
              "       -8.73035842e-01, -7.42004943e-01, -5.71539772e-01, -3.22638657e-01,\n",
              "       -6.47825543e-04,  7.61834622e-01,  1.01710900e+00,  1.34510768e+00])"
            ]
          },
          "metadata": {},
          "execution_count": 41
        }
      ]
    },
    {
      "cell_type": "markdown",
      "id": "a55a17c1",
      "metadata": {
        "id": "a55a17c1"
      },
      "source": [
        "## 정렬된 배열에서 값 찾기 문제\n"
      ]
    },
    {
      "cell_type": "markdown",
      "id": "29a1df3f",
      "metadata": {
        "id": "29a1df3f"
      },
      "source": [
        "### 7. 크기가 `(4,5)`인 2차원 난수 배열을 생성하고, `np.argmax()`와 `np.argmin()`을 사용하여 각 행(row)별 최댓값과 최솟값의 인덱스를 찾으세요.\n"
      ]
    },
    {
      "cell_type": "code",
      "source": [
        "arr = np.random.randint(0,10,size = (4,5))\n",
        "print(np.argmax(arr))\n",
        "print(np.argmin(arr))"
      ],
      "metadata": {
        "colab": {
          "base_uri": "https://localhost:8080/"
        },
        "id": "vtLhJcv_XJT_",
        "outputId": "1757e1e5-1fe4-4d30-d927-c8332d46a738"
      },
      "id": "vtLhJcv_XJT_",
      "execution_count": 60,
      "outputs": [
        {
          "output_type": "stream",
          "name": "stdout",
          "text": [
            "5\n",
            "9\n"
          ]
        }
      ]
    },
    {
      "cell_type": "markdown",
      "id": "7dd4462b",
      "metadata": {
        "id": "7dd4462b"
      },
      "source": [
        "### 8. `np.where()`를 사용하여 2차원 배열에서 특정 값(예: 7 이상인 값)의 위치를 찾으세요.\n"
      ]
    },
    {
      "cell_type": "code",
      "source": [
        "indices = np.where(arr >= 7)  # 7 이상인 값의 인덱스 찾기\n",
        "\n",
        "print(indices)"
      ],
      "metadata": {
        "colab": {
          "base_uri": "https://localhost:8080/"
        },
        "id": "nXIWK49zXQ5-",
        "outputId": "7c058718-53e5-45ed-b8d4-4f366b6d224f"
      },
      "id": "nXIWK49zXQ5-",
      "execution_count": 62,
      "outputs": [
        {
          "output_type": "stream",
          "name": "stdout",
          "text": [
            "(array([0, 0, 1, 1, 2, 2, 3]), array([1, 4, 0, 3, 1, 4, 3]))\n"
          ]
        }
      ]
    },
    {
      "cell_type": "markdown",
      "id": "36871ace",
      "metadata": {
        "id": "36871ace"
      },
      "source": [
        "## 사용자 정의 정렬 적용 문제\n"
      ]
    },
    {
      "cell_type": "markdown",
      "id": "6810205b",
      "metadata": {
        "id": "6810205b"
      },
      "source": [
        "### 9. 주어진 1차원 배열 `[3, 1, 9, 7, 5]`을 정렬하되, 홀수를 먼저 정렬하고 짝수를 나중에 정렬하는 사용자 정의 정렬을 구현하세요.\n"
      ]
    },
    {
      "cell_type": "code",
      "source": [
        "arr = [3, 1, 9, 7, 5]\n",
        "\n",
        "odd_nums = sorted([num for num in arr if num % 2 != 0])\n",
        "even_nums = sorted([num for num in arr if num % 2 == 0])\n",
        "\n",
        "new_arr = odd_nums + even_nums\n",
        "new_arr\n"
      ],
      "metadata": {
        "colab": {
          "base_uri": "https://localhost:8080/"
        },
        "id": "NP5SvyYwYSzG",
        "outputId": "059fe71d-73ec-4502-9632-4b0ed004ef9c"
      },
      "id": "NP5SvyYwYSzG",
      "execution_count": 64,
      "outputs": [
        {
          "output_type": "execute_result",
          "data": {
            "text/plain": [
              "[1, 3, 5, 7, 9]"
            ]
          },
          "metadata": {},
          "execution_count": 64
        }
      ]
    },
    {
      "cell_type": "markdown",
      "id": "b4d73faf",
      "metadata": {
        "id": "b4d73faf"
      },
      "source": [
        "### 10. 문자열 배열 `['apple', 'banana', 'cherry', 'blueberry']`를 문자열 길이 기준으로 정렬하세요.\n"
      ]
    },
    {
      "cell_type": "code",
      "execution_count": 67,
      "id": "7150df2f",
      "metadata": {
        "id": "7150df2f",
        "colab": {
          "base_uri": "https://localhost:8080/"
        },
        "outputId": "bbcbbf30-90cc-4c5f-add8-f0293606a3ce"
      },
      "outputs": [
        {
          "output_type": "execute_result",
          "data": {
            "text/plain": [
              "['apple', 'banana', 'cherry', 'blueberry']"
            ]
          },
          "metadata": {},
          "execution_count": 67
        }
      ],
      "source": [
        "arr = ['apple', 'banana', 'cherry', 'blueberry']\n",
        "\n",
        "arr.sort(key =len)\n",
        "arr"
      ]
    }
  ],
  "metadata": {
    "colab": {
      "provenance": [],
      "include_colab_link": true
    },
    "language_info": {
      "name": "python"
    },
    "kernelspec": {
      "name": "python3",
      "display_name": "Python 3"
    }
  },
  "nbformat": 4,
  "nbformat_minor": 5
}