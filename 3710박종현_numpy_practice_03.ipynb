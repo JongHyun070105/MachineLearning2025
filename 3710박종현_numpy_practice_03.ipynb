{
  "cells": [
    {
      "cell_type": "markdown",
      "metadata": {
        "id": "view-in-github",
        "colab_type": "text"
      },
      "source": [
        "<a href=\"https://colab.research.google.com/github/JongHyun070105/MachineLearning2025/blob/main/3710%EB%B0%95%EC%A2%85%ED%98%84_numpy_practice_03.ipynb\" target=\"_parent\"><img src=\"https://colab.research.google.com/assets/colab-badge.svg\" alt=\"Open In Colab\"/></a>"
      ]
    },
    {
      "cell_type": "markdown",
      "id": "0c900a5a",
      "metadata": {
        "id": "0c900a5a"
      },
      "source": [
        "## 기본 연산 문제\n"
      ]
    },
    {
      "cell_type": "markdown",
      "id": "a9eeb1de",
      "metadata": {
        "id": "a9eeb1de"
      },
      "source": [
        "### 1. `arr1 = np.array([[1, 2, 3], [4, 5, 6]])` 과 `arr2 = np.array([[6, 5, 4], [3, 2, 1]])`가 주어졌을 때, 두 배열의 덧셈 결과를 출력하세요.\n"
      ]
    },
    {
      "cell_type": "code",
      "source": [
        "import numpy as np\n",
        "\n",
        "arr1 = np.array([[1, 2, 3], [4, 5, 6]])\n",
        "arr2 = np.array([[6, 5, 4], [3, 2, 1]])\n",
        "arr1 + arr2"
      ],
      "metadata": {
        "colab": {
          "base_uri": "https://localhost:8080/"
        },
        "id": "QRa8N3W1P8PD",
        "outputId": "7d38fc8a-d22c-42ab-85c1-0bf66e8b91f9"
      },
      "id": "QRa8N3W1P8PD",
      "execution_count": 2,
      "outputs": [
        {
          "output_type": "execute_result",
          "data": {
            "text/plain": [
              "array([[7, 7, 7],\n",
              "       [7, 7, 7]])"
            ]
          },
          "metadata": {},
          "execution_count": 2
        }
      ]
    },
    {
      "cell_type": "markdown",
      "id": "265d2b70",
      "metadata": {
        "id": "265d2b70"
      },
      "source": [
        "### 2. 위와 동일한 `arr1`과 `arr2`를 사용하여 뺄셈 결과를 출력하세요.\n"
      ]
    },
    {
      "cell_type": "code",
      "source": [
        "arr1 - arr2"
      ],
      "metadata": {
        "colab": {
          "base_uri": "https://localhost:8080/"
        },
        "id": "nKtGqXg8QCwi",
        "outputId": "23189ef9-abd5-41d0-9d65-748af84a9433"
      },
      "id": "nKtGqXg8QCwi",
      "execution_count": 3,
      "outputs": [
        {
          "output_type": "execute_result",
          "data": {
            "text/plain": [
              "array([[-5, -3, -1],\n",
              "       [ 1,  3,  5]])"
            ]
          },
          "metadata": {},
          "execution_count": 3
        }
      ]
    },
    {
      "cell_type": "markdown",
      "id": "a3b92b0b",
      "metadata": {
        "id": "a3b92b0b"
      },
      "source": [
        "### 3. 두 배열의 원소별 곱셈을 수행하세요.\n"
      ]
    },
    {
      "cell_type": "code",
      "source": [
        "arr1 * arr2"
      ],
      "metadata": {
        "colab": {
          "base_uri": "https://localhost:8080/"
        },
        "id": "MUFC4dxJQIH_",
        "outputId": "86bff04d-5e52-4161-e8fc-514eac9fc2d9"
      },
      "id": "MUFC4dxJQIH_",
      "execution_count": 4,
      "outputs": [
        {
          "output_type": "execute_result",
          "data": {
            "text/plain": [
              "array([[ 6, 10, 12],\n",
              "       [12, 10,  6]])"
            ]
          },
          "metadata": {},
          "execution_count": 4
        }
      ]
    },
    {
      "cell_type": "markdown",
      "id": "cc395f70",
      "metadata": {
        "id": "cc395f70"
      },
      "source": [
        "### 4. 두 배열의 원소별 나눗셈을 수행하세요.\n"
      ]
    },
    {
      "cell_type": "code",
      "source": [
        "arr1 / arr2"
      ],
      "metadata": {
        "colab": {
          "base_uri": "https://localhost:8080/"
        },
        "id": "DAugBITpQJig",
        "outputId": "f07c4d8b-3e01-49bf-86a8-01c48daefde6"
      },
      "id": "DAugBITpQJig",
      "execution_count": 5,
      "outputs": [
        {
          "output_type": "execute_result",
          "data": {
            "text/plain": [
              "array([[0.16666667, 0.4       , 0.75      ],\n",
              "       [1.33333333, 2.5       , 6.        ]])"
            ]
          },
          "metadata": {},
          "execution_count": 5
        }
      ]
    },
    {
      "cell_type": "markdown",
      "id": "a477836b",
      "metadata": {
        "id": "a477836b"
      },
      "source": [
        "### 5. `arr1`의 각 원소를 제곱한 결과를 출력하세요.\n"
      ]
    },
    {
      "cell_type": "code",
      "source": [
        "np.power(arr1, 2)"
      ],
      "metadata": {
        "colab": {
          "base_uri": "https://localhost:8080/"
        },
        "id": "jXDuP8AZQLir",
        "outputId": "751f53f0-2327-4e4e-c0a8-136fc61231ef"
      },
      "id": "jXDuP8AZQLir",
      "execution_count": 6,
      "outputs": [
        {
          "output_type": "execute_result",
          "data": {
            "text/plain": [
              "array([[ 1,  4,  9],\n",
              "       [16, 25, 36]])"
            ]
          },
          "metadata": {},
          "execution_count": 6
        }
      ]
    },
    {
      "cell_type": "markdown",
      "id": "848fc4ec",
      "metadata": {
        "id": "848fc4ec"
      },
      "source": [
        "### 6. `arr1`의 각 원소에 대해 제곱근(`sqrt`) 연산을 수행하세요.\n"
      ]
    },
    {
      "cell_type": "code",
      "source": [
        "np.sqrt(arr1)"
      ],
      "metadata": {
        "colab": {
          "base_uri": "https://localhost:8080/"
        },
        "id": "GPRihgvsQWTR",
        "outputId": "d502e823-8648-4c63-c83e-82737e391fb1"
      },
      "id": "GPRihgvsQWTR",
      "execution_count": 7,
      "outputs": [
        {
          "output_type": "execute_result",
          "data": {
            "text/plain": [
              "array([[1.        , 1.41421356, 1.73205081],\n",
              "       [2.        , 2.23606798, 2.44948974]])"
            ]
          },
          "metadata": {},
          "execution_count": 7
        }
      ]
    },
    {
      "cell_type": "markdown",
      "id": "9f708cb0",
      "metadata": {
        "id": "9f708cb0"
      },
      "source": [
        "### 7. `arr1`의 각 원소를 **2로 나눈 몫(`//`)과 나머지(`%`)**를 각각 출력하세요.\n"
      ]
    },
    {
      "cell_type": "code",
      "source": [
        "print(arr1 // 2)\n",
        "print(arr1 % 2)"
      ],
      "metadata": {
        "colab": {
          "base_uri": "https://localhost:8080/"
        },
        "id": "4O9OuLqLQY6g",
        "outputId": "9ac2aa43-ecf3-4004-c3f3-66351aeb6456"
      },
      "id": "4O9OuLqLQY6g",
      "execution_count": 10,
      "outputs": [
        {
          "output_type": "stream",
          "name": "stdout",
          "text": [
            "[[0 1 1]\n",
            " [2 2 3]]\n",
            "[[1 0 1]\n",
            " [0 1 0]]\n"
          ]
        }
      ]
    },
    {
      "cell_type": "markdown",
      "id": "377f5e12",
      "metadata": {
        "id": "377f5e12"
      },
      "source": [
        "## 브로드캐스팅과 다양한 연산 문제\n"
      ]
    },
    {
      "cell_type": "markdown",
      "id": "e2db16db",
      "metadata": {
        "id": "e2db16db"
      },
      "source": [
        "### 8. `arr = np.array([[1, 2, 3], [4, 5, 6]])` 에 10을 더한 결과를 출력하세요. (브로드캐스팅 활용)\n"
      ]
    },
    {
      "cell_type": "code",
      "source": [
        "arr = np.array([[1, 2, 3], [4, 5, 6]])\n",
        "np.cast[int](arr) + 10"
      ],
      "metadata": {
        "colab": {
          "base_uri": "https://localhost:8080/"
        },
        "id": "0iTEHAVzQgnj",
        "outputId": "35004bc3-5742-44d8-c0b4-2c12bc3648b8"
      },
      "id": "0iTEHAVzQgnj",
      "execution_count": 11,
      "outputs": [
        {
          "output_type": "execute_result",
          "data": {
            "text/plain": [
              "array([[11, 12, 13],\n",
              "       [14, 15, 16]])"
            ]
          },
          "metadata": {},
          "execution_count": 11
        }
      ]
    },
    {
      "cell_type": "markdown",
      "id": "6ea2d838",
      "metadata": {
        "id": "6ea2d838"
      },
      "source": [
        "### 9. `arr`의 각 원소에 대해 3을 곱한 결과를 출력하세요.\n"
      ]
    },
    {
      "cell_type": "code",
      "source": [
        "np.cast[int](arr) * 3"
      ],
      "metadata": {
        "colab": {
          "base_uri": "https://localhost:8080/"
        },
        "id": "7umyjvHJQw0S",
        "outputId": "ceccbcde-2879-4748-c690-1182b77b1828"
      },
      "id": "7umyjvHJQw0S",
      "execution_count": 12,
      "outputs": [
        {
          "output_type": "execute_result",
          "data": {
            "text/plain": [
              "array([[ 3,  6,  9],\n",
              "       [12, 15, 18]])"
            ]
          },
          "metadata": {},
          "execution_count": 12
        }
      ]
    },
    {
      "cell_type": "markdown",
      "id": "854c9103",
      "metadata": {
        "id": "854c9103"
      },
      "source": [
        "### 10. 1차원 배열 `np.array([1, 2, 3])` 과 2차원 배열 `np.array([[10], [20], [30]])`를 더했을 때 결과를 예측하고 실제 출력하여 확인하세요.\n"
      ]
    },
    {
      "cell_type": "code",
      "source": [
        "np.array([1,2,3]) + np.array([[10],[20],[30]])"
      ],
      "metadata": {
        "colab": {
          "base_uri": "https://localhost:8080/"
        },
        "id": "W5Yw4XZaQ1l_",
        "outputId": "2c58c242-f0c6-45fb-c37f-7d4c3cfbd97c"
      },
      "id": "W5Yw4XZaQ1l_",
      "execution_count": 13,
      "outputs": [
        {
          "output_type": "execute_result",
          "data": {
            "text/plain": [
              "array([[11, 12, 13],\n",
              "       [21, 22, 23],\n",
              "       [31, 32, 33]])"
            ]
          },
          "metadata": {},
          "execution_count": 13
        }
      ]
    },
    {
      "cell_type": "markdown",
      "id": "94b1fb23",
      "metadata": {
        "id": "94b1fb23"
      },
      "source": [
        "### 11. `arr = np.array([[1, 2, 3], [4, 5, 6]])`에서 최대값, 최소값을 각각 구하세요.\n"
      ]
    },
    {
      "cell_type": "code",
      "source": [
        "arr = np.array([[1, 2, 3], [4, 5, 6]])\n",
        "print(np.max(arr))\n",
        "print(np.max(arr))"
      ],
      "metadata": {
        "colab": {
          "base_uri": "https://localhost:8080/"
        },
        "id": "eL7D-gHIQ69Y",
        "outputId": "525dadde-172e-453c-c420-e350c2e102fa"
      },
      "id": "eL7D-gHIQ69Y",
      "execution_count": 16,
      "outputs": [
        {
          "output_type": "stream",
          "name": "stdout",
          "text": [
            "6\n",
            "6\n"
          ]
        }
      ]
    },
    {
      "cell_type": "markdown",
      "id": "c958990f",
      "metadata": {
        "id": "c958990f"
      },
      "source": [
        "### 12. `arr`의 행별 합(`sum`)과 열별 합(`sum`)을 각각 구하세요.\n"
      ]
    },
    {
      "cell_type": "code",
      "source": [
        "print(np.sum(arr, axis = 0))\n",
        "print(np.sum(arr,axis= 1))"
      ],
      "metadata": {
        "colab": {
          "base_uri": "https://localhost:8080/"
        },
        "id": "w2EHwXtGRFxq",
        "outputId": "ffdd8cf3-ace1-4d11-f7d8-b38496434691"
      },
      "id": "w2EHwXtGRFxq",
      "execution_count": 20,
      "outputs": [
        {
          "output_type": "stream",
          "name": "stdout",
          "text": [
            "[5 7 9]\n",
            "[ 6 15]\n"
          ]
        }
      ]
    },
    {
      "cell_type": "markdown",
      "id": "0dd76d7c",
      "metadata": {
        "id": "0dd76d7c"
      },
      "source": [
        "### 13. `arr`의 평균(`mean`)과 표준편차(`std`)를 계산하세요.\n"
      ]
    },
    {
      "cell_type": "code",
      "source": [
        "np.mean(arr)\n",
        "np.std(arr)"
      ],
      "metadata": {
        "colab": {
          "base_uri": "https://localhost:8080/"
        },
        "id": "O7FHdgmIRRKQ",
        "outputId": "3f96d291-389e-4a3f-9118-20cfa69ef924"
      },
      "id": "O7FHdgmIRRKQ",
      "execution_count": 19,
      "outputs": [
        {
          "output_type": "execute_result",
          "data": {
            "text/plain": [
              "1.707825127659933"
            ]
          },
          "metadata": {},
          "execution_count": 19
        }
      ]
    },
    {
      "cell_type": "markdown",
      "id": "b8c08c33",
      "metadata": {
        "id": "b8c08c33"
      },
      "source": [
        "### 14. `arr`를 `arr.T`를 사용하여 전치(`transpose`)하고 결과를 확인하세요.\n"
      ]
    },
    {
      "cell_type": "code",
      "source": [
        "arr.T"
      ],
      "metadata": {
        "colab": {
          "base_uri": "https://localhost:8080/"
        },
        "id": "LA2tLMxIRmkT",
        "outputId": "47689fa3-95b4-4318-df3d-371ecb166b59"
      },
      "id": "LA2tLMxIRmkT",
      "execution_count": 21,
      "outputs": [
        {
          "output_type": "execute_result",
          "data": {
            "text/plain": [
              "array([[1, 4],\n",
              "       [2, 5],\n",
              "       [3, 6]])"
            ]
          },
          "metadata": {},
          "execution_count": 21
        }
      ]
    },
    {
      "cell_type": "markdown",
      "id": "c78fbeb1",
      "metadata": {
        "id": "c78fbeb1"
      },
      "source": [
        "## 조건 연산 및 응용 문제\n"
      ]
    },
    {
      "cell_type": "markdown",
      "id": "37d1c76a",
      "metadata": {
        "id": "37d1c76a"
      },
      "source": [
        "### 15. `arr = np.array([[1, 2, 3], [4, 5, 6]])`에서 모든 원소가 4 이상인 요소만 출력하세요.\n"
      ]
    },
    {
      "cell_type": "code",
      "source": [
        "arr = np.array([[1, 2, 3], [4, 5, 6]])\n",
        "\n",
        "result = arr[(arr >= 4)]\n",
        "print(result)"
      ],
      "metadata": {
        "colab": {
          "base_uri": "https://localhost:8080/"
        },
        "id": "7MSVvNldRnkW",
        "outputId": "eb462fd6-808b-4ebd-f7e5-0ba1e4ee30f7"
      },
      "id": "7MSVvNldRnkW",
      "execution_count": 29,
      "outputs": [
        {
          "output_type": "stream",
          "name": "stdout",
          "text": [
            "[4 5 6]\n"
          ]
        }
      ]
    },
    {
      "cell_type": "markdown",
      "id": "326548a0",
      "metadata": {
        "id": "326548a0"
      },
      "source": [
        "### 16. `arr`의 각 원소가 3보다 크면 1, 작거나 같으면 0이 되도록 변환한 배열을 만드세요.\n",
        "\n",
        "> 인용구 추가\n",
        "\n",
        "\n"
      ]
    },
    {
      "cell_type": "code",
      "source": [
        "result = np.where(arr > 3, 1, 0)\n",
        "result"
      ],
      "metadata": {
        "colab": {
          "base_uri": "https://localhost:8080/"
        },
        "id": "zdBit_tHSu3V",
        "outputId": "7953be14-e528-4046-8b13-099fb8f0f516"
      },
      "id": "zdBit_tHSu3V",
      "execution_count": 33,
      "outputs": [
        {
          "output_type": "execute_result",
          "data": {
            "text/plain": [
              "array([[0, 0, 0],\n",
              "       [1, 1, 1]])"
            ]
          },
          "metadata": {},
          "execution_count": 33
        }
      ]
    },
    {
      "cell_type": "markdown",
      "id": "d056a964",
      "metadata": {
        "id": "d056a964"
      },
      "source": [
        "### 17. `arr`의 각 원소에 대해 로그(`log`) 연산을 수행하세요. (0이 포함되어 있다면 에러 발생 가능)\n"
      ]
    },
    {
      "cell_type": "code",
      "source": [
        "np.log(arr)"
      ],
      "metadata": {
        "colab": {
          "base_uri": "https://localhost:8080/"
        },
        "id": "dOzvN5FxS2vc",
        "outputId": "1a0085c9-e537-4725-e4d5-557373aec35c"
      },
      "id": "dOzvN5FxS2vc",
      "execution_count": 35,
      "outputs": [
        {
          "output_type": "execute_result",
          "data": {
            "text/plain": [
              "array([[0.        , 0.69314718, 1.09861229],\n",
              "       [1.38629436, 1.60943791, 1.79175947]])"
            ]
          },
          "metadata": {},
          "execution_count": 35
        }
      ]
    },
    {
      "cell_type": "markdown",
      "id": "7ca13353",
      "metadata": {
        "id": "7ca13353"
      },
      "source": [
        "### 18. 난수를 사용하여 `(3, 3)` 크기의 배열을 만들고, 각 원소를 반올림(`round`)하세요.\n"
      ]
    },
    {
      "cell_type": "code",
      "source": [
        "arr = np.random.rand(3, 3)\n",
        "arr = np.round(arr)\n",
        "arr"
      ],
      "metadata": {
        "colab": {
          "base_uri": "https://localhost:8080/"
        },
        "id": "HGrw5_nmTNSR",
        "outputId": "f331fbd7-516d-40c1-da2e-8da9200205cf"
      },
      "id": "HGrw5_nmTNSR",
      "execution_count": 40,
      "outputs": [
        {
          "output_type": "execute_result",
          "data": {
            "text/plain": [
              "array([[0., 0., 1.],\n",
              "       [0., 0., 0.],\n",
              "       [0., 1., 0.]])"
            ]
          },
          "metadata": {},
          "execution_count": 40
        }
      ]
    },
    {
      "cell_type": "markdown",
      "id": "6bd500ac",
      "metadata": {
        "id": "6bd500ac"
      },
      "source": [
        "### 19. 1부터 20까지의 정수를 가진 `5×4` 배열을 생성하고, 짝수만 출력하세요.\n"
      ]
    },
    {
      "cell_type": "code",
      "source": [
        "arr = np.arange(1, 21).reshape(5, 4)\n",
        "print(arr[arr % 2 == 0])\n"
      ],
      "metadata": {
        "colab": {
          "base_uri": "https://localhost:8080/"
        },
        "id": "jxkD-Xl5UBys",
        "outputId": "a3b24baa-9a45-4faa-ca80-bc16ed7aafe0"
      },
      "id": "jxkD-Xl5UBys",
      "execution_count": 50,
      "outputs": [
        {
          "output_type": "stream",
          "name": "stdout",
          "text": [
            "[ 2  4  6  8 10 12 14 16 18 20]\n"
          ]
        }
      ]
    },
    {
      "cell_type": "markdown",
      "id": "9b33845f",
      "metadata": {
        "id": "9b33845f"
      },
      "source": [
        "### 20. 난수를 사용하여 `(4, 4)` 크기의 배열을 생성하고, `0.5` 이상인 값만 남기고 나머지는 `0`으로 변경하세요.\n"
      ]
    },
    {
      "cell_type": "code",
      "execution_count": null,
      "id": "856ce533",
      "metadata": {
        "id": "856ce533"
      },
      "outputs": [],
      "source": [
        "arr = np.random.rand(4, 4)\n",
        "arr = np.where(arr >= 0.5, arr, 0)\n",
        "arr\n"
      ]
    }
  ],
  "metadata": {
    "colab": {
      "provenance": [],
      "include_colab_link": true
    },
    "language_info": {
      "name": "python"
    },
    "kernelspec": {
      "name": "python3",
      "display_name": "Python 3"
    }
  },
  "nbformat": 4,
  "nbformat_minor": 5
}