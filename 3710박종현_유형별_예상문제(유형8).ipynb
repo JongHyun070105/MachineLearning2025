{
  "nbformat": 4,
  "nbformat_minor": 0,
  "metadata": {
    "colab": {
      "provenance": [],
      "include_colab_link": true
    },
    "kernelspec": {
      "name": "python3",
      "display_name": "Python 3"
    },
    "language_info": {
      "name": "python"
    }
  },
  "cells": [
    {
      "cell_type": "markdown",
      "metadata": {
        "id": "view-in-github",
        "colab_type": "text"
      },
      "source": [
        "<a href=\"https://colab.research.google.com/github/JongHyun070105/MachineLearning2025/blob/main/3710%EB%B0%95%EC%A2%85%ED%98%84_%EC%9C%A0%ED%98%95%EB%B3%84_%EC%98%88%EC%83%81%EB%AC%B8%EC%A0%9C(%EC%9C%A0%ED%98%958).ipynb\" target=\"_parent\"><img src=\"https://colab.research.google.com/assets/colab-badge.svg\" alt=\"Open In Colab\"/></a>"
      ]
    },
    {
      "cell_type": "markdown",
      "source": [
        "# 유형별 예상문제(유형8)\n",
        "# 불필요한 컬럼 삭"
      ],
      "metadata": {
        "id": "WOQNxuHow6dB"
      }
    },
    {
      "cell_type": "code",
      "source": [
        "# 01.\n",
        "# 데이터프레임에서 name 컬럼을 삭제하세요.\n",
        "\n",
        "df.drop(columnus = 'name')\n"
      ],
      "metadata": {
        "id": "t9Yy6YAsxHof"
      },
      "execution_count": null,
      "outputs": []
    },
    {
      "cell_type": "code",
      "source": [
        "# 02.\n",
        "# 데이터프레임에서 model_year, origin 컬럼을 삭제하세요.\n",
        "\n",
        "\n",
        "df.drop(columnus = ['model_year', 'origin'])\n",
        "\n"
      ],
      "metadata": {
        "id": "9DLhtcmxxcEp"
      },
      "execution_count": null,
      "outputs": []
    },
    {
      "cell_type": "code",
      "source": [
        "# 03.\n",
        "# 모든 문자열(object) 타입 컬럼을 삭제하세요.\n",
        "\n",
        "obj_col = df.select_dtypes('object').columns\n",
        "df.drop(columns = obj_col)"
      ],
      "metadata": {
        "id": "iiCkidghxgY3"
      },
      "execution_count": null,
      "outputs": []
    },
    {
      "cell_type": "code",
      "source": [
        "# 04.\n",
        "# 모든 숫자(int, float) 타입 컬럼을 삭제하세요.\n",
        "\n",
        "num_col = df.select_dtypes(['int','float']).columns\n",
        "df.drop(columns = num_col)\n"
      ],
      "metadata": {
        "id": "ltVCJk5OxkyC"
      },
      "execution_count": null,
      "outputs": []
    },
    {
      "cell_type": "code",
      "source": [
        "# 05.\n",
        "# 데이터프레임에서 첫 번째 컬럼을 삭제하세요. (iloc 활용)\n",
        "\n",
        "df.iloc[:, 1:]"
      ],
      "metadata": {
        "id": "JOY22gsExk9x"
      },
      "execution_count": null,
      "outputs": []
    },
    {
      "cell_type": "code",
      "source": [
        "# 06.\n",
        "# 데이터프레임에서 특정 행을 기준으로 iloc을 활용하여 앞 5개 컬럼만 남기세요.\n",
        "\n",
        "df.iloc[:, :5]\n",
        "\n"
      ],
      "metadata": {
        "id": "3ypd37E0Q00L"
      },
      "execution_count": null,
      "outputs": []
    },
    {
      "cell_type": "code",
      "source": [
        "# 07.\n",
        "# loc을 활용하여 mpg, weight, horsepower 컬럼만 남기세요.\n",
        "\n",
        "df.loc[:, ['mpg','weight','horsepower']]\n"
      ],
      "metadata": {
        "id": "bvG15U7FQ02g"
      },
      "execution_count": null,
      "outputs": []
    }
  ]
}