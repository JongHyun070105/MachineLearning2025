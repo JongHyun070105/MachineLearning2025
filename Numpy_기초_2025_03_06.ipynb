{
  "nbformat": 4,
  "nbformat_minor": 0,
  "metadata": {
    "colab": {
      "provenance": [],
      "collapsed_sections": [
        "HcQtSO6YvGEr",
        "bHT-vYU4wD2C",
        "zfwAJH26xS1x",
        "sz8tWtaq1biT",
        "EBiR7WwD32Os",
        "01MQpXR95Drb",
        "uLX0VRgj8xhd",
        "xAl14u82C9uB"
      ],
      "authorship_tag": "ABX9TyPj9hiRWoqRjNO0Axz5zzx0",
      "include_colab_link": true
    },
    "kernelspec": {
      "name": "python3",
      "display_name": "Python 3"
    },
    "language_info": {
      "name": "python"
    }
  },
  "cells": [
    {
      "cell_type": "markdown",
      "metadata": {
        "id": "view-in-github",
        "colab_type": "text"
      },
      "source": [
        "<a href=\"https://colab.research.google.com/github/JongHyun070105/MachineLearning2025/blob/main/Numpy_%EA%B8%B0%EC%B4%88_2025_03_06.ipynb\" target=\"_parent\"><img src=\"https://colab.research.google.com/assets/colab-badge.svg\" alt=\"Open In Colab\"/></a>"
      ]
    },
    {
      "cell_type": "markdown",
      "source": [
        "# 1. N차원 배열의 개념"
      ],
      "metadata": {
        "id": "JlWe9rKjuKV0"
      }
    },
    {
      "cell_type": "code",
      "execution_count": 29,
      "metadata": {
        "id": "18uV8YGLo_5h"
      },
      "outputs": [],
      "source": [
        "import numpy as np # 라이브러리 호출"
      ]
    },
    {
      "cell_type": "code",
      "source": [
        "a1 = np.array([1,2,3]) # 1차원 배열 생성\n",
        "print(a1) # 1차원 배열 출력\n",
        "print(type(a1)) # a1의 타입 출력 => array(배열)"
      ],
      "metadata": {
        "colab": {
          "base_uri": "https://localhost:8080/"
        },
        "id": "_Hf-aOMQuSQy",
        "outputId": "27343cff-af7b-4c4f-c2a2-e04330fdf3c9"
      },
      "execution_count": 4,
      "outputs": [
        {
          "output_type": "stream",
          "name": "stdout",
          "text": [
            "[1 2 3]\n",
            "<class 'numpy.ndarray'>\n"
          ]
        }
      ]
    },
    {
      "cell_type": "code",
      "source": [
        "a1 = np.array([[1,2,3],[4,5,6]]) # 2차원 배열 생성\n",
        "print(a1) # 2차원 배열 출력"
      ],
      "metadata": {
        "colab": {
          "base_uri": "https://localhost:8080/"
        },
        "id": "2y_m-Mx0ugZx",
        "outputId": "78a569a9-1ea8-4128-f927-6849eefef963"
      },
      "execution_count": 10,
      "outputs": [
        {
          "output_type": "stream",
          "name": "stdout",
          "text": [
            "[[1 2 3]\n",
            " [4 5 6]]\n"
          ]
        }
      ]
    },
    {
      "cell_type": "code",
      "source": [
        "a = [1,2,3] # a 리스트 생성\n",
        "print(type(a)) # a의 타입 출력 => list(리스트)"
      ],
      "metadata": {
        "colab": {
          "base_uri": "https://localhost:8080/"
        },
        "id": "PP6YFNy2upkh",
        "outputId": "66b36fd8-2dd3-4ce3-ae84-bda74f9215fd"
      },
      "execution_count": 9,
      "outputs": [
        {
          "output_type": "stream",
          "name": "stdout",
          "text": [
            "<class 'list'>\n"
          ]
        }
      ]
    },
    {
      "cell_type": "markdown",
      "source": [
        "### array module을 이용한 배열 생성"
      ],
      "metadata": {
        "id": "HcQtSO6YvGEr"
      }
    },
    {
      "cell_type": "code",
      "source": [
        "import array as arr\n",
        "\n",
        "ar1 = arr.array(\"i\",[2,3,4,6])\n",
        "\n",
        "print(ar1)\n",
        "print(type(ar1))"
      ],
      "metadata": {
        "colab": {
          "base_uri": "https://localhost:8080/"
        },
        "id": "d6jNHQDFvMEB",
        "outputId": "60b8bc63-cf60-4dc6-980d-0363e7ab96bf"
      },
      "execution_count": 13,
      "outputs": [
        {
          "output_type": "stream",
          "name": "stdout",
          "text": [
            "array('i', [2, 3, 4, 6])\n",
            "<class 'array.array'>\n"
          ]
        }
      ]
    },
    {
      "cell_type": "code",
      "source": [
        "ar2 = np.array([\"number\",2,3,4])\n",
        "print(ar2)"
      ],
      "metadata": {
        "colab": {
          "base_uri": "https://localhost:8080/"
        },
        "id": "be_HvJ_fvmS9",
        "outputId": "81a4fa8c-8752-4077-d8b2-15610882d374"
      },
      "execution_count": 17,
      "outputs": [
        {
          "output_type": "stream",
          "name": "stdout",
          "text": [
            "['number' '2' '3' '4']\n"
          ]
        }
      ]
    },
    {
      "cell_type": "markdown",
      "source": [
        "### list (리스트) 와 array (배열)의 차이점"
      ],
      "metadata": {
        "id": "bHT-vYU4wD2C"
      }
    },
    {
      "cell_type": "code",
      "source": [
        "# 배열의 경우\n",
        "ar = np.array([2,4,6,8])\n",
        "div = ar / 2\n",
        "print(div)\n",
        "print(type(div)) # 나누어진 값들을 각각 가진 배열로 데이터 타입이 나옴"
      ],
      "metadata": {
        "colab": {
          "base_uri": "https://localhost:8080/"
        },
        "id": "4L5AdL-XwLTS",
        "outputId": "90a9813a-1d27-4796-8d58-11274eef0ea4"
      },
      "execution_count": 19,
      "outputs": [
        {
          "output_type": "stream",
          "name": "stdout",
          "text": [
            "[1. 2. 3. 4.]\n",
            "<class 'numpy.ndarray'>\n"
          ]
        }
      ]
    },
    {
      "cell_type": "code",
      "source": [
        "# 리스트의 경우\n",
        "li = [2,4,6,8]\n",
        "div = li / 2 # 배열은 계산이 안됨 TypeError: unsupported operand type(s) for /: 'list' and 'int'"
      ],
      "metadata": {
        "colab": {
          "base_uri": "https://localhost:8080/",
          "height": 216
        },
        "id": "Y1qKz1lvwkud",
        "outputId": "2a8d1692-854d-48d0-c541-50672df6ab4f"
      },
      "execution_count": 20,
      "outputs": [
        {
          "output_type": "error",
          "ename": "TypeError",
          "evalue": "unsupported operand type(s) for /: 'list' and 'int'",
          "traceback": [
            "\u001b[0;31m---------------------------------------------------------------------------\u001b[0m",
            "\u001b[0;31mTypeError\u001b[0m                                 Traceback (most recent call last)",
            "\u001b[0;32m<ipython-input-20-992ce632a13b>\u001b[0m in \u001b[0;36m<cell line: 0>\u001b[0;34m()\u001b[0m\n\u001b[1;32m      1\u001b[0m \u001b[0;31m# 리스트의 경우\u001b[0m\u001b[0;34m\u001b[0m\u001b[0;34m\u001b[0m\u001b[0m\n\u001b[1;32m      2\u001b[0m \u001b[0mli\u001b[0m \u001b[0;34m=\u001b[0m \u001b[0;34m[\u001b[0m\u001b[0;36m2\u001b[0m\u001b[0;34m,\u001b[0m\u001b[0;36m4\u001b[0m\u001b[0;34m,\u001b[0m\u001b[0;36m6\u001b[0m\u001b[0;34m,\u001b[0m\u001b[0;36m8\u001b[0m\u001b[0;34m]\u001b[0m\u001b[0;34m\u001b[0m\u001b[0;34m\u001b[0m\u001b[0m\n\u001b[0;32m----> 3\u001b[0;31m \u001b[0mdiv\u001b[0m \u001b[0;34m=\u001b[0m \u001b[0mli\u001b[0m \u001b[0;34m/\u001b[0m \u001b[0;36m2\u001b[0m\u001b[0;34m\u001b[0m\u001b[0;34m\u001b[0m\u001b[0m\n\u001b[0m\u001b[1;32m      4\u001b[0m \u001b[0mprint\u001b[0m\u001b[0;34m(\u001b[0m\u001b[0mdiv\u001b[0m\u001b[0;34m)\u001b[0m\u001b[0;34m\u001b[0m\u001b[0;34m\u001b[0m\u001b[0m\n\u001b[1;32m      5\u001b[0m \u001b[0mprint\u001b[0m\u001b[0;34m(\u001b[0m\u001b[0mtype\u001b[0m\u001b[0;34m(\u001b[0m\u001b[0mdiv\u001b[0m\u001b[0;34m)\u001b[0m\u001b[0;34m)\u001b[0m \u001b[0;31m# 나누어진 값\u001b[0m\u001b[0;34m\u001b[0m\u001b[0;34m\u001b[0m\u001b[0m\n",
            "\u001b[0;31mTypeError\u001b[0m: unsupported operand type(s) for /: 'list' and 'int'"
          ]
        }
      ]
    },
    {
      "cell_type": "code",
      "source": [
        "# 튜플로 배열 만들기\n",
        "tp = (2,3,4,5)\n",
        "arr = np.array(tp)\n",
        "print(arr)\n",
        "print(type(arr))"
      ],
      "metadata": {
        "colab": {
          "base_uri": "https://localhost:8080/"
        },
        "id": "V89oCOIzw8n5",
        "outputId": "a2441858-9c31-42e0-e529-3c3025092cf3"
      },
      "execution_count": 24,
      "outputs": [
        {
          "output_type": "stream",
          "name": "stdout",
          "text": [
            "[2 3 4 5]\n",
            "<class 'numpy.ndarray'>\n"
          ]
        }
      ]
    },
    {
      "cell_type": "markdown",
      "source": [
        "### ndim, shape, size 알아보기"
      ],
      "metadata": {
        "id": "zfwAJH26xS1x"
      }
    },
    {
      "cell_type": "code",
      "source": [
        "ar1 = np.array([1,2,3])\n",
        "ar2 = np.array([[1,2,3],[4,5,6]])\n",
        "\n",
        "print(ar1.ndim, ar2.ndim) # ndim은 배열의 차원을 알 수 있다.\n",
        "print(ar1.shape, ar2.shape) # shape은 배열의 원소수를 알 수 있다.\n",
        "print(ar1.size, ar2.size) # size는 원소수를 의미한다."
      ],
      "metadata": {
        "colab": {
          "base_uri": "https://localhost:8080/"
        },
        "id": "Bmc8WYGGxAAX",
        "outputId": "69195749-3c36-4be4-e78d-91cf43a1d012"
      },
      "execution_count": 28,
      "outputs": [
        {
          "output_type": "stream",
          "name": "stdout",
          "text": [
            "1 2\n",
            "(3,) (2, 3)\n",
            "3 6\n"
          ]
        }
      ]
    },
    {
      "cell_type": "markdown",
      "source": [
        "### 정해진 형식의 N차원 배열 생성하기\n",
        "- zeros\n",
        "- ones\n",
        "- full\n",
        "- eye\n",
        "- zeros_like\n",
        "- ones_like\n",
        "- full_like"
      ],
      "metadata": {
        "id": "sz8tWtaq1biT"
      }
    },
    {
      "cell_type": "code",
      "source": [
        "arr = np.zeros([2,3]) # 2행 3열을 0으로 채워서 배열 생성\n",
        "print(arr)"
      ],
      "metadata": {
        "colab": {
          "base_uri": "https://localhost:8080/"
        },
        "id": "eVsskX1Qxmve",
        "outputId": "4bedfbf4-09c6-49b7-e475-9f04a76b9c15"
      },
      "execution_count": 30,
      "outputs": [
        {
          "output_type": "stream",
          "name": "stdout",
          "text": [
            "[[0. 0. 0.]\n",
            " [0. 0. 0.]]\n"
          ]
        }
      ]
    },
    {
      "cell_type": "code",
      "source": [
        "arr = np.ones([2,3]) # 2행 3열을 1로 채워서 배열 생성\n",
        "print(arr)"
      ],
      "metadata": {
        "colab": {
          "base_uri": "https://localhost:8080/"
        },
        "id": "z3ZXsYf11vfO",
        "outputId": "15394434-0391-4584-dc21-29dd96423387"
      },
      "execution_count": 32,
      "outputs": [
        {
          "output_type": "stream",
          "name": "stdout",
          "text": [
            "[[1. 1. 1.]\n",
            " [1. 1. 1.]]\n"
          ]
        }
      ]
    },
    {
      "cell_type": "code",
      "source": [
        "arr = np.full((2,4),5) # shape을 먼저 입력한 후 채울 값을 입력\n",
        "print(arr)"
      ],
      "metadata": {
        "colab": {
          "base_uri": "https://localhost:8080/"
        },
        "id": "ZrbFU_Yg17Tn",
        "outputId": "72103339-0280-43ac-8583-560e6c6fa67e"
      },
      "execution_count": 33,
      "outputs": [
        {
          "output_type": "stream",
          "name": "stdout",
          "text": [
            "[[5 5 5 5]\n",
            " [5 5 5 5]]\n"
          ]
        }
      ]
    },
    {
      "cell_type": "code",
      "source": [
        "arr = np.eye(5,4, k = 1) # 대각원소는 모두 1이고, 나머지 요소는 모두 0인 배열 (시작요소(k)를 따로 지정할 수 있고, 지정하지 않는다면 처음자리부터 시작함)\n",
        "print(arr)"
      ],
      "metadata": {
        "colab": {
          "base_uri": "https://localhost:8080/"
        },
        "id": "_-7aectu2Fb6",
        "outputId": "f9d1a667-53ed-4576-a700-c3dd99a81d34"
      },
      "execution_count": 35,
      "outputs": [
        {
          "output_type": "stream",
          "name": "stdout",
          "text": [
            "[[0. 1. 0. 0.]\n",
            " [0. 0. 1. 0.]\n",
            " [0. 0. 0. 1.]\n",
            " [0. 0. 0. 0.]\n",
            " [0. 0. 0. 0.]]\n"
          ]
        }
      ]
    },
    {
      "cell_type": "code",
      "source": [
        "# 원래의 배열과 동일한 shape을 유지한 상태의 모든 원소가 0인 행렬 생성\n",
        "arr = np.array([[1,2,3],[4,5,6]])\n",
        "arr_z = np.zeros_like(arr)\n",
        "print(arr_z)"
      ],
      "metadata": {
        "colab": {
          "base_uri": "https://localhost:8080/"
        },
        "id": "3tL62HO82tDx",
        "outputId": "3c9497e8-fceb-41de-f0b5-101d3eba1f64"
      },
      "execution_count": 36,
      "outputs": [
        {
          "output_type": "stream",
          "name": "stdout",
          "text": [
            "[[0 0 0]\n",
            " [0 0 0]]\n"
          ]
        }
      ]
    },
    {
      "cell_type": "code",
      "source": [
        "# 원래의 배열과 동일한 shape을 유지한 상태의 모든 원소가 1인 행렬 생성\n",
        "arr = np.array([[1,2,3],[4,5,6]])\n",
        "arr_o = np.ones_like(arr)\n",
        "print(arr_o)"
      ],
      "metadata": {
        "colab": {
          "base_uri": "https://localhost:8080/"
        },
        "id": "Mma2v_Hg3DJR",
        "outputId": "00930c23-a1b2-4c91-8799-76dca9fe79f9"
      },
      "execution_count": 38,
      "outputs": [
        {
          "output_type": "stream",
          "name": "stdout",
          "text": [
            "[[1 1 1]\n",
            " [1 1 1]]\n"
          ]
        }
      ]
    },
    {
      "cell_type": "code",
      "source": [
        "# 원래의 배열과 동일한 shape을 유지한 상태의 모든 원소를 정해 행렬 생성\n",
        "arr_f = np.full_like(arr,9)\n",
        "print(arr_f)"
      ],
      "metadata": {
        "colab": {
          "base_uri": "https://localhost:8080/"
        },
        "id": "tXjy1ugd3kKt",
        "outputId": "e31b039e-1865-496b-cc55-a2dc482a40d5"
      },
      "execution_count": 41,
      "outputs": [
        {
          "output_type": "stream",
          "name": "stdout",
          "text": [
            "[[9 9 9]\n",
            " [9 9 9]]\n"
          ]
        }
      ]
    },
    {
      "cell_type": "markdown",
      "source": [
        "## 특정 범위의 값을 가지는 N차원 배열을 생성하기\n",
        "- arange\n",
        "- linspace\n",
        "- logspace"
      ],
      "metadata": {
        "id": "EBiR7WwD32Os"
      }
    },
    {
      "cell_type": "code",
      "source": [
        "arr = np.arange(9)\n",
        "print(arr)\n",
        "\n",
        "arr = np.arange(3,12)\n",
        "print(arr)"
      ],
      "metadata": {
        "colab": {
          "base_uri": "https://localhost:8080/"
        },
        "id": "c-KjxmSh31_b",
        "outputId": "7f8d8706-3f68-4686-9b99-70fc58e4686b"
      },
      "execution_count": 44,
      "outputs": [
        {
          "output_type": "stream",
          "name": "stdout",
          "text": [
            "[0 1 2 3 4 5 6 7 8]\n",
            "[ 3  4  5  6  7  8  9 10 11]\n"
          ]
        }
      ]
    },
    {
      "cell_type": "code",
      "source": [
        "arr = np.linspace(0,100,5) # 0부터 100 포함 n개의 숫자를 균등한 간격으로 원소를 생성\n",
        "print(arr)"
      ],
      "metadata": {
        "colab": {
          "base_uri": "https://localhost:8080/"
        },
        "id": "_WiULjF_4OZ0",
        "outputId": "1983f58b-8dd4-4aed-89d0-f69cf0bd5a16"
      },
      "execution_count": 46,
      "outputs": [
        {
          "output_type": "stream",
          "name": "stdout",
          "text": [
            "[  0.  25.  50.  75. 100.]\n"
          ]
        }
      ]
    },
    {
      "cell_type": "code",
      "source": [
        "arr = np.linspace(0,10,10)\n",
        "print(arr)\n",
        "\n",
        "arr = np.logspace(1,10,10,base = 2)\n",
        "print(arr)"
      ],
      "metadata": {
        "colab": {
          "base_uri": "https://localhost:8080/"
        },
        "id": "EydBdrTv4o5d",
        "outputId": "df2d0966-d152-4438-a092-3d2e5e4a8515"
      },
      "execution_count": 48,
      "outputs": [
        {
          "output_type": "stream",
          "name": "stdout",
          "text": [
            "[ 0.          1.11111111  2.22222222  3.33333333  4.44444444  5.55555556\n",
            "  6.66666667  7.77777778  8.88888889 10.        ]\n",
            "[   2.    4.    8.   16.   32.   64.  128.  256.  512. 1024.]\n"
          ]
        }
      ]
    },
    {
      "cell_type": "markdown",
      "source": [
        "## 난수를 기반으로 N차원 배열 생성하기\n",
        "- normal"
      ],
      "metadata": {
        "id": "01MQpXR95Drb"
      }
    },
    {
      "cell_type": "code",
      "source": [
        "import matplotlib.pyplot as plt"
      ],
      "metadata": {
        "id": "qrl-mCAl5Pqk"
      },
      "execution_count": 49,
      "outputs": []
    },
    {
      "cell_type": "code",
      "source": [
        "# np.random.normal() 정규분포의 확률밀도에서 표본을 추출하는 함수(정규분포의 평균, 표준편차, 추출할 표본 개수)\n",
        "arr = np.random.normal(0,1,100)\n",
        "print(arr)"
      ],
      "metadata": {
        "colab": {
          "base_uri": "https://localhost:8080/"
        },
        "id": "K7xkiS5T5UnN",
        "outputId": "c58dd637-06fc-41da-83eb-42d7b8f36e64"
      },
      "execution_count": 50,
      "outputs": [
        {
          "output_type": "stream",
          "name": "stdout",
          "text": [
            "[-7.35470350e-01 -1.04314811e+00  4.53102244e-01  1.73161082e-01\n",
            " -1.76317564e+00  1.13117240e+00  1.12936383e+00 -1.12434980e+00\n",
            "  4.89310203e-01  1.23907168e+00  4.08331876e-01 -1.52716741e-01\n",
            "  2.98837601e-01  8.61550472e-01  9.83237324e-02 -4.94977851e-01\n",
            " -6.18339137e-02  1.04480721e-01 -1.65956791e-01  4.66871226e-02\n",
            "  1.09289289e+00  2.59214961e-01  1.35302246e-01  5.55462480e-01\n",
            " -1.75979426e+00  9.30990912e-01  5.99831656e-01  9.16690171e-01\n",
            " -2.94083514e-01  1.30891815e+00  7.46701261e-01 -3.79049836e-01\n",
            " -1.77126357e+00  1.85786585e-01  8.84019761e-01  2.88010274e-01\n",
            "  3.73098768e-01  3.81659289e-01 -8.77525221e-01  1.14178589e+00\n",
            " -1.04927331e+00 -2.17373266e-01  4.21866885e-01  1.53737190e+00\n",
            "  5.81497901e-01  6.84882313e-01 -1.00074062e+00 -6.73392483e-01\n",
            "  1.56465504e-01  1.26613946e+00  1.69477731e-01  2.36086908e-01\n",
            " -1.13307514e+00 -7.48640491e-01  3.04092777e-01 -5.68841267e-02\n",
            "  4.02412373e-01  1.20809598e-01  3.31262901e-01 -8.84561754e-02\n",
            "  1.72488732e-01 -4.82824222e-01  3.33069217e-01 -6.74182134e-01\n",
            "  1.18195672e-01  1.36000018e+00  8.87781459e-01 -5.09741595e-01\n",
            " -7.78047555e-01  6.84924882e-01 -1.27499826e+00  7.37433431e-01\n",
            "  4.83611778e-01 -1.65389810e+00  9.71670325e-01 -4.34390014e-01\n",
            " -5.75426012e-05  7.37171636e-01 -1.37258609e+00  9.83006057e-01\n",
            " -2.72037692e-01 -8.97256184e-01 -1.04366062e+00  5.75001152e-01\n",
            " -9.81414600e-01  1.36128418e+00 -4.61332495e-01 -1.21571242e+00\n",
            " -1.07329457e+00  5.40873824e-01 -1.32732538e+00  2.20705823e+00\n",
            "  3.61973650e-01 -1.53685242e+00 -2.33260697e+00 -1.04010820e+00\n",
            "  5.63421299e-01  1.04305066e+00 -1.21429328e+00 -1.12853535e+00]\n"
          ]
        }
      ]
    },
    {
      "cell_type": "code",
      "source": [
        "plt.hist(arr, bins = 100)\n",
        "plt.show()"
      ],
      "metadata": {
        "colab": {
          "base_uri": "https://localhost:8080/",
          "height": 430
        },
        "id": "XP8is6UA59zr",
        "outputId": "2499955b-607e-4c31-e9f9-c5e0dafa8a9d"
      },
      "execution_count": 52,
      "outputs": [
        {
          "output_type": "display_data",
          "data": {
            "text/plain": [
              "<Figure size 640x480 with 1 Axes>"
            ],
            "image/png": "[encoded data removed]"
          },
          "metadata": {}
        }
      ]
    },
    {
      "cell_type": "code",
      "source": [
        "# np.random.rand() 0에서 1사이의 값을 균등한 비율로 표본을 추출하는 함수\n",
        "arr = np.random.rand(1000)\n",
        "print(arr)\n",
        "plt.hist(arr, bins = 100)\n",
        "plt.show()"
      ],
      "metadata": {
        "colab": {
          "base_uri": "https://localhost:8080/",
          "height": 1000
        },
        "id": "ZtTOheYL5_8Y",
        "outputId": "42bddbe6-d9d8-4693-f508-a2f172ff4590"
      },
      "execution_count": 53,
      "outputs": [
        {
          "output_type": "stream",
          "name": "stdout",
          "text": [
            "[0.25193528 0.23162873 0.291386   0.82907032 0.4424371  0.47081305\n",
            " 0.05995154 0.83192185 0.75706623 0.7079325  0.42418114 0.99771136\n",
            " 0.77742024 0.46827057 0.41929855 0.2244321  0.26000459 0.16220194\n",
            " 0.67262335 0.1100315  0.26623067 0.58000793 0.08230153 0.92800631\n",
            " 0.73273482 0.02894772 0.19576969 0.7313566  0.31822092 0.34927306\n",
            " 0.5075909  0.17141228 0.33662929 0.96128166 0.05956681 0.19243004\n",
            " 0.49483437 0.11243804 0.39283246 0.44105478 0.09912209 0.18031097\n",
            " 0.0136692  0.63526498 0.55227965 0.92499588 0.18300136 0.33542732\n",
            " 0.77905193 0.27304731 0.6364504  0.80638844 0.14544947 0.03298803\n",
            " 0.03853334 0.97827936 0.40600655 0.93557594 0.83347951 0.09981913\n",
            " 0.47257397 0.70447238 0.93520424 0.59914097 0.45374262 0.91114271\n",
            " 0.50920483 0.56344822 0.93567665 0.6930087  0.83606201 0.85255908\n",
            " 0.68538152 0.51167273 0.74405966 0.87254307 0.65319003 0.62671025\n",
            " 0.68161371 0.11241941 0.04520602 0.25037455 0.10308251 0.97832689\n",
            " 0.2922665  0.0484541  0.24078345 0.68832994 0.4613166  0.68529771\n",
            " 0.06407062 0.30470263 0.91237173 0.18240277 0.92869289 0.29360239\n",
            " 0.42835359 0.54996745 0.23145852 0.24489532 0.13902037 0.9507822\n",
            " 0.36674156 0.20897064 0.72369127 0.12947432 0.52468255 0.93740986\n",
            " 0.54195354 0.33212621 0.61318368 0.06947197 0.697522   0.2666747\n",
            " 0.90970743 0.58649075 0.57285338 0.61838895 0.1658474  0.30365738\n",
            " 0.12681512 0.75758543 0.50391165 0.01891718 0.54150257 0.64595519\n",
            " 0.77581563 0.11315887 0.44358788 0.64228421 0.68999738 0.86312867\n",
            " 0.93531298 0.51138049 0.81598881 0.59820676 0.44985331 0.94000731\n",
            " 0.9475317  0.46324699 0.6725783  0.36236447 0.748948   0.1375971\n",
            " 0.96138339 0.11940634 0.40250941 0.01014773 0.90625766 0.32497783\n",
            " 0.20424766 0.02936907 0.90084748 0.51668276 0.46468279 0.83933067\n",
            " 0.37681509 0.06257783 0.16731083 0.12679495 0.45665539 0.95027344\n",
            " 0.22432892 0.52574104 0.37794651 0.45663976 0.91172246 0.66376178\n",
            " 0.34904113 0.42806199 0.8614389  0.61509853 0.78968118 0.33248751\n",
            " 0.89956049 0.72855768 0.43225401 0.58219255 0.08692212 0.21229075\n",
            " 0.65802366 0.7636102  0.99037033 0.82798429 0.15132984 0.72402478\n",
            " 0.9245431  0.8180912  0.533903   0.8391531  0.33285307 0.17186682\n",
            " 0.83390499 0.47913361 0.9248941  0.49663776 0.09657105 0.10596201\n",
            " 0.58813873 0.99055656 0.65858854 0.17085855 0.07757999 0.25132444\n",
            " 0.06617808 0.06386021 0.45507687 0.55382704 0.66800646 0.66002401\n",
            " 0.08055097 0.84894858 0.66261576 0.0503993  0.08762058 0.21615532\n",
            " 0.20705147 0.90294347 0.78028239 0.91843998 0.84668568 0.78349956\n",
            " 0.80243973 0.54648159 0.03708021 0.39673664 0.42727582 0.29110807\n",
            " 0.43763302 0.88910972 0.53082387 0.60259497 0.52911983 0.34316609\n",
            " 0.96019873 0.92978523 0.47064968 0.25108095 0.26545267 0.47185755\n",
            " 0.61189451 0.11074059 0.45825737 0.76093382 0.66701515 0.86945119\n",
            " 0.80472922 0.79635934 0.05857829 0.74355208 0.96688733 0.14456438\n",
            " 0.19955271 0.85052529 0.74654942 0.8625279  0.6513489  0.19031155\n",
            " 0.78296926 0.17317441 0.96075331 0.74511591 0.25752207 0.58547077\n",
            " 0.96565899 0.02051379 0.20327842 0.26551134 0.07026627 0.55564996\n",
            " 0.70692169 0.89951252 0.26090785 0.22292019 0.15809195 0.96085787\n",
            " 0.11352314 0.67018089 0.08670835 0.10366897 0.60193287 0.00671523\n",
            " 0.62537045 0.04267811 0.59931222 0.25927225 0.99879522 0.89439503\n",
            " 0.44641728 0.6215268  0.14030605 0.13513254 0.47728166 0.40243877\n",
            " 0.15597252 0.76582403 0.74662733 0.78764317 0.54092657 0.46137571\n",
            " 0.13337279 0.74199068 0.01473962 0.51982918 0.83440253 0.67816087\n",
            " 0.10370447 0.6652914  0.32890047 0.64964653 0.35725609 0.03649277\n",
            " 0.70555012 0.1271819  0.97219526 0.40793263 0.93699705 0.34286483\n",
            " 0.10677184 0.36775825 0.74928793 0.508818   0.5294086  0.25998595\n",
            " 0.33866391 0.03606952 0.98540924 0.00830419 0.13777525 0.15926804\n",
            " 0.40893829 0.12618429 0.25346535 0.90857892 0.95649427 0.1944065\n",
            " 0.39706128 0.98430635 0.98168884 0.44793144 0.28475656 0.32208323\n",
            " 0.84491581 0.39792233 0.5611332  0.69601655 0.51159558 0.66627629\n",
            " 0.19974157 0.87895534 0.72322602 0.44575484 0.57249779 0.68458892\n",
            " 0.7926431  0.34107034 0.77551594 0.41982927 0.08129489 0.03281652\n",
            " 0.15465381 0.47204974 0.47680216 0.10017589 0.01177855 0.23487025\n",
            " 0.50100643 0.64493713 0.1473231  0.47713326 0.22749355 0.04733959\n",
            " 0.3334018  0.25133285 0.52678035 0.03098829 0.27304349 0.20519408\n",
            " 0.1269713  0.15194314 0.52943765 0.57515688 0.9469486  0.85333101\n",
            " 0.96602011 0.7544659  0.74623472 0.187229   0.51780224 0.04521718\n",
            " 0.65786616 0.31317828 0.91978589 0.19352733 0.34509187 0.05288775\n",
            " 0.46735298 0.86686266 0.51043626 0.24723112 0.96866138 0.81456713\n",
            " 0.93728978 0.01870446 0.16534001 0.37050937 0.39229471 0.32022935\n",
            " 0.97383801 0.13153901 0.03622875 0.32610201 0.45504394 0.58802053\n",
            " 0.75301901 0.80245898 0.03416715 0.72499971 0.01108164 0.56744217\n",
            " 0.72296856 0.85797261 0.46149422 0.4266544  0.54818681 0.09518692\n",
            " 0.17656249 0.04176809 0.03162596 0.60573884 0.5402534  0.92940277\n",
            " 0.2932423  0.9505416  0.15752278 0.5311282  0.36933203 0.34003473\n",
            " 0.43145754 0.27705664 0.24700049 0.30185789 0.3230237  0.81143229\n",
            " 0.49469588 0.02336473 0.01278235 0.93358214 0.83205241 0.66851067\n",
            " 0.81157608 0.93009104 0.25615952 0.52336363 0.31180201 0.41061065\n",
            " 0.58756485 0.32934342 0.1022592  0.10783921 0.35220526 0.84050163\n",
            " 0.75573748 0.0184706  0.68788277 0.91965386 0.10208176 0.67879849\n",
            " 0.69984281 0.19469878 0.12559017 0.89615549 0.03187545 0.41679631\n",
            " 0.62563525 0.65680258 0.43714735 0.64084087 0.75320058 0.94498714\n",
            " 0.02570633 0.39369402 0.38025789 0.39878503 0.53831042 0.73604066\n",
            " 0.17704495 0.59185855 0.96864264 0.31032445 0.48906771 0.4387885\n",
            " 0.44481913 0.73121483 0.26457041 0.26148093 0.02043834 0.34975572\n",
            " 0.45217757 0.23922558 0.85077376 0.78782393 0.34659725 0.77563692\n",
            " 0.2367972  0.17284757 0.4363298  0.95249348 0.14393563 0.34789786\n",
            " 0.96418704 0.78391075 0.10375783 0.85846127 0.03577553 0.22165929\n",
            " 0.86580453 0.04440224 0.28374497 0.69138497 0.70096284 0.60338254\n",
            " 0.17213169 0.26986805 0.97973269 0.42314063 0.46302462 0.14946324\n",
            " 0.37055102 0.16935466 0.43561534 0.40648174 0.74929392 0.63406642\n",
            " 0.90268137 0.61658494 0.42586815 0.46047806 0.28785991 0.07881828\n",
            " 0.91462483 0.92278574 0.70933646 0.23282318 0.11580598 0.655678\n",
            " 0.05981499 0.65442587 0.37703823 0.50821013 0.0603198  0.48926411\n",
            " 0.46211064 0.87307242 0.77080524 0.55056924 0.52343356 0.36007679\n",
            " 0.77149756 0.01376119 0.88506372 0.9588745  0.23442515 0.13369509\n",
            " 0.48603607 0.09244215 0.20946125 0.08646536 0.33552732 0.15604944\n",
            " 0.08604554 0.51063985 0.71188368 0.58397323 0.71994386 0.29251224\n",
            " 0.61474843 0.203406   0.37122034 0.06082622 0.49274134 0.45506339\n",
            " 0.03049434 0.28620644 0.65832651 0.11450222 0.64345073 0.49954624\n",
            " 0.20817134 0.98543521 0.29928809 0.12625872 0.44010608 0.23048043\n",
            " 0.02662448 0.11024993 0.66696866 0.83122976 0.98264083 0.86718157\n",
            " 0.05934545 0.75360057 0.82889494 0.92600536 0.56242167 0.88946042\n",
            " 0.34364802 0.2834389  0.77259636 0.14457257 0.86316407 0.05552343\n",
            " 0.33683533 0.20563001 0.07607897 0.6152568  0.83786069 0.21137735\n",
            " 0.68084159 0.57524165 0.16259257 0.89945069 0.62574708 0.66889779\n",
            " 0.09501385 0.66094173 0.31158703 0.75402149 0.89827638 0.07774324\n",
            " 0.93900081 0.36847617 0.35890103 0.43431354 0.06949791 0.105618\n",
            " 0.60794936 0.29324117 0.58451158 0.97237528 0.71876998 0.55139547\n",
            " 0.74389548 0.26911243 0.72049765 0.36779084 0.3836127  0.51121318\n",
            " 0.16476321 0.25530316 0.66425132 0.30454457 0.04576574 0.21797919\n",
            " 0.55042037 0.62861649 0.96175108 0.46336547 0.57132503 0.29795024\n",
            " 0.02713341 0.90783521 0.63936947 0.90261792 0.83039146 0.41002972\n",
            " 0.01610318 0.06313917 0.03217536 0.68482979 0.42609918 0.75863638\n",
            " 0.22721715 0.11346382 0.2450302  0.64594462 0.36240446 0.42453768\n",
            " 0.21876502 0.73622157 0.51766701 0.66146541 0.36751175 0.72757851\n",
            " 0.0513245  0.6643524  0.17813963 0.42027772 0.06424008 0.66071\n",
            " 0.4209555  0.72497872 0.50881941 0.12306224 0.23993367 0.96668514\n",
            " 0.57903812 0.81714961 0.46260361 0.50511194 0.97617495 0.15552628\n",
            " 0.89789298 0.92776733 0.10484244 0.30588566 0.58641988 0.53778695\n",
            " 0.07669034 0.23369432 0.30064432 0.62108634 0.83511395 0.38840425\n",
            " 0.55838369 0.97062262 0.58769969 0.00626255 0.19677139 0.67266003\n",
            " 0.79735966 0.25254894 0.10195883 0.18771934 0.85816823 0.25894961\n",
            " 0.66371618 0.84646461 0.71116353 0.85328794 0.65336887 0.84613856\n",
            " 0.59840557 0.89858025 0.51587606 0.46742638 0.82942583 0.73130187\n",
            " 0.57754727 0.23051287 0.41806575 0.78162923 0.34957426 0.25794026\n",
            " 0.14660554 0.60458977 0.32661508 0.75814636 0.68625789 0.40054137\n",
            " 0.95797752 0.27262138 0.7714538  0.58475157 0.38250218 0.35266932\n",
            " 0.49110357 0.35220855 0.07993973 0.22724486 0.80074507 0.74293397\n",
            " 0.22177832 0.10135921 0.3125549  0.03585317 0.75972581 0.52103054\n",
            " 0.51191922 0.06710151 0.03408959 0.89698702 0.13848526 0.74288576\n",
            " 0.56351631 0.18577067 0.3793945  0.30097291 0.17644407 0.79213528\n",
            " 0.40427191 0.2962944  0.25035238 0.58275532 0.29824755 0.77188042\n",
            " 0.56034112 0.72019258 0.61327532 0.67705708 0.72117859 0.20544266\n",
            " 0.83347647 0.51548304 0.34948828 0.76484803 0.73496628 0.48635388\n",
            " 0.09851586 0.30121506 0.94176411 0.15827531 0.59648966 0.04832867\n",
            " 0.23737416 0.86011547 0.96492529 0.72145231 0.89409755 0.7217629\n",
            " 0.86341288 0.28717984 0.46846243 0.79501007 0.4542857  0.45673824\n",
            " 0.01133759 0.08105262 0.14563415 0.8689202  0.76610492 0.49240954\n",
            " 0.30911821 0.42921499 0.69916477 0.15772227 0.94538082 0.34055871\n",
            " 0.88447471 0.80561901 0.3201771  0.37066521 0.74151525 0.5362283\n",
            " 0.36691409 0.97223999 0.88835499 0.84500664 0.71429583 0.62434315\n",
            " 0.58831847 0.82308487 0.26813864 0.44133258 0.09687444 0.34446699\n",
            " 0.65149446 0.1600144  0.32592981 0.72879146 0.07042483 0.07561043\n",
            " 0.90371818 0.76210446 0.33069255 0.83428785 0.83650526 0.13062317\n",
            " 0.35794735 0.88188283 0.54843774 0.56544271 0.83062498 0.85126238\n",
            " 0.27248483 0.11788027 0.90361701 0.97302218 0.06823346 0.3634823\n",
            " 0.84201808 0.37606595 0.50510742 0.0030147  0.25793304 0.46053479\n",
            " 0.35368396 0.48772436 0.91532833 0.40871362 0.28711975 0.77184626\n",
            " 0.63961977 0.96350783 0.56947867 0.26667805 0.13854139 0.11314388\n",
            " 0.45787838 0.36672774 0.37529292 0.14089628 0.72791075 0.45422715\n",
            " 0.10353828 0.32572316 0.22477298 0.91657004 0.76469552 0.75916109\n",
            " 0.70184159 0.26097326 0.53232045 0.96819243 0.66308801 0.65243315\n",
            " 0.59711819 0.78897713 0.47587747 0.24290372 0.89075204 0.6445913\n",
            " 0.88450473 0.09975093 0.47680288 0.24255115 0.41014356 0.73044195\n",
            " 0.03883101 0.59865265 0.20503447 0.38276715 0.61563532 0.22698001\n",
            " 0.29760917 0.79540083 0.36264515 0.49473457 0.33369386 0.37221519\n",
            " 0.8248384  0.9223539  0.71312693 0.45748375 0.88134392 0.25435668\n",
            " 0.29759712 0.11577421 0.54549972 0.66948102 0.95181524 0.41693129\n",
            " 0.58503976 0.05885486 0.00236691 0.01637424 0.85932116 0.12091612\n",
            " 0.70808436 0.04545727 0.4091687  0.98742888 0.39679333 0.23129514\n",
            " 0.27868531 0.21729899 0.93381869 0.92585009 0.89640379 0.98984411\n",
            " 0.11721482 0.9105994  0.9011694  0.56787016 0.92569402 0.22072638\n",
            " 0.50598532 0.33880677 0.83288371 0.0265744  0.73781559 0.68937327\n",
            " 0.85528083 0.82345031 0.08414788 0.26120211 0.011111   0.82856716\n",
            " 0.54577534 0.02369329 0.14911419 0.89114999 0.50955593 0.11823971\n",
            " 0.52304794 0.62893288 0.7335529  0.12004436 0.7136265  0.69270531\n",
            " 0.81870252 0.76686169 0.11460468 0.60983875 0.13636357 0.72341202\n",
            " 0.2515183  0.44583562 0.24493392 0.64938275]\n"
          ]
        },
        {
          "output_type": "display_data",
          "data": {
            "text/plain": [
              "<Figure size 640x480 with 1 Axes>"
            ],
            "image/png": "[encoded data removed]"
          },
          "metadata": {}
        }
      ]
    },
    {
      "cell_type": "code",
      "source": [
        "# np.random.randn() -1 부터 1사이의 값을 정규분포(가우시안 분포)의 표본을 추출\n",
        "arr = np.random.randn(10000)\n",
        "plt.hist(arr, bins = 100)\n",
        "plt.show()"
      ],
      "metadata": {
        "colab": {
          "base_uri": "https://localhost:8080/",
          "height": 430
        },
        "id": "_uirxATF7ERC",
        "outputId": "d482d928-91af-480f-8ab0-5d034c16995c"
      },
      "execution_count": 54,
      "outputs": [
        {
          "output_type": "display_data",
          "data": {
            "text/plain": [
              "<Figure size 640x480 with 1 Axes>"
            ],
            "image/png": "[encoded data removed]"
          },
          "metadata": {}
        }
      ]
    },
    {
      "cell_type": "code",
      "source": [
        "# np.randint 랜덤한 정수만 생성\n",
        "arr = np.random.randint(low=1, high = 100, size = 10)\n",
        "print(arr)"
      ],
      "metadata": {
        "colab": {
          "base_uri": "https://localhost:8080/"
        },
        "id": "vSf5sMxp7tc2",
        "outputId": "1cb92157-93e3-4abf-8e3d-79c37ef5d608"
      },
      "execution_count": 56,
      "outputs": [
        {
          "output_type": "stream",
          "name": "stdout",
          "text": [
            "[46 74 22 94 17 56 35 49 80 57]\n"
          ]
        }
      ]
    },
    {
      "cell_type": "code",
      "source": [
        "arr = np.random.randint(10)\n",
        "print(arr)"
      ],
      "metadata": {
        "colab": {
          "base_uri": "https://localhost:8080/"
        },
        "id": "u7d2sEWs8SEN",
        "outputId": "ecc69bb0-7f12-41fb-f064-ceecdd33bbe7"
      },
      "execution_count": 57,
      "outputs": [
        {
          "output_type": "stream",
          "name": "stdout",
          "text": [
            "0\n"
          ]
        }
      ]
    },
    {
      "cell_type": "markdown",
      "source": [
        "## 시드(seed)값을 통한 난수 생성 제어\n",
        "### 시드값을 설정해서 발생했던 난수 표본을 재현하는 방법"
      ],
      "metadata": {
        "id": "uLX0VRgj8xhd"
      }
    },
    {
      "cell_type": "code",
      "source": [
        "arr = np.random.rand(10)\n",
        "print('난수 발생 \\n', arr)\n",
        "\n",
        "arr = np.random.rand(10)\n",
        "print('난수 발생 \\n', arr)"
      ],
      "metadata": {
        "colab": {
          "base_uri": "https://localhost:8080/"
        },
        "id": "vB1FhUo39AX8",
        "outputId": "61ef3cd0-6241-49e5-e06e-b3357c534ead"
      },
      "execution_count": 58,
      "outputs": [
        {
          "output_type": "stream",
          "name": "stdout",
          "text": [
            "난수 발생 \n",
            " [0.2378311  0.77589409 0.0652171  0.67198251 0.18292665 0.66038984\n",
            " 0.30776198 0.13778757 0.4757083  0.97528232]\n",
            "난수 발생 \n",
            " [0.98873221 0.58718572 0.6333676  0.02220966 0.80130109 0.1427184\n",
            " 0.94424891 0.89028596 0.68545923 0.20538964]\n"
          ]
        }
      ]
    },
    {
      "cell_type": "code",
      "source": [
        "np.random.seed(1) # seed 함수를 이용해서 seed 값을 설정\n",
        "arr = np.random.rand(10)\n",
        "print('난수 발생 \\n', arr)\n",
        "\n",
        "arr = np.random.rand(10)\n",
        "print('난수 발생 \\n', arr)"
      ],
      "metadata": {
        "colab": {
          "base_uri": "https://localhost:8080/"
        },
        "id": "L6EbfiQo9HqS",
        "outputId": "9bc30606-f6e6-4573-faa9-0a1c2151af6d"
      },
      "execution_count": 73,
      "outputs": [
        {
          "output_type": "stream",
          "name": "stdout",
          "text": [
            "난수 발생 \n",
            " [4.17022005e-01 7.20324493e-01 1.14374817e-04 3.02332573e-01\n",
            " 1.46755891e-01 9.23385948e-02 1.86260211e-01 3.45560727e-01\n",
            " 3.96767474e-01 5.38816734e-01]\n",
            "난수 발생 \n",
            " [0.41919451 0.6852195  0.20445225 0.87811744 0.02738759 0.67046751\n",
            " 0.4173048  0.55868983 0.14038694 0.19810149]\n"
          ]
        }
      ]
    },
    {
      "cell_type": "markdown",
      "source": [
        "## N차원 배열의 인덱싱"
      ],
      "metadata": {
        "id": "xAl14u82C9uB"
      }
    },
    {
      "cell_type": "code",
      "source": [
        "# 1차원 배열 생성하기\n",
        "arr = np.array([1,2,3])\n",
        "print(arr)\n",
        "\n",
        "# arange 사용해서 1차원 배열 생성하기\n",
        "arr = np.arange(9)\n",
        "arr = np.array(arr)\n",
        "print(arr)"
      ],
      "metadata": {
        "colab": {
          "base_uri": "https://localhost:8080/"
        },
        "id": "9FMYIAgZC9-n",
        "outputId": "a2effccb-d97f-42d7-ac1d-b11fa4884697"
      },
      "execution_count": 75,
      "outputs": [
        {
          "output_type": "stream",
          "name": "stdout",
          "text": [
            "[1 2 3]\n",
            "[0 1 2 3 4 5 6 7 8]\n"
          ]
        }
      ]
    },
    {
      "cell_type": "code",
      "source": [
        "# 2차원 배열 생성하기\n",
        "arr = np.array([[1,2,3,4],[5,6,7,8],[9,0,1,2]])\n",
        "print(arr)\n",
        "print(arr.ndim) # 차원\n",
        "print(arr.shape)\n",
        "print(arr.size)"
      ],
      "metadata": {
        "colab": {
          "base_uri": "https://localhost:8080/"
        },
        "id": "OwuYc-_mEBR8",
        "outputId": "a46e869b-51e9-4b25-bab8-6699b2d47e91"
      },
      "execution_count": 78,
      "outputs": [
        {
          "output_type": "stream",
          "name": "stdout",
          "text": [
            "[[1 2 3 4]\n",
            " [5 6 7 8]\n",
            " [9 0 1 2]]\n",
            "2\n",
            "(3, 4)\n",
            "12\n"
          ]
        }
      ]
    },
    {
      "cell_type": "code",
      "source": [
        "arr = np.array([0,1,2,3,4,5,6,7,8,9])\n",
        "\n",
        "print(arr[3:8]) # 3부터 7까지\n",
        "print(arr[:8]) # 처음부터 7까지\n",
        "print(arr[1:]) # 1부터 끝까지"
      ],
      "metadata": {
        "colab": {
          "base_uri": "https://localhost:8080/"
        },
        "id": "joX26EwfErVi",
        "outputId": "724d2c42-f6b8-45cb-a60a-9f081eeb89c4"
      },
      "execution_count": 81,
      "outputs": [
        {
          "output_type": "stream",
          "name": "stdout",
          "text": [
            "[3 4 5 6 7]\n",
            "[0 1 2 3 4 5 6 7]\n",
            "[1 2 3 4 5 6 7 8 9]\n"
          ]
        }
      ]
    },
    {
      "cell_type": "code",
      "source": [
        "arr = np.array([[1,2,3,4],\n",
        "                [5,6,7,8],\n",
        "                [9,10,11,12]])\n",
        "print(arr[0,:]) # 0번행의 전체\n",
        "print(arr[:,1]) # 모든 행의 1번 열\n",
        "print(arr[:2,2:])"
      ],
      "metadata": {
        "colab": {
          "base_uri": "https://localhost:8080/"
        },
        "id": "2kJ7bkQBFFlW",
        "outputId": "cad7685e-cb2b-4ef7-fe25-dbd3bd3d455b"
      },
      "execution_count": 82,
      "outputs": [
        {
          "output_type": "stream",
          "name": "stdout",
          "text": [
            "[1 2 3 4]\n",
            "[ 2  6 10]\n",
            "[[3 4]\n",
            " [7 8]]\n"
          ]
        }
      ]
    },
    {
      "cell_type": "markdown",
      "source": [
        "## 배열의 Fancy 인덱싱 : 특정 인덱스를 여러개 선택해서 탐색하는 방법"
      ],
      "metadata": {
        "id": "Q2Wo41tOFuqY"
      }
    },
    {
      "cell_type": "code",
      "source": [
        "# 0부터 30까지 5 단위로 나눠서 출력\n",
        "arr = np.arange(0,31,5)\n",
        "print(arr)"
      ],
      "metadata": {
        "colab": {
          "base_uri": "https://localhost:8080/"
        },
        "id": "W3PrRVY2F7O1",
        "outputId": "ef0a6b16-8103-4d2a-c54d-65bea2b2b6ef"
      },
      "execution_count": 84,
      "outputs": [
        {
          "output_type": "stream",
          "name": "stdout",
          "text": [
            "[ 0  5 10 15 20 25 30]\n"
          ]
        }
      ]
    },
    {
      "cell_type": "code",
      "source": [
        "arr = np.array([[1,2,3,4],\n",
        "                [5,6,7,8],\n",
        "                [9,10,11,12]])\n",
        "\n",
        "print(arr[[0,2],2:]) # 0번째 행, 2번째 행에서 2번째부터 마지막 열 값 가져오기"
      ],
      "metadata": {
        "colab": {
          "base_uri": "https://localhost:8080/"
        },
        "id": "JJi2agYvGQhs",
        "outputId": "74be45cd-0ccf-4c3e-a33c-4895f464ea48"
      },
      "execution_count": 85,
      "outputs": [
        {
          "output_type": "stream",
          "name": "stdout",
          "text": [
            "[[ 3  4]\n",
            " [11 12]]\n"
          ]
        }
      ]
    },
    {
      "cell_type": "markdown",
      "source": [
        "## 배열의 Boolean 인덱싱"
      ],
      "metadata": {
        "id": "jenEtnYvG2e9"
      }
    },
    {
      "cell_type": "code",
      "source": [
        "arr = np.array([1,2,3,4])\n",
        "print(arr[[True,False,True,True]]) # True인 항목만 추출\n",
        "\n",
        "arr = np.array([[1,2,3,4],\n",
        "                [5,6,7,8]])\n",
        "\n",
        "print(arr[[True,False],True])"
      ],
      "metadata": {
        "colab": {
          "base_uri": "https://localhost:8080/"
        },
        "id": "0bKHTIiMGphU",
        "outputId": "e46e82aa-858d-4e06-e630-057a81ffa1cb"
      },
      "execution_count": 89,
      "outputs": [
        {
          "output_type": "stream",
          "name": "stdout",
          "text": [
            "[1 3 4]\n",
            "[[1 2 3 4]]\n"
          ]
        }
      ]
    },
    {
      "cell_type": "code",
      "source": [
        "print(arr[arr>3]) # 배열 내에 있는 원소들중 3보다 큰 값만 출력"
      ],
      "metadata": {
        "colab": {
          "base_uri": "https://localhost:8080/"
        },
        "id": "-g1PCpSmHUHF",
        "outputId": "7b4111dd-f331-46c2-90d7-8639268010bf"
      },
      "execution_count": 91,
      "outputs": [
        {
          "output_type": "stream",
          "name": "stdout",
          "text": [
            "[4 5 6 7 8]\n"
          ]
        }
      ]
    }
  ]
}