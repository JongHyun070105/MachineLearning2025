{
  "cells": [
    {
      "cell_type": "markdown",
      "metadata": {
        "id": "view-in-github",
        "colab_type": "text"
      },
      "source": [
        "<a href=\"https://colab.research.google.com/github/JongHyun070105/MachineLearning2025/blob/main/3710%EB%B0%95%EC%A2%85%ED%98%84_numpy_practice_01.ipynb\" target=\"_parent\"><img src=\"https://colab.research.google.com/assets/colab-badge.svg\" alt=\"Open In Colab\"/></a>"
      ]
    },
    {
      "cell_type": "markdown",
      "id": "4322d8e8",
      "metadata": {
        "id": "4322d8e8"
      },
      "source": [
        "## N차원 배열 생성하기\n"
      ]
    },
    {
      "cell_type": "markdown",
      "id": "f6973aa6",
      "metadata": {
        "id": "f6973aa6"
      },
      "source": [
        "### 1. numpy를 np라는 이름으로 불러오고, 1차원 배열 [10, 20, 30, 40, 50]을 생성하여 출력하세요.\n"
      ]
    },
    {
      "cell_type": "code",
      "source": [
        "import numpy as np\n",
        "\n",
        "arr = np.array([10,20,30,40,50])\n",
        "print(arr)"
      ],
      "metadata": {
        "colab": {
          "base_uri": "https://localhost:8080/"
        },
        "id": "Ogl6NuWBsOPd",
        "outputId": "0d0f681a-9af7-4c8c-c289-d33d4cf1ad16"
      },
      "id": "Ogl6NuWBsOPd",
      "execution_count": null,
      "outputs": [
        {
          "output_type": "stream",
          "name": "stdout",
          "text": [
            "[10 20 30 40 50]\n"
          ]
        }
      ]
    },
    {
      "cell_type": "markdown",
      "id": "4617f72e",
      "metadata": {
        "id": "4617f72e"
      },
      "source": [
        "### 2. 2차원 배열 [[1, 2, 3], [4, 5, 6]]을 생성하고, 해당 배열의 shape을 출력하세요.\n"
      ]
    },
    {
      "cell_type": "code",
      "source": [
        "arr1 = np.array([[1,2,3],[4,5,6]])\n",
        "print(arr1.shape)"
      ],
      "metadata": {
        "colab": {
          "base_uri": "https://localhost:8080/"
        },
        "id": "cl2DULsusaA-",
        "outputId": "4a391327-3b99-4f5a-eaf9-8e53c425202e"
      },
      "id": "cl2DULsusaA-",
      "execution_count": null,
      "outputs": [
        {
          "output_type": "stream",
          "name": "stdout",
          "text": [
            "(2, 3)\n"
          ]
        }
      ]
    },
    {
      "cell_type": "markdown",
      "id": "07d9c246",
      "metadata": {
        "id": "07d9c246"
      },
      "source": [
        "### 3. 3차원 배열을 생성하고 ndim 속성을 사용하여 배열의 차원을 출력하세요.\n"
      ]
    },
    {
      "cell_type": "code",
      "source": [
        "arr2 = np.array([[[1,2,3],[4,5,6]]])\n",
        "print(arr2.ndim)"
      ],
      "metadata": {
        "colab": {
          "base_uri": "https://localhost:8080/"
        },
        "id": "aw1wpsG5sttI",
        "outputId": "2276d1cc-f1e1-41d2-e7eb-4b908fe92e69"
      },
      "id": "aw1wpsG5sttI",
      "execution_count": null,
      "outputs": [
        {
          "output_type": "stream",
          "name": "stdout",
          "text": [
            "3\n"
          ]
        }
      ]
    },
    {
      "cell_type": "markdown",
      "id": "a1c35ee7",
      "metadata": {
        "id": "a1c35ee7"
      },
      "source": [
        "### 4. dtype 속성을 이용하여 np.array([1.2, 2.3, 3.4])의 데이터 타입을 출력하세요.\n"
      ]
    },
    {
      "cell_type": "code",
      "source": [
        "print(np.array([1.2,2.3,3.4]).dtype)"
      ],
      "metadata": {
        "colab": {
          "base_uri": "https://localhost:8080/"
        },
        "id": "tx6pYxQhsz0s",
        "outputId": "775363d4-7834-493c-e9bd-d4d1a55d30ba"
      },
      "id": "tx6pYxQhsz0s",
      "execution_count": null,
      "outputs": [
        {
          "output_type": "stream",
          "name": "stdout",
          "text": [
            "float64\n"
          ]
        }
      ]
    },
    {
      "cell_type": "markdown",
      "id": "ad6d0098",
      "metadata": {
        "id": "ad6d0098"
      },
      "source": [
        "## N차원 배열의 데이터 타입\n"
      ]
    },
    {
      "cell_type": "markdown",
      "id": "fe501189",
      "metadata": {
        "id": "fe501189"
      },
      "source": [
        "### 5. [1, 2, 3]을 리스트로 생성했을 때와 넘파이 배열로 생성했을 때의 type() 값을 비교하여 출력하세요.\n"
      ]
    },
    {
      "cell_type": "code",
      "source": [
        "li = [1,2,3]\n",
        "arr = np.array([1,2,3])\n",
        "\n",
        "print(li,type(li))\n",
        "print(arr,type(arr))"
      ],
      "metadata": {
        "colab": {
          "base_uri": "https://localhost:8080/"
        },
        "id": "8bXPN0u9tMdg",
        "outputId": "bee75c30-5df1-447d-a028-f0d2136eb85a"
      },
      "id": "8bXPN0u9tMdg",
      "execution_count": null,
      "outputs": [
        {
          "output_type": "stream",
          "name": "stdout",
          "text": [
            "[1, 2, 3] <class 'list'>\n",
            "[1 2 3] <class 'numpy.ndarray'>\n"
          ]
        }
      ]
    },
    {
      "cell_type": "markdown",
      "id": "c4284b4c",
      "metadata": {
        "id": "c4284b4c"
      },
      "source": [
        "### 6. np.array([1, 2, 3], dtype=np.float32)를 생성하고 해당 배열의 데이터 타입을 출력하세요.\n"
      ]
    },
    {
      "cell_type": "code",
      "source": [
        "print(np.array([1,2,3],dtype=np.float32).dtype)"
      ],
      "metadata": {
        "colab": {
          "base_uri": "https://localhost:8080/"
        },
        "id": "cdCKkel_ttls",
        "outputId": "f212dc5e-a97c-4c25-e85f-b73d28ae6320"
      },
      "id": "cdCKkel_ttls",
      "execution_count": null,
      "outputs": [
        {
          "output_type": "stream",
          "name": "stdout",
          "text": [
            "float32\n"
          ]
        }
      ]
    },
    {
      "cell_type": "markdown",
      "id": "82a687e8",
      "metadata": {
        "id": "82a687e8"
      },
      "source": [
        "### 7. np.array([1.5, 2.5, 3.5], dtype=int)를 생성하고 출력을 했을 때의 결과를 예측하고 실행해보세요.\n"
      ]
    },
    {
      "cell_type": "code",
      "source": [
        "# 2, 3, 4 -> 예측 실패 (자리 수를 반올림 하는 것이 아닌 버림)\n",
        "\n",
        "print(np.array([1.5, 2.5, 3.5], dtype = int))"
      ],
      "metadata": {
        "colab": {
          "base_uri": "https://localhost:8080/"
        },
        "id": "6nU7st6Jt8n5",
        "outputId": "7c0edaf1-8d39-4587-f154-c8cb74ac2ce2"
      },
      "id": "6nU7st6Jt8n5",
      "execution_count": null,
      "outputs": [
        {
          "output_type": "stream",
          "name": "stdout",
          "text": [
            "[1 2 3]\n"
          ]
        }
      ]
    },
    {
      "cell_type": "markdown",
      "id": "8fad5884",
      "metadata": {
        "id": "8fad5884"
      },
      "source": [
        "### 8. astype()을 사용하여 정수 배열을 실수 배열로 변환하고 출력하세요.\n"
      ]
    },
    {
      "cell_type": "code",
      "source": [
        "print(np.array([1,2,3]).astype(float))"
      ],
      "metadata": {
        "colab": {
          "base_uri": "https://localhost:8080/"
        },
        "id": "O40mTts2uNii",
        "outputId": "3f560dcc-c17f-4233-e4e1-e39eb7bf0100"
      },
      "id": "O40mTts2uNii",
      "execution_count": null,
      "outputs": [
        {
          "output_type": "stream",
          "name": "stdout",
          "text": [
            "[1. 2. 3.]\n"
          ]
        }
      ]
    },
    {
      "cell_type": "markdown",
      "id": "7ce2cf07",
      "metadata": {
        "id": "7ce2cf07"
      },
      "source": [
        "## 정해진 형식의 N차원 배열 생성하기\n"
      ]
    },
    {
      "cell_type": "markdown",
      "id": "eea6e8ee",
      "metadata": {
        "id": "eea6e8ee"
      },
      "source": [
        "### 9. 3x3 크기의 0으로 채워진 배열을 생성하세요.\n"
      ]
    },
    {
      "cell_type": "code",
      "source": [
        "print(np.zeros((3,3)))"
      ],
      "metadata": {
        "colab": {
          "base_uri": "https://localhost:8080/"
        },
        "id": "lHV5xinEuZ5P",
        "outputId": "9bd76d0c-9f8e-48c2-c46b-d76b7bc1ef21"
      },
      "id": "lHV5xinEuZ5P",
      "execution_count": null,
      "outputs": [
        {
          "output_type": "stream",
          "name": "stdout",
          "text": [
            "[[0. 0. 0.]\n",
            " [0. 0. 0.]\n",
            " [0. 0. 0.]]\n"
          ]
        }
      ]
    },
    {
      "cell_type": "markdown",
      "id": "e9a1a7d2",
      "metadata": {
        "id": "e9a1a7d2"
      },
      "source": [
        "### 10. 4x2 크기의 1로 채워진 배열을 생성하세요.\n"
      ]
    },
    {
      "cell_type": "code",
      "source": [
        "print(np.ones((4,2)))"
      ],
      "metadata": {
        "colab": {
          "base_uri": "https://localhost:8080/"
        },
        "id": "ZpTv9-NvuhZj",
        "outputId": "fafb8642-cb4c-4632-8e7d-b02154c1b8f6"
      },
      "id": "ZpTv9-NvuhZj",
      "execution_count": null,
      "outputs": [
        {
          "output_type": "stream",
          "name": "stdout",
          "text": [
            "[[1. 1.]\n",
            " [1. 1.]\n",
            " [1. 1.]\n",
            " [1. 1.]]\n"
          ]
        }
      ]
    },
    {
      "cell_type": "markdown",
      "id": "0737648f",
      "metadata": {
        "id": "0737648f"
      },
      "source": [
        "### 11. 5x5 크기의 모든 원소가 7인 배열을 생성하세요.\n"
      ]
    },
    {
      "cell_type": "code",
      "source": [
        "print(np.full((5,5),7))"
      ],
      "metadata": {
        "colab": {
          "base_uri": "https://localhost:8080/"
        },
        "id": "Du8vqzu7uj5p",
        "outputId": "e6ec15fa-04ce-47b6-8999-9736eb1b573e"
      },
      "id": "Du8vqzu7uj5p",
      "execution_count": null,
      "outputs": [
        {
          "output_type": "stream",
          "name": "stdout",
          "text": [
            "[[7 7 7 7 7]\n",
            " [7 7 7 7 7]\n",
            " [7 7 7 7 7]\n",
            " [7 7 7 7 7]\n",
            " [7 7 7 7 7]]\n"
          ]
        }
      ]
    },
    {
      "cell_type": "markdown",
      "id": "d5c3eca9",
      "metadata": {
        "id": "d5c3eca9"
      },
      "source": [
        "### 12. np.eye(4)을 사용하여 4x4 단위 행렬을 생성하세요.\n"
      ]
    },
    {
      "cell_type": "code",
      "source": [
        "print(np.eye(4))"
      ],
      "metadata": {
        "colab": {
          "base_uri": "https://localhost:8080/"
        },
        "id": "XJyBitDVurVc",
        "outputId": "e83b196d-0233-45a7-e15b-5200bf37fe5a"
      },
      "id": "XJyBitDVurVc",
      "execution_count": null,
      "outputs": [
        {
          "output_type": "stream",
          "name": "stdout",
          "text": [
            "[[1. 0. 0. 0.]\n",
            " [0. 1. 0. 0.]\n",
            " [0. 0. 1. 0.]\n",
            " [0. 0. 0. 1.]]\n"
          ]
        }
      ]
    },
    {
      "cell_type": "markdown",
      "id": "db7ddad5",
      "metadata": {
        "id": "db7ddad5"
      },
      "source": [
        "### 13. np.linspace(0, 100, 5)를 사용하여 0에서 100까지 5개의 원소를 가지는 배열을 생성하세요.\n"
      ]
    },
    {
      "cell_type": "code",
      "source": [
        "print(np.linspace(0,100,5))"
      ],
      "metadata": {
        "colab": {
          "base_uri": "https://localhost:8080/"
        },
        "id": "lHFOC32-uvuA",
        "outputId": "84368de6-2168-4508-8c28-4623f0533795"
      },
      "id": "lHFOC32-uvuA",
      "execution_count": null,
      "outputs": [
        {
          "output_type": "stream",
          "name": "stdout",
          "text": [
            "[  0.  25.  50.  75. 100.]\n"
          ]
        }
      ]
    },
    {
      "cell_type": "markdown",
      "id": "7531b07f",
      "metadata": {
        "id": "7531b07f"
      },
      "source": [
        "## 난수로 이루어진 N차원 배열 생성하기\n"
      ]
    },
    {
      "cell_type": "markdown",
      "id": "5e0bd454",
      "metadata": {
        "id": "5e0bd454"
      },
      "source": [
        "### 14. np.random.rand(3,3)을 사용하여 3x3 크기의 난수 배열을 생성하세요.\n"
      ]
    },
    {
      "cell_type": "code",
      "source": [
        "np.random.rand(3,3)"
      ],
      "metadata": {
        "colab": {
          "base_uri": "https://localhost:8080/"
        },
        "id": "58Y9lwzau8_8",
        "outputId": "a0571a5d-e417-4020-e08f-f049c9e85f03"
      },
      "id": "58Y9lwzau8_8",
      "execution_count": null,
      "outputs": [
        {
          "output_type": "execute_result",
          "data": {
            "text/plain": [
              "array([[0.8582036 , 0.16233993, 0.60915703],\n",
              "       [0.49086211, 0.09964579, 0.94967774],\n",
              "       [0.98175147, 0.08517673, 0.29253764]])"
            ]
          },
          "metadata": {},
          "execution_count": 29
        }
      ]
    },
    {
      "cell_type": "markdown",
      "id": "eee4c60f",
      "metadata": {
        "id": "eee4c60f"
      },
      "source": [
        "### 15. np.random.randn(4,4)을 사용하여 평균이 0이고, 표준편차가 1인 정규 분포를 따르는 4x4 크기의 배열을 생성하세요.\n"
      ]
    },
    {
      "cell_type": "code",
      "source": [
        "np.random.randn(4,4)"
      ],
      "metadata": {
        "colab": {
          "base_uri": "https://localhost:8080/"
        },
        "id": "pwUsO29ju_qG",
        "outputId": "8db60dd1-92dc-42a5-9463-a30028522684"
      },
      "id": "pwUsO29ju_qG",
      "execution_count": null,
      "outputs": [
        {
          "output_type": "execute_result",
          "data": {
            "text/plain": [
              "array([[-0.19489203, -1.56527135,  0.04507047,  0.28496486],\n",
              "       [ 1.99462232, -0.47981562, -0.24136313,  0.49767514],\n",
              "       [-0.73194894,  0.93658098,  1.80017209, -0.01741024],\n",
              "       [ 0.16972206, -1.06027489,  0.40748883,  0.46819551]])"
            ]
          },
          "metadata": {},
          "execution_count": 33
        }
      ]
    },
    {
      "cell_type": "markdown",
      "id": "8e1da7d0",
      "metadata": {
        "id": "8e1da7d0"
      },
      "source": [
        "### 16. np.random.randint(10, size=(3,3))을 사용하여 0에서 9 사이의 정수 난수로 이루어진 3x3 배열을 생성하세요.\n"
      ]
    },
    {
      "cell_type": "code",
      "source": [
        "np.random.randint(10,size=(3,3))"
      ],
      "metadata": {
        "colab": {
          "base_uri": "https://localhost:8080/"
        },
        "id": "ORLGw2j5vJgk",
        "outputId": "942eb857-bb4c-41f6-c10c-9e8364f91c22"
      },
      "id": "ORLGw2j5vJgk",
      "execution_count": null,
      "outputs": [
        {
          "output_type": "execute_result",
          "data": {
            "text/plain": [
              "array([[1, 9, 8],\n",
              "       [0, 0, 7],\n",
              "       [7, 6, 9]])"
            ]
          },
          "metadata": {},
          "execution_count": 34
        }
      ]
    },
    {
      "cell_type": "markdown",
      "id": "e136a3a6",
      "metadata": {
        "id": "e136a3a6"
      },
      "source": [
        "## 시드값을 통한 난수 생성 제어\n"
      ]
    },
    {
      "cell_type": "markdown",
      "id": "4bc9ca33",
      "metadata": {
        "id": "4bc9ca33"
      },
      "source": [
        "### 17. np.random.seed(42)를 설정한 후, np.random.rand(3,3)을 실행하고 다시 실행했을 때 같은 결과가 나오는지 확인하세요.\n"
      ]
    },
    {
      "cell_type": "code",
      "source": [
        "np.random.seed(42)\n",
        "np.random.rand(3,3)"
      ],
      "metadata": {
        "colab": {
          "base_uri": "https://localhost:8080/"
        },
        "id": "QG26exvRvM9R",
        "outputId": "bf0e94a9-b8d4-438e-f944-5bbf32c4cc21"
      },
      "id": "QG26exvRvM9R",
      "execution_count": null,
      "outputs": [
        {
          "output_type": "execute_result",
          "data": {
            "text/plain": [
              "array([[0.37454012, 0.95071431, 0.73199394],\n",
              "       [0.59865848, 0.15601864, 0.15599452],\n",
              "       [0.05808361, 0.86617615, 0.60111501]])"
            ]
          },
          "metadata": {},
          "execution_count": 36
        }
      ]
    },
    {
      "cell_type": "markdown",
      "id": "5098d170",
      "metadata": {
        "id": "5098d170"
      },
      "source": [
        "### 18. np.random.seed(100)을 설정한 후, np.random.randint(1, 100, 10)을 실행하여 결과를 확인하세요.\n"
      ]
    },
    {
      "cell_type": "code",
      "source": [
        "np.random.seed(100)\n",
        "np.random.randint(1,100,10)"
      ],
      "metadata": {
        "id": "xCnRQrnwvpeu"
      },
      "id": "xCnRQrnwvpeu",
      "execution_count": null,
      "outputs": []
    },
    {
      "cell_type": "markdown",
      "id": "20496965",
      "metadata": {
        "id": "20496965"
      },
      "source": [
        "## 추가 문제\n"
      ]
    },
    {
      "cell_type": "markdown",
      "id": "2ce0fc17",
      "metadata": {
        "id": "2ce0fc17"
      },
      "source": [
        "### 19. np.arange(1, 21).reshape(4,5)를 사용하여 4x5 배열을 생성하고 출력하세요.\n"
      ]
    },
    {
      "cell_type": "code",
      "source": [
        "arr = np.arange(1,21).reshape(4,5)\n",
        "print(arr)"
      ],
      "metadata": {
        "colab": {
          "base_uri": "https://localhost:8080/"
        },
        "id": "OTwaEMwsvTCU",
        "outputId": "89d67578-7a54-484b-dfab-5d9e29346aeb"
      },
      "id": "OTwaEMwsvTCU",
      "execution_count": null,
      "outputs": [
        {
          "output_type": "stream",
          "name": "stdout",
          "text": [
            "[[ 1  2  3  4  5]\n",
            " [ 6  7  8  9 10]\n",
            " [11 12 13 14 15]\n",
            " [16 17 18 19 20]]\n"
          ]
        }
      ]
    },
    {
      "cell_type": "markdown",
      "id": "84a24b3e",
      "metadata": {
        "id": "84a24b3e"
      },
      "source": [
        "### 20. 위에서 생성한 배열에서 2번째 행을 가져와 출력하세요.\n"
      ]
    },
    {
      "cell_type": "code",
      "execution_count": null,
      "id": "a4f66700",
      "metadata": {
        "colab": {
          "base_uri": "https://localhost:8080/"
        },
        "id": "a4f66700",
        "outputId": "e9fb1e36-3958-44d1-eca2-ab1a182b3b3b"
      },
      "outputs": [
        {
          "output_type": "stream",
          "name": "stdout",
          "text": [
            "[[ 6  7  8  9 10]]\n"
          ]
        }
      ],
      "source": [
        "print(arr[1:2])"
      ]
    }
  ],
  "metadata": {
    "colab": {
      "provenance": [],
      "include_colab_link": true
    },
    "language_info": {
      "name": "python"
    },
    "kernelspec": {
      "name": "python3",
      "display_name": "Python 3"
    }
  },
  "nbformat": 4,
  "nbformat_minor": 5
}