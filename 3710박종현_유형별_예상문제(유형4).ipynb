{
  "nbformat": 4,
  "nbformat_minor": 0,
  "metadata": {
    "colab": {
      "provenance": [],
      "include_colab_link": true
    },
    "kernelspec": {
      "name": "python3",
      "display_name": "Python 3"
    },
    "language_info": {
      "name": "python"
    }
  },
  "cells": [
    {
      "cell_type": "markdown",
      "metadata": {
        "id": "view-in-github",
        "colab_type": "text"
      },
      "source": [
        "<a href=\"https://colab.research.google.com/github/JongHyun070105/MachineLearning2025/blob/main/3710%EB%B0%95%EC%A2%85%ED%98%84_%EC%9C%A0%ED%98%95%EB%B3%84_%EC%98%88%EC%83%81%EB%AC%B8%EC%A0%9C(%EC%9C%A0%ED%98%954).ipynb\" target=\"_parent\"><img src=\"https://colab.research.google.com/assets/colab-badge.svg\" alt=\"Open In Colab\"/></a>"
      ]
    },
    {
      "cell_type": "markdown",
      "source": [
        "# 유형별 예상문제(유형4)\n",
        "# 데이터 분포 시각화"
      ],
      "metadata": {
        "id": "5LWsnVhKXymr"
      }
    },
    {
      "cell_type": "code",
      "source": [
        "# 01. origin 컬럼의 분포를 countplot을 활용하여 시각화하세요.\n",
        "# Seaborn 라이브러리를 활용하세요.\n",
        "# countplot()을 이용해 origin 컬럼의 분포를 시각화하세요.\n",
        "\n",
        "import seaborn as sns\n",
        "sns.countplot(data = df, x = 'origin')"
      ],
      "metadata": {
        "id": "nkxp_ssPYRQq"
      },
      "execution_count": null,
      "outputs": []
    },
    {
      "cell_type": "code",
      "source": [
        "# 02. mpg(연비) 컬럼의 분포를 histplot을 활용하여 시각화하세요.\n",
        "# Seaborn 라이브러리를 활용하세요.\n",
        "# histplot()을 이용해 mpg 컬럼의 분포를 시각화하세요.\n",
        "\n",
        "sns.histplot(data = df, x = 'mpg')"
      ],
      "metadata": {
        "id": "waosqEPpYbke"
      },
      "execution_count": null,
      "outputs": []
    },
    {
      "cell_type": "code",
      "source": [
        "# 03. weight 컬럼의 분포를 boxplot을 활용하여 시각화하세요.\n",
        "# Seaborn 라이브러리를 활용하세요.\n",
        "# boxplot()을 이용해 weight 컬럼의 분포를 시각화하세요.\n",
        "\n",
        "sns.boxplot(data = df, x = 'weight')"
      ],
      "metadata": {
        "id": "ytnFv3TgYjka"
      },
      "execution_count": null,
      "outputs": []
    },
    {
      "cell_type": "code",
      "source": [
        "# 04. horsepower 컬럼의 분포를 violinplot을 활용하여 시각화하세요.\n",
        "# Seaborn 라이브러리를 활용하세요.\n",
        "# violinplot()을 이용해 horsepower 컬럼의 분포를 시각화하세요.\n",
        "\n",
        "sns.violinplot(data = df, x = 'horsepower')"
      ],
      "metadata": {
        "id": "mP44Rd7mYqbT"
      },
      "execution_count": null,
      "outputs": []
    },
    {
      "cell_type": "code",
      "source": [
        "# 05. model_year 컬럼의 빈도를 막대 그래프로 시각화하세요.\n",
        "# Matplotlib 라이브러리를 활용하세요.\n",
        "# value_counts()를 이용해 model_year 컬럼의 빈도를 막대 그래프로 표현하세요.\n",
        "import matplotlib.pyplot as plt\n",
        "df['model_year'].value_counts().sort_index().plot(kind = 'bar')"
      ],
      "metadata": {
        "id": "_AcK2Jh5Yqlq"
      },
      "execution_count": null,
      "outputs": []
    },
    {
      "cell_type": "code",
      "source": [],
      "metadata": {
        "id": "28yjgDoQ1dwW"
      },
      "execution_count": null,
      "outputs": []
    }
  ]
}