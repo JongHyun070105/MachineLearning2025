{
  "cells": [
    {
      "cell_type": "markdown",
      "metadata": {
        "id": "view-in-github",
        "colab_type": "text"
      },
      "source": [
        "<a href=\"https://colab.research.google.com/github/JongHyun070105/MachineLearning2025/blob/main/3710%EB%B0%95%EC%A2%85%ED%98%84_Pandas_Series_Problems.ipynb\" target=\"_parent\"><img src=\"https://colab.research.google.com/assets/colab-badge.svg\" alt=\"Open In Colab\"/></a>"
      ]
    },
    {
      "cell_type": "markdown",
      "id": "db399e08",
      "metadata": {
        "id": "db399e08"
      },
      "source": [
        "# Pandas Series 문제 모음\n",
        "\n",
        "아래 문제를 순서대로 풀어보세요!"
      ]
    },
    {
      "cell_type": "markdown",
      "id": "5c520f3c",
      "metadata": {
        "id": "5c520f3c"
      },
      "source": [
        "## 문제 1\n",
        "1. Series 생성하기\n",
        " - Python의 리스트 [10, 20, 30, 40, 50]을 이용하여 Pandas Series를 생성하는 코드를 작성하세요."
      ]
    },
    {
      "cell_type": "code",
      "source": [
        "import pandas as pd\n",
        "a = list(range(10, 51, 10))\n",
        "a = pd.Series(a)\n",
        "print(a)"
      ],
      "metadata": {
        "colab": {
          "base_uri": "https://localhost:8080/"
        },
        "id": "rZA04I_WKcMf",
        "outputId": "4fe29b0a-7161-430b-d694-710b6eeb5350"
      },
      "id": "rZA04I_WKcMf",
      "execution_count": 2,
      "outputs": [
        {
          "output_type": "stream",
          "name": "stdout",
          "text": [
            "0    10\n",
            "1    20\n",
            "2    30\n",
            "3    40\n",
            "4    50\n",
            "dtype: int64\n"
          ]
        }
      ]
    },
    {
      "cell_type": "markdown",
      "id": "52c2aeff",
      "metadata": {
        "id": "52c2aeff"
      },
      "source": [
        "## 문제 2\n",
        "2. Series의 인덱스 설정하기\n",
        " - 아래와 같은 데이터를 가지는 Pandas Series를 생성하세요.\n",
        "   데이터: [100, 200, 300, 400]\n",
        "   인덱스: ['A', 'B', 'C', 'D']"
      ]
    },
    {
      "cell_type": "code",
      "source": [
        "b = pd.Series([100, 200, 300, 400], index=['A', 'B', 'C', 'D'])\n",
        "b"
      ],
      "metadata": {
        "colab": {
          "base_uri": "https://localhost:8080/",
          "height": 210
        },
        "id": "cz18C7lZKkZE",
        "outputId": "f343940a-a3b0-4672-e7f7-3a9091e6fdd8"
      },
      "id": "cz18C7lZKkZE",
      "execution_count": 5,
      "outputs": [
        {
          "output_type": "execute_result",
          "data": {
            "text/plain": [
              "A    100\n",
              "B    200\n",
              "C    300\n",
              "D    400\n",
              "dtype: int64"
            ],
            "text/html": [
              "<div>\n",
              "<style scoped>\n",
              "    .dataframe tbody tr th:only-of-type {\n",
              "        vertical-align: middle;\n",
              "    }\n",
              "\n",
              "    .dataframe tbody tr th {\n",
              "        vertical-align: top;\n",
              "    }\n",
              "\n",
              "    .dataframe thead th {\n",
              "        text-align: right;\n",
              "    }\n",
              "</style>\n",
              "<table border=\"1\" class=\"dataframe\">\n",
              "  <thead>\n",
              "    <tr style=\"text-align: right;\">\n",
              "      <th></th>\n",
              "      <th>0</th>\n",
              "    </tr>\n",
              "  </thead>\n",
              "  <tbody>\n",
              "    <tr>\n",
              "      <th>A</th>\n",
              "      <td>100</td>\n",
              "    </tr>\n",
              "    <tr>\n",
              "      <th>B</th>\n",
              "      <td>200</td>\n",
              "    </tr>\n",
              "    <tr>\n",
              "      <th>C</th>\n",
              "      <td>300</td>\n",
              "    </tr>\n",
              "    <tr>\n",
              "      <th>D</th>\n",
              "      <td>400</td>\n",
              "    </tr>\n",
              "  </tbody>\n",
              "</table>\n",
              "</div><br><label><b>dtype:</b> int64</label>"
            ]
          },
          "metadata": {},
          "execution_count": 5
        }
      ]
    },
    {
      "cell_type": "markdown",
      "id": "a3bcd59d",
      "metadata": {
        "id": "a3bcd59d"
      },
      "source": [
        "## 문제 3\n",
        "3. Series의 데이터 타입 확인하기\n",
        " - 위에서 만든 Series의 데이터 타입(dtype)을 확인하는 코드를 작성하세요."
      ]
    },
    {
      "cell_type": "code",
      "source": [
        "print(b.dtype)"
      ],
      "metadata": {
        "colab": {
          "base_uri": "https://localhost:8080/"
        },
        "id": "WgmZPcRuKsHr",
        "outputId": "36beec5e-925b-4e31-dd51-27fd12932506"
      },
      "id": "WgmZPcRuKsHr",
      "execution_count": 8,
      "outputs": [
        {
          "output_type": "stream",
          "name": "stdout",
          "text": [
            "int64\n"
          ]
        }
      ]
    },
    {
      "cell_type": "markdown",
      "id": "568fda25",
      "metadata": {
        "id": "568fda25"
      },
      "source": [
        "## 문제 4\n",
        "4. Series에서 특정 값 선택하기\n",
        " - 위에서 만든 Series에서 인덱스 'B'에 해당하는 값을 출력하는 코드를 작성하세요."
      ]
    },
    {
      "cell_type": "code",
      "source": [
        "print(b['B'])"
      ],
      "metadata": {
        "colab": {
          "base_uri": "https://localhost:8080/"
        },
        "id": "7sf8tjXJK-Ug",
        "outputId": "0e7ee7ca-b8a2-400e-f400-0b74261de4fe"
      },
      "id": "7sf8tjXJK-Ug",
      "execution_count": 12,
      "outputs": [
        {
          "output_type": "stream",
          "name": "stdout",
          "text": [
            "200\n"
          ]
        }
      ]
    },
    {
      "cell_type": "markdown",
      "id": "de683678",
      "metadata": {
        "id": "de683678"
      },
      "source": [
        "## 문제 5\n",
        "5. Series의 여러 개의 원소 선택하기\n",
        " - 위의 Series에서 'A'와 'C' 인덱스에 해당하는 값을 선택하는 코드를 작성하세요."
      ]
    },
    {
      "cell_type": "code",
      "source": [
        "print(b[['A','C']])"
      ],
      "metadata": {
        "colab": {
          "base_uri": "https://localhost:8080/"
        },
        "id": "ZmBLFJOnLNdE",
        "outputId": "b404388d-ba3d-4d4a-bf8c-03b661f41751"
      },
      "id": "ZmBLFJOnLNdE",
      "execution_count": 13,
      "outputs": [
        {
          "output_type": "stream",
          "name": "stdout",
          "text": [
            "A    100\n",
            "C    300\n",
            "dtype: int64\n"
          ]
        }
      ]
    },
    {
      "cell_type": "markdown",
      "id": "614af014",
      "metadata": {
        "id": "614af014"
      },
      "source": [
        "## 문제 6\n",
        "6. Series 값 변경하기\n",
        " - 위의 Series에서 'D' 인덱스의 값을 500으로 변경하는 코드를 작성하세요."
      ]
    },
    {
      "cell_type": "code",
      "source": [
        "b['D'] = 500\n",
        "print(b)"
      ],
      "metadata": {
        "colab": {
          "base_uri": "https://localhost:8080/"
        },
        "id": "a5Gdqb_HLR9W",
        "outputId": "6527fb58-fa84-4dd3-e0b8-564578e9fe5b"
      },
      "id": "a5Gdqb_HLR9W",
      "execution_count": 16,
      "outputs": [
        {
          "output_type": "stream",
          "name": "stdout",
          "text": [
            "A    100\n",
            "B    200\n",
            "C    300\n",
            "D    500\n",
            "dtype: int64\n"
          ]
        }
      ]
    },
    {
      "cell_type": "markdown",
      "id": "b1a22832",
      "metadata": {
        "id": "b1a22832"
      },
      "source": [
        "## 문제 7\n",
        "7. Series의 연산 수행하기\n",
        " - Series의 모든 요소에 10을 더하는 코드를 작성하세요."
      ]
    },
    {
      "cell_type": "code",
      "source": [
        "print(b + 10)"
      ],
      "metadata": {
        "colab": {
          "base_uri": "https://localhost:8080/"
        },
        "id": "1rY4p4ZnLdu5",
        "outputId": "d3264211-4130-41f5-ddae-97bd19c630cd"
      },
      "id": "1rY4p4ZnLdu5",
      "execution_count": 17,
      "outputs": [
        {
          "output_type": "stream",
          "name": "stdout",
          "text": [
            "A    110\n",
            "B    210\n",
            "C    310\n",
            "D    510\n",
            "dtype: int64\n"
          ]
        }
      ]
    },
    {
      "cell_type": "markdown",
      "id": "d7aeb07d",
      "metadata": {
        "id": "d7aeb07d"
      },
      "source": [
        "## 문제 8\n",
        "8. Series의 필터링\n",
        " - Series에서 값이 250 이상인 요소만 선택하는 코드를 작성하세요."
      ]
    },
    {
      "cell_type": "code",
      "source": [
        "print(b[b>= 250])"
      ],
      "metadata": {
        "colab": {
          "base_uri": "https://localhost:8080/"
        },
        "id": "09_VKMXILfrv",
        "outputId": "dbb30954-f870-4364-d3db-dd44845dad36"
      },
      "id": "09_VKMXILfrv",
      "execution_count": 22,
      "outputs": [
        {
          "output_type": "stream",
          "name": "stdout",
          "text": [
            "C    300\n",
            "D    500\n",
            "dtype: int64\n"
          ]
        }
      ]
    },
    {
      "cell_type": "markdown",
      "id": "770e1a5d",
      "metadata": {
        "id": "770e1a5d"
      },
      "source": [
        "## 문제 9\n",
        "9. Series를 정렬하기\n",
        " - Series를 값을 기준으로 내림차순으로 정렬하는 코드를 작성하세요."
      ]
    },
    {
      "cell_type": "code",
      "source": [
        "b.sort_values(ascending=False)"
      ],
      "metadata": {
        "colab": {
          "base_uri": "https://localhost:8080/",
          "height": 210
        },
        "id": "SdJB_3S5LxsS",
        "outputId": "b50cb5e4-8c93-4ca5-b50b-290fb18fc4f6"
      },
      "id": "SdJB_3S5LxsS",
      "execution_count": 23,
      "outputs": [
        {
          "output_type": "execute_result",
          "data": {
            "text/plain": [
              "D    500\n",
              "C    300\n",
              "B    200\n",
              "A    100\n",
              "dtype: int64"
            ],
            "text/html": [
              "<div>\n",
              "<style scoped>\n",
              "    .dataframe tbody tr th:only-of-type {\n",
              "        vertical-align: middle;\n",
              "    }\n",
              "\n",
              "    .dataframe tbody tr th {\n",
              "        vertical-align: top;\n",
              "    }\n",
              "\n",
              "    .dataframe thead th {\n",
              "        text-align: right;\n",
              "    }\n",
              "</style>\n",
              "<table border=\"1\" class=\"dataframe\">\n",
              "  <thead>\n",
              "    <tr style=\"text-align: right;\">\n",
              "      <th></th>\n",
              "      <th>0</th>\n",
              "    </tr>\n",
              "  </thead>\n",
              "  <tbody>\n",
              "    <tr>\n",
              "      <th>D</th>\n",
              "      <td>500</td>\n",
              "    </tr>\n",
              "    <tr>\n",
              "      <th>C</th>\n",
              "      <td>300</td>\n",
              "    </tr>\n",
              "    <tr>\n",
              "      <th>B</th>\n",
              "      <td>200</td>\n",
              "    </tr>\n",
              "    <tr>\n",
              "      <th>A</th>\n",
              "      <td>100</td>\n",
              "    </tr>\n",
              "  </tbody>\n",
              "</table>\n",
              "</div><br><label><b>dtype:</b> int64</label>"
            ]
          },
          "metadata": {},
          "execution_count": 23
        }
      ]
    },
    {
      "cell_type": "markdown",
      "id": "ca623b66",
      "metadata": {
        "id": "ca623b66"
      },
      "source": [
        "## 문제 10\n",
        "10. Series에서 NaN 값 처리하기\n",
        " - 아래 데이터를 포함하는 Series를 생성하고, NaN 값을 제거하는 코드를 작성하세요.\n",
        "   데이터: [10, 20, None, 30, None, 40]"
      ]
    },
    {
      "cell_type": "code",
      "source": [
        "S = pd.Series([10,20,None,30,None,40])\n",
        "S.dropna()"
      ],
      "metadata": {
        "colab": {
          "base_uri": "https://localhost:8080/",
          "height": 210
        },
        "id": "7VdxmRUIL42E",
        "outputId": "aee63341-b76d-4ca7-ad90-d3d070e623e1"
      },
      "id": "7VdxmRUIL42E",
      "execution_count": 25,
      "outputs": [
        {
          "output_type": "execute_result",
          "data": {
            "text/plain": [
              "0    10.0\n",
              "1    20.0\n",
              "3    30.0\n",
              "5    40.0\n",
              "dtype: float64"
            ],
            "text/html": [
              "<div>\n",
              "<style scoped>\n",
              "    .dataframe tbody tr th:only-of-type {\n",
              "        vertical-align: middle;\n",
              "    }\n",
              "\n",
              "    .dataframe tbody tr th {\n",
              "        vertical-align: top;\n",
              "    }\n",
              "\n",
              "    .dataframe thead th {\n",
              "        text-align: right;\n",
              "    }\n",
              "</style>\n",
              "<table border=\"1\" class=\"dataframe\">\n",
              "  <thead>\n",
              "    <tr style=\"text-align: right;\">\n",
              "      <th></th>\n",
              "      <th>0</th>\n",
              "    </tr>\n",
              "  </thead>\n",
              "  <tbody>\n",
              "    <tr>\n",
              "      <th>0</th>\n",
              "      <td>10.0</td>\n",
              "    </tr>\n",
              "    <tr>\n",
              "      <th>1</th>\n",
              "      <td>20.0</td>\n",
              "    </tr>\n",
              "    <tr>\n",
              "      <th>3</th>\n",
              "      <td>30.0</td>\n",
              "    </tr>\n",
              "    <tr>\n",
              "      <th>5</th>\n",
              "      <td>40.0</td>\n",
              "    </tr>\n",
              "  </tbody>\n",
              "</table>\n",
              "</div><br><label><b>dtype:</b> float64</label>"
            ]
          },
          "metadata": {},
          "execution_count": 25
        }
      ]
    }
  ],
  "metadata": {
    "colab": {
      "provenance": [],
      "include_colab_link": true
    },
    "language_info": {
      "name": "python"
    },
    "kernelspec": {
      "name": "python3",
      "display_name": "Python 3"
    }
  },
  "nbformat": 4,
  "nbformat_minor": 5
}