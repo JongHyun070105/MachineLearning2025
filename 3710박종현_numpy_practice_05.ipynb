{
  "cells": [
    {
      "cell_type": "markdown",
      "metadata": {
        "id": "view-in-github",
        "colab_type": "text"
      },
      "source": [
        "<a href=\"https://colab.research.google.com/github/JongHyun070105/MachineLearning2025/blob/main/3710%EB%B0%95%EC%A2%85%ED%98%84_numpy_practice_05.ipynb\" target=\"_parent\"><img src=\"https://colab.research.google.com/assets/colab-badge.svg\" alt=\"Open In Colab\"/></a>"
      ]
    },
    {
      "cell_type": "markdown",
      "id": "7850cb8a",
      "metadata": {
        "id": "7850cb8a"
      },
      "source": [
        "## 배열의 형태 변경 (Reshape)\n"
      ]
    },
    {
      "cell_type": "markdown",
      "id": "9b69d135",
      "metadata": {
        "id": "9b69d135"
      },
      "source": [
        "### 1. 1부터 20까지의 정수를 가지는 1차원 배열을 생성하고, 이를 (4,5) 크기의 2차원 배열로 변환하세요.\n"
      ]
    },
    {
      "cell_type": "code",
      "source": [
        "import numpy as np\n",
        "np.arange(1, 21).reshape(4, 5)"
      ],
      "metadata": {
        "colab": {
          "base_uri": "https://localhost:8080/"
        },
        "id": "B70PYe8WatIV",
        "outputId": "6e77cab4-992f-41fb-ce27-c20625e6695f"
      },
      "id": "B70PYe8WatIV",
      "execution_count": 2,
      "outputs": [
        {
          "output_type": "execute_result",
          "data": {
            "text/plain": [
              "array([[ 1,  2,  3,  4,  5],\n",
              "       [ 6,  7,  8,  9, 10],\n",
              "       [11, 12, 13, 14, 15],\n",
              "       [16, 17, 18, 19, 20]])"
            ]
          },
          "metadata": {},
          "execution_count": 2
        }
      ]
    },
    {
      "cell_type": "markdown",
      "id": "3ca0f711",
      "metadata": {
        "id": "3ca0f711"
      },
      "source": [
        "### 2. (3,4,2) 형태의 3차원 배열을 생성하고, 이를 (6,4) 형태의 2차원 배열로 변환하세요.\n"
      ]
    },
    {
      "cell_type": "code",
      "source": [
        "arr = np.arange(24).reshape(2,3,4)\n",
        "\n",
        "arr.reshape(6,4)"
      ],
      "metadata": {
        "colab": {
          "base_uri": "https://localhost:8080/"
        },
        "id": "cHTNjIzfaygu",
        "outputId": "83d6d62a-89b0-4997-e982-ca011f3c03f2"
      },
      "id": "cHTNjIzfaygu",
      "execution_count": 12,
      "outputs": [
        {
          "output_type": "execute_result",
          "data": {
            "text/plain": [
              "array([[ 0,  1,  2,  3],\n",
              "       [ 4,  5,  6,  7],\n",
              "       [ 8,  9, 10, 11],\n",
              "       [12, 13, 14, 15],\n",
              "       [16, 17, 18, 19],\n",
              "       [20, 21, 22, 23]])"
            ]
          },
          "metadata": {},
          "execution_count": 12
        }
      ]
    },
    {
      "cell_type": "markdown",
      "id": "4c53b987",
      "metadata": {
        "id": "4c53b987"
      },
      "source": [
        "### 3. (2,6) 형태의 배열을 1차원 배열로 변환하세요.\n"
      ]
    },
    {
      "cell_type": "code",
      "source": [
        "arr = np.arange(12).reshape(2,6)\n",
        "\n",
        "arr.ravel()"
      ],
      "metadata": {
        "colab": {
          "base_uri": "https://localhost:8080/"
        },
        "id": "4EXWlWk4bcze",
        "outputId": "c00c15f4-939b-4831-ed2a-3349fb8ee937"
      },
      "id": "4EXWlWk4bcze",
      "execution_count": 13,
      "outputs": [
        {
          "output_type": "execute_result",
          "data": {
            "text/plain": [
              "array([ 0,  1,  2,  3,  4,  5,  6,  7,  8,  9, 10, 11])"
            ]
          },
          "metadata": {},
          "execution_count": 13
        }
      ]
    },
    {
      "cell_type": "markdown",
      "id": "b42a6247",
      "metadata": {
        "id": "b42a6247"
      },
      "source": [
        "### 4. `np.reshape()`을 사용하여 원래 배열의 데이터를 유지하면서 (2,3,2) 형태의 3차원 배열을 생성하세요.\n"
      ]
    },
    {
      "cell_type": "code",
      "source": [
        "np.arange(12).reshape(2,3,2)"
      ],
      "metadata": {
        "colab": {
          "base_uri": "https://localhost:8080/"
        },
        "id": "p82z1FJGbkJx",
        "outputId": "4a04088c-ab87-48f7-929d-aca29c6f6de6"
      },
      "id": "p82z1FJGbkJx",
      "execution_count": 14,
      "outputs": [
        {
          "output_type": "execute_result",
          "data": {
            "text/plain": [
              "array([[[ 0,  1],\n",
              "        [ 2,  3],\n",
              "        [ 4,  5]],\n",
              "\n",
              "       [[ 6,  7],\n",
              "        [ 8,  9],\n",
              "        [10, 11]]])"
            ]
          },
          "metadata": {},
          "execution_count": 14
        }
      ]
    },
    {
      "cell_type": "markdown",
      "id": "e6d83903",
      "metadata": {
        "id": "e6d83903"
      },
      "source": [
        "### 5. -1을 활용하여 (4,-1) 형태로 변환하면 자동으로 몇 개의 열이 생성되는지 확인하세요.\n"
      ]
    },
    {
      "cell_type": "code",
      "source": [
        "np.arange(4).reshape(4,-1)"
      ],
      "metadata": {
        "colab": {
          "base_uri": "https://localhost:8080/"
        },
        "id": "DCa4Af4KbrvS",
        "outputId": "3fb95a94-5f3c-447c-a6c0-c30876f7807b"
      },
      "id": "DCa4Af4KbrvS",
      "execution_count": 17,
      "outputs": [
        {
          "output_type": "execute_result",
          "data": {
            "text/plain": [
              "array([[0],\n",
              "       [1],\n",
              "       [2],\n",
              "       [3]])"
            ]
          },
          "metadata": {},
          "execution_count": 17
        }
      ]
    },
    {
      "cell_type": "markdown",
      "id": "c7bc23df",
      "metadata": {
        "id": "c7bc23df"
      },
      "source": [
        "## 배열 차원 변경 (Expand_dims, Squeeze)\n"
      ]
    },
    {
      "cell_type": "markdown",
      "id": "371628bf",
      "metadata": {
        "id": "371628bf"
      },
      "source": [
        "### 6. 1차원 배열 `[1, 2, 3, 4, 5]`을 2차원 배열로 변경하세요. (행 방향과 열 방향 각각 적용)\n"
      ]
    },
    {
      "cell_type": "code",
      "source": [
        "arr = np.arange(1,6)\n",
        "\n",
        "print(arr.reshape(1,-1))\n",
        "print(arr.reshape(-1,1))"
      ],
      "metadata": {
        "colab": {
          "base_uri": "https://localhost:8080/"
        },
        "id": "L7bSO889b0XI",
        "outputId": "38cba11c-c596-4c2a-e237-33d53318b6db"
      },
      "id": "L7bSO889b0XI",
      "execution_count": 22,
      "outputs": [
        {
          "output_type": "stream",
          "name": "stdout",
          "text": [
            "[[1 2 3 4 5]]\n",
            "[[1]\n",
            " [2]\n",
            " [3]\n",
            " [4]\n",
            " [5]]\n"
          ]
        }
      ]
    },
    {
      "cell_type": "markdown",
      "id": "45435dc9",
      "metadata": {
        "id": "45435dc9"
      },
      "source": [
        "### 7. 3차원 배열을 `np.squeeze()`를 사용하여 2차원 배열로 변환하세요.\n"
      ]
    },
    {
      "cell_type": "code",
      "source": [
        "arr = np.arange(24).reshape(2,3,4)\n",
        "\n",
        "print(np.squeeze(arr))"
      ],
      "metadata": {
        "colab": {
          "base_uri": "https://localhost:8080/"
        },
        "id": "PCBU7PPhcppn",
        "outputId": "d9c588ca-c08e-49b0-c1ca-5c20b2e58210"
      },
      "id": "PCBU7PPhcppn",
      "execution_count": 24,
      "outputs": [
        {
          "output_type": "stream",
          "name": "stdout",
          "text": [
            "[[[ 0  1  2  3]\n",
            "  [ 4  5  6  7]\n",
            "  [ 8  9 10 11]]\n",
            "\n",
            " [[12 13 14 15]\n",
            "  [16 17 18 19]\n",
            "  [20 21 22 23]]]\n"
          ]
        }
      ]
    },
    {
      "cell_type": "markdown",
      "id": "a13f5396",
      "metadata": {
        "id": "a13f5396"
      },
      "source": [
        "### 8. `np.expand_dims()`를 사용하여 1차원 배열을 3차원 배열로 변환하세요.\n"
      ]
    },
    {
      "cell_type": "code",
      "source": [
        "arr = np.arange(10)\n",
        "np.expand_dims(arr,axis = 0)"
      ],
      "metadata": {
        "colab": {
          "base_uri": "https://localhost:8080/"
        },
        "id": "0NJJ6Go2c2kk",
        "outputId": "1167e0d9-8bbf-4e53-fb91-82e017169d97"
      },
      "id": "0NJJ6Go2c2kk",
      "execution_count": 26,
      "outputs": [
        {
          "output_type": "execute_result",
          "data": {
            "text/plain": [
              "array([[0, 1, 2, 3, 4, 5, 6, 7, 8, 9]])"
            ]
          },
          "metadata": {},
          "execution_count": 26
        }
      ]
    },
    {
      "cell_type": "markdown",
      "id": "61585687",
      "metadata": {
        "id": "61585687"
      },
      "source": [
        "### 9. 2차원 배열의 특정 차원을 확장하여 3차원 배열로 변환하세요.\n"
      ]
    },
    {
      "cell_type": "code",
      "source": [
        "arr = np.arange(10).reshape(2,5)\n",
        "\n",
        "arr.reshape(2,1,5)"
      ],
      "metadata": {
        "colab": {
          "base_uri": "https://localhost:8080/"
        },
        "id": "JC5qpq05c9ur",
        "outputId": "2c244d2b-0b4b-4d97-ad51-354e9d668b6d"
      },
      "id": "JC5qpq05c9ur",
      "execution_count": 28,
      "outputs": [
        {
          "output_type": "execute_result",
          "data": {
            "text/plain": [
              "array([[[0, 1, 2, 3, 4]],\n",
              "\n",
              "       [[5, 6, 7, 8, 9]]])"
            ]
          },
          "metadata": {},
          "execution_count": 28
        }
      ]
    },
    {
      "cell_type": "markdown",
      "id": "c5439feb",
      "metadata": {
        "id": "c5439feb"
      },
      "source": [
        "## 차원 및 축 (Axis)\n"
      ]
    },
    {
      "cell_type": "markdown",
      "id": "10582f46",
      "metadata": {
        "id": "10582f46"
      },
      "source": [
        "### 10. 3차원 배열 `(2,3,4)`를 생성한 후, `axis=0`, `axis=1`, `axis=2`를 기준으로 합계를 계산하세요.\n"
      ]
    },
    {
      "cell_type": "code",
      "source": [
        "arr = np.arange(24).reshape(2,3,4)\n",
        "\n",
        "print(np.sum(arr, axis = 0))\n",
        "print(np.sum(arr, axis = 1))\n",
        "print(np.sum(arr, axis = 2))"
      ],
      "metadata": {
        "colab": {
          "base_uri": "https://localhost:8080/"
        },
        "id": "wl14XQx6dURv",
        "outputId": "df29c213-8528-413a-ef38-7b49d919d3b5"
      },
      "id": "wl14XQx6dURv",
      "execution_count": 29,
      "outputs": [
        {
          "output_type": "stream",
          "name": "stdout",
          "text": [
            "[[12 14 16 18]\n",
            " [20 22 24 26]\n",
            " [28 30 32 34]]\n",
            "[[12 15 18 21]\n",
            " [48 51 54 57]]\n",
            "[[ 6 22 38]\n",
            " [54 70 86]]\n"
          ]
        }
      ]
    },
    {
      "cell_type": "markdown",
      "id": "7a3e101b",
      "metadata": {
        "id": "7a3e101b"
      },
      "source": [
        "### 11. 4x5 배열을 생성하고, 행(`axis=1`)과 열(`axis=0`) 기준으로 최댓값을 찾으세요.\n"
      ]
    },
    {
      "cell_type": "code",
      "source": [
        "arr = np.arange(20).reshape(4,5)\n",
        "\n",
        "print(np.max(arr, axis = 1))\n",
        "print(np.max(arr, axis = 0))"
      ],
      "metadata": {
        "colab": {
          "base_uri": "https://localhost:8080/"
        },
        "id": "1IrmR-LxdZRk",
        "outputId": "48a61d1b-74c0-4140-f357-cbfea0b8ec27"
      },
      "id": "1IrmR-LxdZRk",
      "execution_count": 30,
      "outputs": [
        {
          "output_type": "stream",
          "name": "stdout",
          "text": [
            "[ 4  9 14 19]\n",
            "[15 16 17 18 19]\n"
          ]
        }
      ]
    },
    {
      "cell_type": "markdown",
      "id": "ccdf93e0",
      "metadata": {
        "id": "ccdf93e0"
      },
      "source": [
        "### 12. 5x5 배열에서 각 행의 평균과 각 열의 평균을 구하세요.\n"
      ]
    },
    {
      "cell_type": "code",
      "source": [
        "arr = np.arange(25).reshape(5,5)\n",
        "\n",
        "print(np.mean(arr, axis = 1))\n",
        "print(np.mean(arr, axis = 0))"
      ],
      "metadata": {
        "colab": {
          "base_uri": "https://localhost:8080/"
        },
        "id": "0x7jyLczdi_k",
        "outputId": "cf93beb9-2b9e-4ecd-a64f-6c53ceae8b35"
      },
      "id": "0x7jyLczdi_k",
      "execution_count": 31,
      "outputs": [
        {
          "output_type": "stream",
          "name": "stdout",
          "text": [
            "[ 2.  7. 12. 17.]\n"
          ]
        }
      ]
    },
    {
      "cell_type": "markdown",
      "id": "aefd8a0c",
      "metadata": {
        "id": "aefd8a0c"
      },
      "source": [
        "## 고급 배열 변형\n"
      ]
    },
    {
      "cell_type": "markdown",
      "id": "0d84ccac",
      "metadata": {
        "id": "0d84ccac"
      },
      "source": [
        "### 13. 3차원 배열을 생성한 후 `transpose()` 함수를 사용하여 차원을 변경하세요.\n"
      ]
    },
    {
      "cell_type": "code",
      "source": [
        "arr = np.arange(27).reshape(3,3,3)\n",
        "\n",
        "arr.transpose()"
      ],
      "metadata": {
        "colab": {
          "base_uri": "https://localhost:8080/"
        },
        "id": "qS373XfzdmId",
        "outputId": "e1b7352c-9458-4361-ace5-d17c0a000c4a"
      },
      "id": "qS373XfzdmId",
      "execution_count": 37,
      "outputs": [
        {
          "output_type": "execute_result",
          "data": {
            "text/plain": [
              "array([[[ 0,  9, 18],\n",
              "        [ 3, 12, 21],\n",
              "        [ 6, 15, 24]],\n",
              "\n",
              "       [[ 1, 10, 19],\n",
              "        [ 4, 13, 22],\n",
              "        [ 7, 16, 25]],\n",
              "\n",
              "       [[ 2, 11, 20],\n",
              "        [ 5, 14, 23],\n",
              "        [ 8, 17, 26]]])"
            ]
          },
          "metadata": {},
          "execution_count": 37
        }
      ]
    },
    {
      "cell_type": "markdown",
      "id": "b55d2eb8",
      "metadata": {
        "id": "b55d2eb8"
      },
      "source": [
        "### 14. `np.ravel()`을 사용하여 다차원 배열을 1차원 배열로 변환하세요.\n"
      ]
    },
    {
      "cell_type": "code",
      "source": [
        "np.ravel(arr)"
      ],
      "metadata": {
        "colab": {
          "base_uri": "https://localhost:8080/"
        },
        "id": "bwHDYfeBd3wa",
        "outputId": "5f9c126b-1990-4865-a6ba-63de0675d6ca"
      },
      "id": "bwHDYfeBd3wa",
      "execution_count": 39,
      "outputs": [
        {
          "output_type": "execute_result",
          "data": {
            "text/plain": [
              "array([ 0,  1,  2,  3,  4,  5,  6,  7,  8,  9, 10, 11, 12, 13, 14, 15, 16,\n",
              "       17, 18, 19, 20, 21, 22, 23, 24, 25, 26])"
            ]
          },
          "metadata": {},
          "execution_count": 39
        }
      ]
    },
    {
      "cell_type": "markdown",
      "id": "ab6e9c4d",
      "metadata": {
        "id": "ab6e9c4d"
      },
      "source": [
        "### 15. 배열을 `reshape()`과 `flatten()`을 각각 사용하여 1차원으로 변환한 뒤, 두 결과가 동일한지 비교하세요.\n"
      ]
    },
    {
      "cell_type": "code",
      "execution_count": 46,
      "id": "67e35c02",
      "metadata": {
        "colab": {
          "base_uri": "https://localhost:8080/"
        },
        "id": "67e35c02",
        "outputId": "6cc00f10-271b-4e0b-e2c8-d05a614152b9"
      },
      "outputs": [
        {
          "output_type": "stream",
          "name": "stdout",
          "text": [
            "[ 0  1  2  3  4  5  6  7  8  9 10 11 12 13 14 15 16 17 18 19 20 21 22 23\n",
            " 24 25 26] \n",
            "\n",
            "[ 0  1  2  3  4  5  6  7  8  9 10 11 12 13 14 15 16 17 18 19 20 21 22 23\n",
            " 24 25 26]\n"
          ]
        }
      ],
      "source": [
        "arr = np.arange(27).reshape(3,3,3)\n",
        "\n",
        "print(arr.reshape(-1),'\\n')\n",
        "print(arr.flatten())"
      ]
    }
  ],
  "metadata": {
    "colab": {
      "provenance": [],
      "include_colab_link": true
    },
    "language_info": {
      "name": "python"
    },
    "kernelspec": {
      "name": "python3",
      "display_name": "Python 3"
    }
  },
  "nbformat": 4,
  "nbformat_minor": 5
}