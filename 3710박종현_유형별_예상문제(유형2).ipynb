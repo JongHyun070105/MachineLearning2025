{
  "nbformat": 4,
  "nbformat_minor": 0,
  "metadata": {
    "colab": {
      "provenance": [],
      "include_colab_link": true
    },
    "kernelspec": {
      "name": "python3",
      "display_name": "Python 3"
    },
    "language_info": {
      "name": "python"
    }
  },
  "cells": [
    {
      "cell_type": "markdown",
      "metadata": {
        "id": "view-in-github",
        "colab_type": "text"
      },
      "source": [
        "<a href=\"https://colab.research.google.com/github/JongHyun070105/MachineLearning2025/blob/main/3710%EB%B0%95%EC%A2%85%ED%98%84_%EC%9C%A0%ED%98%95%EB%B3%84_%EC%98%88%EC%83%81%EB%AC%B8%EC%A0%9C(%EC%9C%A0%ED%98%952).ipynb\" target=\"_parent\"><img src=\"https://colab.research.google.com/assets/colab-badge.svg\" alt=\"Open In Colab\"/></a>"
      ]
    },
    {
      "cell_type": "markdown",
      "source": [
        "# 유형별 예상문제(유형2)"
      ],
      "metadata": {
        "id": "9U8fUkrDO4Ka"
      }
    },
    {
      "cell_type": "markdown",
      "source": [
        "## 데이터 불러오기 및 저장"
      ],
      "metadata": {
        "id": "WuL57e-PPDtC"
      }
    },
    {
      "cell_type": "code",
      "execution_count": null,
      "metadata": {
        "id": "z7a-tt2fO3Qb"
      },
      "outputs": [],
      "source": [
        "#01. datasets 폴더에 있는 'auto_meg.csv'파일을 읽어 df 변수에 pandas DataFrame 형태로 저장하세요.\n",
        "\n",
        "import padnas as pd\n",
        "\n",
        "df = pd.read_csv('datasets/auto_meg.csv')"
      ]
    },
    {
      "cell_type": "code",
      "source": [
        "# 02. 데이터프레임 df를 'datasets/auto_mpg_clean.csv'파일로 저장하세요.\n",
        "\n",
        "df.to_csv('datasets/auto_mpg_clean.csv')"
      ],
      "metadata": {
        "id": "-VXX81JCPL_c"
      },
      "execution_count": null,
      "outputs": []
    },
    {
      "cell_type": "code",
      "source": [
        "# 03. 데이터프레임 df를 JSON 형식('datasetx/auto_mpg.json')으로 저장하세요\n",
        "\n",
        "df.to_json('datasetx/auto_mpg.json')"
      ],
      "metadata": {
        "id": "G5-pXaplPcCq"
      },
      "execution_count": null,
      "outputs": []
    },
    {
      "cell_type": "code",
      "source": [
        "# 04. 데이터프레임 df를 excel형식('datasetx/auto_excel.xlsx')으로 저장하세요\n",
        "\n",
        "df.to_excel('datasetx/auto_excel.xlsx')\n"
      ],
      "metadata": {
        "id": "JTEZTOyINrKN"
      },
      "execution_count": null,
      "outputs": []
    },
    {
      "cell_type": "code",
      "source": [
        "# 05. Excel 파일 'datasets/auto_excel.xlsx'을 pandas로 불러와 df_excel에 저장하세요.\n",
        "\n",
        "df_excel = pd.read_excel('datasets/auto_excel.xlsx')"
      ],
      "metadata": {
        "id": "-sRQe3F4PS1T"
      },
      "execution_count": null,
      "outputs": []
    },
    {
      "cell_type": "code",
      "source": [
        "# 06. 데이터프레임 df를 Pickle 파일('datasets/')로 저장하세요.\n",
        "\n",
        "df.to_pickle('datasets/')"
      ],
      "metadata": {
        "id": "7AMymZGQPlDL"
      },
      "execution_count": null,
      "outputs": []
    }
  ]
}