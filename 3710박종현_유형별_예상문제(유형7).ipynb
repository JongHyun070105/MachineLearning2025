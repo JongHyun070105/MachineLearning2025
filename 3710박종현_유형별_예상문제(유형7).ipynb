{
  "nbformat": 4,
  "nbformat_minor": 0,
  "metadata": {
    "colab": {
      "provenance": [],
      "include_colab_link": true
    },
    "kernelspec": {
      "name": "python3",
      "display_name": "Python 3"
    },
    "language_info": {
      "name": "python"
    }
  },
  "cells": [
    {
      "cell_type": "markdown",
      "metadata": {
        "id": "view-in-github",
        "colab_type": "text"
      },
      "source": [
        "<a href=\"https://colab.research.google.com/github/JongHyun070105/MachineLearning2025/blob/main/3710%EB%B0%95%EC%A2%85%ED%98%84_%EC%9C%A0%ED%98%95%EB%B3%84_%EC%98%88%EC%83%81%EB%AC%B8%EC%A0%9C(%EC%9C%A0%ED%98%957).ipynb\" target=\"_parent\"><img src=\"https://colab.research.google.com/assets/colab-badge.svg\" alt=\"Open In Colab\"/></a>"
      ]
    },
    {
      "cell_type": "markdown",
      "source": [
        "# 유형별 예상문제(유형7)\n",
        "# 결측치 제거"
      ],
      "metadata": {
        "id": "WOQNxuHow6dB"
      }
    },
    {
      "cell_type": "code",
      "source": [
        "# 01\n",
        "# 데이터프레임에서 결측치가 있는 행을 삭제하세요.\n",
        "# 모든 컬럼을 대상으로 결측치가 포함된 행을 제거하세요.\n",
        "\n",
        "df.dropna()"
      ],
      "metadata": {
        "id": "t9Yy6YAsxHof"
      },
      "execution_count": null,
      "outputs": []
    },
    {
      "cell_type": "code",
      "source": [
        "# 02\n",
        "# 데이터프레임에서 horsepower 컬럼에 결측치가 있는 행을 삭제하세요.\n",
        "# 특정 컬럼(horsepower)에서 결측치가 포함된 행을 제거하세요.\n",
        "\n",
        "df['horsepower'] = df['horsepower'].dropna()"
      ],
      "metadata": {
        "id": "9DLhtcmxxcEp"
      },
      "execution_count": null,
      "outputs": []
    },
    {
      "cell_type": "code",
      "source": [
        "# 03\n",
        "# 결측치가 하나라도 있는 열(컬럼)을 삭제하세요.\n",
        "# 결측치가 포함된 열을 삭제하여 데이터프레임을 정리하세요.\n",
        "\n",
        "df = df.dropna(axis = 1)"
      ],
      "metadata": {
        "id": "iiCkidghxgY3"
      },
      "execution_count": null,
      "outputs": []
    },
    {
      "cell_type": "code",
      "source": [
        "# 04\n",
        "# 모든 결측치를 0으로 대체하세요.\n",
        "# 데이터프레임의 모든 결측값을 0으로 채우세요.\n",
        "\n",
        "df = df.fillna(0)"
      ],
      "metadata": {
        "id": "ltVCJk5OxkyC"
      },
      "execution_count": null,
      "outputs": []
    },
    {
      "cell_type": "code",
      "source": [
        "# 05\n",
        "# horsepower 컬럼의 결측치를 평균값으로 채우세요.\n",
        "# horsepower 컬럼에서 결측값을 해당 컬럼의 평균값으로 채우세요.\n",
        "\n",
        "df['horsepower'] = df['horsepower'].fillna(df['horsepower'].mean())"
      ],
      "metadata": {
        "id": "JOY22gsExk9x"
      },
      "execution_count": null,
      "outputs": []
    }
  ]
}