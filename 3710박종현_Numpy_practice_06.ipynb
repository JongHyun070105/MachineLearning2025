{
  "cells": [
    {
      "cell_type": "markdown",
      "metadata": {
        "id": "view-in-github",
        "colab_type": "text"
      },
      "source": [
        "<a href=\"https://colab.research.google.com/github/JongHyun070105/MachineLearning2025/blob/main/3710%EB%B0%95%EC%A2%85%ED%98%84_Numpy_practice_06.ipynb\" target=\"_parent\"><img src=\"https://colab.research.google.com/assets/colab-badge.svg\" alt=\"Open In Colab\"/></a>"
      ]
    },
    {
      "cell_type": "markdown",
      "id": "8238e95f",
      "metadata": {
        "id": "8238e95f"
      },
      "source": [
        "## NumPy 배열 원소 추가, 삭제 및 병합 관련 실습 문제\n"
      ]
    },
    {
      "cell_type": "markdown",
      "id": "4a1ce5ea",
      "metadata": {
        "id": "4a1ce5ea"
      },
      "source": [
        "### 1. 배열 원소 추가 및 삭제\n"
      ]
    },
    {
      "cell_type": "markdown",
      "id": "9b96f69f",
      "metadata": {
        "id": "9b96f69f"
      },
      "source": [
        "#### 1. 1부터 10까지의 숫자로 이루어진 1차원 배열을 생성하고, 인덱스 3번째 위치에 50을 추가하세요.\n"
      ]
    },
    {
      "cell_type": "code",
      "source": [
        "import numpy as np\n",
        "arr = np.arange(1,10)\n",
        "arr = np.insert(arr, 2, 50)\n",
        "arr"
      ],
      "metadata": {
        "colab": {
          "base_uri": "https://localhost:8080/"
        },
        "id": "5vA6LtDDezd_",
        "outputId": "4e128394-a8bb-4e83-921b-f822ce5153ab"
      },
      "id": "5vA6LtDDezd_",
      "execution_count": 2,
      "outputs": [
        {
          "output_type": "execute_result",
          "data": {
            "text/plain": [
              "array([ 1,  2, 50,  3,  4,  5,  6,  7,  8,  9])"
            ]
          },
          "metadata": {},
          "execution_count": 2
        }
      ]
    },
    {
      "cell_type": "markdown",
      "id": "9d16f219",
      "metadata": {
        "id": "9d16f219"
      },
      "source": [
        "#### 2. (3,4) 크기의 2차원 배열을 생성한 후, 행(`axis=0`) 방향으로 새로운 행 `[10,20,30,40]`을 추가하세요.\n"
      ]
    },
    {
      "cell_type": "code",
      "source": [
        "arr = np.arange(12).reshape(3,4)\n",
        "arr = np.insert(arr, 0, [10,20,30,40], axis=0)\n",
        "arr"
      ],
      "metadata": {
        "colab": {
          "base_uri": "https://localhost:8080/"
        },
        "id": "wdT8VhATfGUf",
        "outputId": "44a9da68-0072-4c9c-d792-ea5b8c781749"
      },
      "id": "wdT8VhATfGUf",
      "execution_count": 6,
      "outputs": [
        {
          "output_type": "execute_result",
          "data": {
            "text/plain": [
              "array([[10, 20, 30, 40],\n",
              "       [ 0,  1,  2,  3],\n",
              "       [ 4,  5,  6,  7],\n",
              "       [ 8,  9, 10, 11]])"
            ]
          },
          "metadata": {},
          "execution_count": 6
        }
      ]
    },
    {
      "cell_type": "markdown",
      "id": "e058b6d4",
      "metadata": {
        "id": "e058b6d4"
      },
      "source": [
        "#### 3. 위의 2차원 배열에서 열(`axis=1`) 방향으로 새로운 열 `[100,200,300]`을 추가하세요.\n"
      ]
    },
    {
      "cell_type": "code",
      "source": [
        "arr = np.insert(arr, 0, [100,200,300,400], axis=1)\n",
        "arr"
      ],
      "metadata": {
        "colab": {
          "base_uri": "https://localhost:8080/"
        },
        "id": "xoWrItQefLC5",
        "outputId": "5ac0689b-83b8-45a9-bbc0-6d08a0bfe1ef"
      },
      "id": "xoWrItQefLC5",
      "execution_count": 8,
      "outputs": [
        {
          "output_type": "execute_result",
          "data": {
            "text/plain": [
              "array([[100,  10,  20,  30,  40],\n",
              "       [200,   0,   1,   2,   3],\n",
              "       [300,   4,   5,   6,   7],\n",
              "       [400,   8,   9,  10,  11]])"
            ]
          },
          "metadata": {},
          "execution_count": 8
        }
      ]
    },
    {
      "cell_type": "markdown",
      "id": "cdae65e0",
      "metadata": {
        "id": "cdae65e0"
      },
      "source": [
        "#### 4. 1차원 배열에서 인덱스 5에 있는 원소를 삭제하세요.\n"
      ]
    },
    {
      "cell_type": "code",
      "source": [
        "arr = np.arange(10)\n",
        "\n",
        "np.delete(arr, 5)"
      ],
      "metadata": {
        "colab": {
          "base_uri": "https://localhost:8080/"
        },
        "id": "nmZZqT4Wf3R2",
        "outputId": "6d8b87c5-eff2-4a22-f61b-734852a47dad"
      },
      "id": "nmZZqT4Wf3R2",
      "execution_count": 9,
      "outputs": [
        {
          "output_type": "execute_result",
          "data": {
            "text/plain": [
              "array([0, 1, 2, 3, 4, 6, 7, 8, 9])"
            ]
          },
          "metadata": {},
          "execution_count": 9
        }
      ]
    },
    {
      "cell_type": "markdown",
      "id": "d5432fa2",
      "metadata": {
        "id": "d5432fa2"
      },
      "source": [
        "#### 5. 2차원 배열에서 행(`axis=0`) 기준으로 2번째 행을 삭제하세요.\n"
      ]
    },
    {
      "cell_type": "code",
      "source": [
        "arr = np.arange(20).reshape(4,5)\n",
        "\n",
        "arr = np.delete(arr, 2 , axis = 0)\n",
        "print(arr)"
      ],
      "metadata": {
        "colab": {
          "base_uri": "https://localhost:8080/"
        },
        "id": "zilhJ2RxgN9x",
        "outputId": "f0f5675d-66c8-4798-bd71-3c4e8de2406c"
      },
      "id": "zilhJ2RxgN9x",
      "execution_count": 12,
      "outputs": [
        {
          "output_type": "stream",
          "name": "stdout",
          "text": [
            "[[ 0  1  2  3  4]\n",
            " [ 5  6  7  8  9]\n",
            " [15 16 17 18 19]]\n"
          ]
        }
      ]
    },
    {
      "cell_type": "markdown",
      "id": "330a65bd",
      "metadata": {
        "id": "330a65bd"
      },
      "source": [
        "### 2. 배열 병합 및 분할\n"
      ]
    },
    {
      "cell_type": "markdown",
      "id": "9bc65d8f",
      "metadata": {
        "id": "9bc65d8f"
      },
      "source": [
        "#### 6. 두 개의 (3,3) 크기의 2차원 배열을 생성하고, 이를 `axis=0` 방향으로 병합하세요.\n"
      ]
    },
    {
      "cell_type": "code",
      "source": [
        "arr1 = np.arange(9).reshape(3,3)\n",
        "\n",
        "arr2 = np.arange(9).reshape(3,3)\n",
        "\n",
        "np.concatenate((arr1, arr2), axis=0)"
      ],
      "metadata": {
        "colab": {
          "base_uri": "https://localhost:8080/"
        },
        "id": "ABXA_I5zgb77",
        "outputId": "88dfaa4a-bc07-4b43-b40d-e49181b6f5ad"
      },
      "id": "ABXA_I5zgb77",
      "execution_count": 15,
      "outputs": [
        {
          "output_type": "execute_result",
          "data": {
            "text/plain": [
              "array([[0, 1, 2],\n",
              "       [3, 4, 5],\n",
              "       [6, 7, 8],\n",
              "       [0, 1, 2],\n",
              "       [3, 4, 5],\n",
              "       [6, 7, 8]])"
            ]
          },
          "metadata": {},
          "execution_count": 15
        }
      ]
    },
    {
      "cell_type": "markdown",
      "id": "807a2ceb",
      "metadata": {
        "id": "807a2ceb"
      },
      "source": [
        "#### 7. 위의 배열을 `axis=1` 방향으로 병합하세요.\n"
      ]
    },
    {
      "cell_type": "code",
      "source": [
        "arr1 = np.arange(9).reshape(3,3)\n",
        "\n",
        "arr2 = np.arange(9).reshape(3,3)\n",
        "\n",
        "np.concatenate((arr1, arr2), axis=1)"
      ],
      "metadata": {
        "colab": {
          "base_uri": "https://localhost:8080/"
        },
        "id": "X4YfzDnIgnQG",
        "outputId": "961f4d2e-6d3b-4f2c-e416-57b714d113da"
      },
      "id": "X4YfzDnIgnQG",
      "execution_count": 16,
      "outputs": [
        {
          "output_type": "execute_result",
          "data": {
            "text/plain": [
              "array([[0, 1, 2, 0, 1, 2],\n",
              "       [3, 4, 5, 3, 4, 5],\n",
              "       [6, 7, 8, 6, 7, 8]])"
            ]
          },
          "metadata": {},
          "execution_count": 16
        }
      ]
    },
    {
      "cell_type": "markdown",
      "id": "b8d98c88",
      "metadata": {
        "id": "b8d98c88"
      },
      "source": [
        "#### 8. 1차원 배열 `[1, 2, 3, 4, 5, 6, 7, 8, 9, 10]`을 세 개의 배열로 균등하게 분할하세요.\n"
      ]
    },
    {
      "cell_type": "code",
      "source": [
        "arr = np.arange(1, 10)\n",
        "\n",
        "np.split(arr,3)"
      ],
      "metadata": {
        "colab": {
          "base_uri": "https://localhost:8080/"
        },
        "id": "1F053MmZgouC",
        "outputId": "ec1b4683-921b-446c-daf6-87cbf7bf1aec"
      },
      "id": "1F053MmZgouC",
      "execution_count": 17,
      "outputs": [
        {
          "output_type": "execute_result",
          "data": {
            "text/plain": [
              "[array([1, 2, 3]), array([4, 5, 6]), array([7, 8, 9])]"
            ]
          },
          "metadata": {},
          "execution_count": 17
        }
      ]
    },
    {
      "cell_type": "markdown",
      "id": "04a8e9a4",
      "metadata": {
        "id": "04a8e9a4"
      },
      "source": [
        "#### 9. (4,4) 크기의 배열을 두 개의 `(2,4)` 배열로 분할하세요.\n"
      ]
    },
    {
      "cell_type": "code",
      "source": [
        "arr1 = np.arange(16).reshape(4,4)\n",
        "arr2 = np.arange(16).reshape(4,4)\n",
        "\n",
        "print(np.split(arr1,[2,4]),'\\n')\n",
        "print(np.split(arr2,[2,4]))"
      ],
      "metadata": {
        "colab": {
          "base_uri": "https://localhost:8080/"
        },
        "id": "MStJ6xowg0NC",
        "outputId": "f8145c04-cc66-4560-9f3c-879f6a4cc9f7"
      },
      "id": "MStJ6xowg0NC",
      "execution_count": 22,
      "outputs": [
        {
          "output_type": "stream",
          "name": "stdout",
          "text": [
            "[array([[0, 1, 2, 3],\n",
            "       [4, 5, 6, 7]]), array([[ 8,  9, 10, 11],\n",
            "       [12, 13, 14, 15]]), array([], shape=(0, 4), dtype=int64)] \n",
            "\n",
            "[array([[0, 1, 2, 3],\n",
            "       [4, 5, 6, 7]]), array([[ 8,  9, 10, 11],\n",
            "       [12, 13, 14, 15]]), array([], shape=(0, 4), dtype=int64)]\n"
          ]
        }
      ]
    },
    {
      "cell_type": "markdown",
      "id": "85769599",
      "metadata": {
        "id": "85769599"
      },
      "source": [
        "#### 10. (6,6) 크기의 배열을 수직(`vsplit`) 및 수평(`hsplit`)으로 각각 세 부분으로 나누세요.\n"
      ]
    },
    {
      "cell_type": "code",
      "execution_count": 25,
      "id": "3100b32b",
      "metadata": {
        "id": "3100b32b",
        "colab": {
          "base_uri": "https://localhost:8080/"
        },
        "outputId": "610c548c-1d69-4345-f304-aac7912362da"
      },
      "outputs": [
        {
          "output_type": "stream",
          "name": "stdout",
          "text": [
            "[array([[ 0,  1,  2,  3,  4,  5],\n",
            "       [ 6,  7,  8,  9, 10, 11]]), array([[12, 13, 14, 15, 16, 17],\n",
            "       [18, 19, 20, 21, 22, 23]]), array([[24, 25, 26, 27, 28, 29],\n",
            "       [30, 31, 32, 33, 34, 35]])] \n",
            "\n",
            "[array([[ 0,  1],\n",
            "       [ 6,  7],\n",
            "       [12, 13],\n",
            "       [18, 19],\n",
            "       [24, 25],\n",
            "       [30, 31]]), array([[ 2,  3],\n",
            "       [ 8,  9],\n",
            "       [14, 15],\n",
            "       [20, 21],\n",
            "       [26, 27],\n",
            "       [32, 33]]), array([[ 4,  5],\n",
            "       [10, 11],\n",
            "       [16, 17],\n",
            "       [22, 23],\n",
            "       [28, 29],\n",
            "       [34, 35]])]\n"
          ]
        }
      ],
      "source": [
        "arr = np.arange(36).reshape(6,6)\n",
        "\n",
        "print(np.vsplit(arr,3),'\\n')\n",
        "print(np.hsplit(arr,3))\n"
      ]
    }
  ],
  "metadata": {
    "colab": {
      "provenance": [],
      "include_colab_link": true
    },
    "language_info": {
      "name": "python"
    },
    "kernelspec": {
      "name": "python3",
      "display_name": "Python 3"
    }
  },
  "nbformat": 4,
  "nbformat_minor": 5
}