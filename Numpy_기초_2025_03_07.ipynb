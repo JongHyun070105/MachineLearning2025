{
  "nbformat": 4,
  "nbformat_minor": 0,
  "metadata": {
    "colab": {
      "provenance": [],
      "collapsed_sections": [
        "GqMn6sXoa8VF",
        "1pslcicPb-bw",
        "pF9g62J3eJyd",
        "Qv-Z7Knyflfu"
      ],
      "authorship_tag": "ABX9TyOXiKUVRnKcVfh7Cz1JMbts",
      "include_colab_link": true
    },
    "kernelspec": {
      "name": "python3",
      "display_name": "Python 3"
    },
    "language_info": {
      "name": "python"
    }
  },
  "cells": [
    {
      "cell_type": "markdown",
      "metadata": {
        "id": "view-in-github",
        "colab_type": "text"
      },
      "source": [
        "<a href=\"https://colab.research.google.com/github/JongHyun070105/MachineLearning2025/blob/main/Numpy_%EA%B8%B0%EC%B4%88_2025_03_07.ipynb\" target=\"_parent\"><img src=\"https://colab.research.google.com/assets/colab-badge.svg\" alt=\"Open In Colab\"/></a>"
      ]
    },
    {
      "cell_type": "markdown",
      "source": [
        "# dot product"
      ],
      "metadata": {
        "id": "QWuP_CwnOmka"
      }
    },
    {
      "cell_type": "code",
      "execution_count": 2,
      "metadata": {
        "colab": {
          "base_uri": "https://localhost:8080/"
        },
        "id": "0iln4xHu2-do",
        "outputId": "facbe64c-8873-46b5-c74e-ced9edb146f6"
      },
      "outputs": [
        {
          "output_type": "stream",
          "name": "stdout",
          "text": [
            "[[ 9 22]\n",
            " [13 50]]\n"
          ]
        }
      ],
      "source": [
        "# 2차열\n",
        "import numpy as np\n",
        "\n",
        "arr1 = np.array([[1,2],[3,4]])\n",
        "arr2 = np.array([[-5,6],[7,8]])\n",
        "\n",
        "print(np.dot(arr1,arr2))"
      ]
    },
    {
      "cell_type": "code",
      "source": [
        "# 절대값 구하기\n",
        "print(np.abs(arr2))"
      ],
      "metadata": {
        "colab": {
          "base_uri": "https://localhost:8080/"
        },
        "id": "g-ayv7mVPXw4",
        "outputId": "00bf082e-8c0e-4dfa-c613-eecaf6d77097"
      },
      "execution_count": 19,
      "outputs": [
        {
          "output_type": "stream",
          "name": "stdout",
          "text": [
            "[[5 6]\n",
            " [7 8]]\n"
          ]
        }
      ]
    },
    {
      "cell_type": "code",
      "source": [
        "arr1 = np.array([[1,592,-6,12945],[3,3484,-586,4]])\n",
        "\n",
        "# 올림함수\n",
        "print(np.ceil(arr1))\n",
        "\n",
        "# 내림함수\n",
        "print(np.floor(arr1))\n",
        "\n",
        "# 반올림함수\n",
        "print(np.round(arr1))\n",
        "\n",
        "# 버림함수\n",
        "print(np.trunc(arr1))"
      ],
      "metadata": {
        "colab": {
          "base_uri": "https://localhost:8080/"
        },
        "id": "l7iLRbhPPoOX",
        "outputId": "a9fce4a7-e2ee-401c-d8b3-db96de48d95b"
      },
      "execution_count": 6,
      "outputs": [
        {
          "output_type": "stream",
          "name": "stdout",
          "text": [
            "[[ 1.0000e+00  5.9200e+02 -6.0000e+00  1.2945e+04]\n",
            " [ 3.0000e+00  3.4840e+03 -5.8600e+02  4.0000e+00]]\n",
            "[[ 1.0000e+00  5.9200e+02 -6.0000e+00  1.2945e+04]\n",
            " [ 3.0000e+00  3.4840e+03 -5.8600e+02  4.0000e+00]]\n",
            "[[    1   592    -6 12945]\n",
            " [    3  3484  -586     4]]\n",
            "[[ 1.0000e+00  5.9200e+02 -6.0000e+00  1.2945e+04]\n",
            " [ 3.0000e+00  3.4840e+03 -5.8600e+02  4.0000e+00]]\n"
          ]
        }
      ]
    },
    {
      "cell_type": "code",
      "source": [
        "arr = np.array([[1,2,3],[4,5,6],[7,8,9]])\n",
        "\n",
        "# max() 최대값 구하기\n",
        "print(np.max(arr))\n",
        "print(arr.max(axis=0))\n",
        "print(arr.max(axis=1))\n",
        "\n",
        "print(\"\")\n",
        "\n",
        "# min() 최소값 구하기\n",
        "print(np.min(arr))\n",
        "print(arr.min(axis=0))\n",
        "print(arr.min(axis=1))\n",
        "\n",
        "print(\"\")\n",
        "\n",
        "# sum() 합계 구하기\n",
        "print(np.sum(arr))\n",
        "print(arr.sum(axis=0))\n",
        "print(arr.sum(axis=1))\n",
        "\n",
        "print(\"\")\n",
        "\n",
        "# mean() 평균 구하기\n",
        "print(np.mean(arr))\n",
        "print(arr.mean(axis=0))\n",
        "print(arr.mean(axis=1))\n",
        "\n",
        "print(\"\")\n",
        "\n",
        "# std() 표준편차 구하기\n",
        "print(np.std(arr))\n",
        "print(arr.std(axis=0))\n",
        "print(arr.std(axis=1))\n",
        "\n",
        "print(\"\")\n",
        "\n",
        "# cusmsum() 누적 합계 구하기\n",
        "print(np.cumsum(arr))\n",
        "print(arr.cumsum(axis=0))\n",
        "print(arr.cumsum(axis=1))\n",
        "\n",
        "print(\"\")\n",
        "\n",
        "# median() 중앙값 구하기\n",
        "print(np.median(arr))\n",
        "print(np.median(arr,axis=0))\n",
        "print(np.median(arr,axis=1))"
      ],
      "metadata": {
        "colab": {
          "base_uri": "https://localhost:8080/"
        },
        "id": "npbtBe_iP2IO",
        "outputId": "55a63c49-b2ef-4266-e542-012110a77844"
      },
      "execution_count": 18,
      "outputs": [
        {
          "output_type": "stream",
          "name": "stdout",
          "text": [
            "9\n",
            "[7 8 9]\n",
            "[3 6 9]\n",
            "\n",
            "1\n",
            "[1 2 3]\n",
            "[1 4 7]\n",
            "\n",
            "45\n",
            "[12 15 18]\n",
            "[ 6 15 24]\n",
            "\n",
            "5.0\n",
            "[4. 5. 6.]\n",
            "[2. 5. 8.]\n",
            "\n",
            "2.581988897471611\n",
            "[2.44948974 2.44948974 2.44948974]\n",
            "[0.81649658 0.81649658 0.81649658]\n",
            "\n",
            "[ 1  3  6 10 15 21 28 36 45]\n",
            "[[ 1  2  3]\n",
            " [ 5  7  9]\n",
            " [12 15 18]]\n",
            "[[ 1  3  6]\n",
            " [ 4  9 15]\n",
            " [ 7 15 24]]\n",
            "\n",
            "5.0\n",
            "[4. 5. 6.]\n",
            "[2. 5. 8.]\n"
          ]
        }
      ]
    },
    {
      "cell_type": "markdown",
      "source": [
        "# 배열의 삼각함수 / 비교연"
      ],
      "metadata": {
        "id": "qd7esPSfS0eQ"
      }
    },
    {
      "cell_type": "code",
      "source": [
        "arr = np.array([[1,2,3],[4,5,6]])\n",
        "\n",
        "arr2 = np.array([[7,8,9],[-1,-2,-3]])\n",
        "\n",
        "# 비교연산 (대응되는 원소끼리 비교)\n",
        "print(arr == arr2)\n",
        "\n",
        "print(np.array_equal(arr,arr2))"
      ],
      "metadata": {
        "colab": {
          "base_uri": "https://localhost:8080/"
        },
        "id": "o-pnTFpmRIBw",
        "outputId": "79daeec7-439a-4581-ba43-9a612f2644ad"
      },
      "execution_count": 22,
      "outputs": [
        {
          "output_type": "stream",
          "name": "stdout",
          "text": [
            "[[False False False]\n",
            " [False False False]]\n",
            "False\n"
          ]
        }
      ]
    },
    {
      "cell_type": "code",
      "source": [
        "# 삼각함수\n",
        "\n",
        "# sin()\n",
        "print(np.sin(arr))\n",
        "\n",
        "print(\"\")\n",
        "\n",
        "# cos()\n",
        "print(np.cos(arr))\n",
        "\n",
        "print(\"\")\n",
        "\n",
        "# tan()\n",
        "print(np.tan(arr))"
      ],
      "metadata": {
        "colab": {
          "base_uri": "https://localhost:8080/"
        },
        "id": "YEtG71TiTxt4",
        "outputId": "470e7f2b-21ae-4eb4-b5e9-98885d0d8a88"
      },
      "execution_count": 23,
      "outputs": [
        {
          "output_type": "stream",
          "name": "stdout",
          "text": [
            "[[ 0.84147098  0.90929743  0.14112001]\n",
            " [-0.7568025  -0.95892427 -0.2794155 ]]\n",
            "\n",
            "[[ 0.54030231 -0.41614684 -0.9899925 ]\n",
            " [-0.65364362  0.28366219  0.96017029]]\n",
            "\n",
            "[[ 1.55740772 -2.18503986 -0.14254654]\n",
            " [ 1.15782128 -3.38051501 -0.29100619]]\n"
          ]
        }
      ]
    },
    {
      "cell_type": "markdown",
      "source": [
        "# 브로드캐스팅"
      ],
      "metadata": {
        "id": "QC4zBNM1Ucnv"
      }
    },
    {
      "cell_type": "code",
      "source": [
        "# 버전 1\n",
        "arr1 = np.array([[1,2,3],[4,5,6],[7,8,9]])\n",
        "arr2 = np.array([1,2,3])\n",
        "\n",
        "print(arr1 + arr2)"
      ],
      "metadata": {
        "colab": {
          "base_uri": "https://localhost:8080/"
        },
        "id": "GGanQdaPUhDm",
        "outputId": "a965e0e7-d371-4c9d-b27d-f779ff95c89d"
      },
      "execution_count": 27,
      "outputs": [
        {
          "output_type": "stream",
          "name": "stdout",
          "text": [
            "[[ 2  4  6]\n",
            " [ 5  7  9]\n",
            " [ 8 10 12]]\n"
          ]
        }
      ]
    },
    {
      "cell_type": "code",
      "source": [
        "# 버전 2\n",
        "arr1 = np.array([1,1,1])\n",
        "arr2 = np.array([[0],[1],[2]])\n",
        "\n",
        "print(arr1 + arr2)"
      ],
      "metadata": {
        "colab": {
          "base_uri": "https://localhost:8080/"
        },
        "id": "AW89UgfPU6Jr",
        "outputId": "10cf0927-7331-4bca-ef60-ad252312425e"
      },
      "execution_count": 28,
      "outputs": [
        {
          "output_type": "stream",
          "name": "stdout",
          "text": [
            "[[1 1 1]\n",
            " [2 2 2]\n",
            " [3 3 3]]\n"
          ]
        }
      ]
    },
    {
      "cell_type": "code",
      "source": [
        "import time"
      ],
      "metadata": {
        "id": "EreR0SOtVng_"
      },
      "execution_count": 29,
      "outputs": []
    },
    {
      "cell_type": "code",
      "source": [
        "arr = np.arange(999999999)"
      ],
      "metadata": {
        "id": "EBUiBdTpVqda"
      },
      "execution_count": 32,
      "outputs": []
    },
    {
      "cell_type": "code",
      "source": [
        "# for - 큰 수치를 계산할수록 오래걸림\n",
        "\n",
        "sum = 0\n",
        "before = time.time()\n",
        "for i in arr :\n",
        "  sum += i\n",
        "after = time.time()\n",
        "\n",
        "print(sum, after - before, \"초\")"
      ],
      "metadata": {
        "colab": {
          "base_uri": "https://localhost:8080/",
          "height": 216
        },
        "id": "XdVy2XsRVuRZ",
        "outputId": "95395ca6-b902-42b2-c335-90a4c3ca9c1c"
      },
      "execution_count": 34,
      "outputs": [
        {
          "output_type": "error",
          "ename": "KeyboardInterrupt",
          "evalue": "",
          "traceback": [
            "\u001b[0;31m---------------------------------------------------------------------------\u001b[0m",
            "\u001b[0;31mKeyboardInterrupt\u001b[0m                         Traceback (most recent call last)",
            "\u001b[0;32m<ipython-input-34-8e51242633e9>\u001b[0m in \u001b[0;36m<cell line: 0>\u001b[0;34m()\u001b[0m\n\u001b[1;32m      4\u001b[0m \u001b[0mbefore\u001b[0m \u001b[0;34m=\u001b[0m \u001b[0mtime\u001b[0m\u001b[0;34m.\u001b[0m\u001b[0mtime\u001b[0m\u001b[0;34m(\u001b[0m\u001b[0;34m)\u001b[0m\u001b[0;34m\u001b[0m\u001b[0;34m\u001b[0m\u001b[0m\n\u001b[1;32m      5\u001b[0m \u001b[0;32mfor\u001b[0m \u001b[0mi\u001b[0m \u001b[0;32min\u001b[0m \u001b[0marr\u001b[0m \u001b[0;34m:\u001b[0m\u001b[0;34m\u001b[0m\u001b[0;34m\u001b[0m\u001b[0m\n\u001b[0;32m----> 6\u001b[0;31m   \u001b[0msum\u001b[0m \u001b[0;34m+=\u001b[0m \u001b[0mi\u001b[0m\u001b[0;34m\u001b[0m\u001b[0;34m\u001b[0m\u001b[0m\n\u001b[0m\u001b[1;32m      7\u001b[0m \u001b[0mafter\u001b[0m \u001b[0;34m=\u001b[0m \u001b[0mtime\u001b[0m\u001b[0;34m.\u001b[0m\u001b[0mtime\u001b[0m\u001b[0;34m(\u001b[0m\u001b[0;34m)\u001b[0m\u001b[0;34m\u001b[0m\u001b[0;34m\u001b[0m\u001b[0m\n\u001b[1;32m      8\u001b[0m \u001b[0;34m\u001b[0m\u001b[0m\n",
            "\u001b[0;31mKeyboardInterrupt\u001b[0m: "
          ]
        }
      ]
    },
    {
      "cell_type": "code",
      "source": [
        "# 벡터 연산 - for문에 비해 엄청나게 빠름\n",
        "\n",
        "before = time.time()\n",
        "sum = np.sum(arr)\n",
        "after = time.time()\n",
        "\n",
        "print(sum, after - before, \"초\")"
      ],
      "metadata": {
        "colab": {
          "base_uri": "https://localhost:8080/"
        },
        "id": "XsFv4N1BWSrh",
        "outputId": "d2f9cac0-9bfc-40ea-e5c7-3d78b03e5f08"
      },
      "execution_count": 35,
      "outputs": [
        {
          "output_type": "stream",
          "name": "stdout",
          "text": [
            "499999998500000001 0.9148764610290527 초\n"
          ]
        }
      ]
    },
    {
      "cell_type": "code",
      "source": [
        "arr1 = np.arange(99999)\n",
        "arr2 = np.arange(99999)"
      ],
      "metadata": {
        "id": "jSOAMqAOWv16"
      },
      "execution_count": 36,
      "outputs": []
    },
    {
      "cell_type": "code",
      "source": [
        "# for\n",
        "# zip - 데이터의 개수가 동일한 자료에 대해서 사용할 수 있음\n",
        "\n",
        "sum = 0\n",
        "before = time.time()\n",
        "for i,j in zip(arr1, arr2) :\n",
        "  sum += i*j\n",
        "after = time.time()\n",
        "\n",
        "print(sum,after - before)"
      ],
      "metadata": {
        "colab": {
          "base_uri": "https://localhost:8080/"
        },
        "id": "J2yQTo5WW5mx",
        "outputId": "dacbfc66-a11a-432d-9075-0082e684075a"
      },
      "execution_count": 37,
      "outputs": [
        {
          "output_type": "stream",
          "name": "stdout",
          "text": [
            "333318333549999 0.03386259078979492\n"
          ]
        }
      ]
    },
    {
      "cell_type": "code",
      "source": [
        "# 벡터연산\n",
        "\n",
        "before = time.time()\n",
        "sum = np.dot(arr1,arr2)\n",
        "after = time.time()\n",
        "\n",
        "print(sum, after - before, \"초\")"
      ],
      "metadata": {
        "colab": {
          "base_uri": "https://localhost:8080/"
        },
        "id": "cZ3dR_Z9Xftn",
        "outputId": "25c2afa3-6fa9-475a-ec60-327ef0df6267"
      },
      "execution_count": 38,
      "outputs": [
        {
          "output_type": "stream",
          "name": "stdout",
          "text": [
            "333318333549999 0.0013358592987060547 초\n"
          ]
        }
      ]
    },
    {
      "cell_type": "markdown",
      "source": [
        "# N차원 배열의 정렬"
      ],
      "metadata": {
        "id": "YGUryC44a157"
      }
    },
    {
      "cell_type": "markdown",
      "source": [
        "## 1차원 배열의 정렬"
      ],
      "metadata": {
        "id": "GqMn6sXoa8VF"
      }
    },
    {
      "cell_type": "code",
      "source": [
        "arr = np.random.randint(10,size = 10)\n",
        "print(arr)"
      ],
      "metadata": {
        "colab": {
          "base_uri": "https://localhost:8080/"
        },
        "id": "xuJoqh-qa1o3",
        "outputId": "d8c02a29-aeee-437e-c244-d51eba4c7e9b"
      },
      "execution_count": 39,
      "outputs": [
        {
          "output_type": "stream",
          "name": "stdout",
          "text": [
            "[6 9 9 2 9 8 8 2 1 9]\n"
          ]
        }
      ]
    },
    {
      "cell_type": "code",
      "source": [
        "print(np.sort(arr))\n",
        "print(np.sort(arr)[::-1])"
      ],
      "metadata": {
        "colab": {
          "base_uri": "https://localhost:8080/"
        },
        "id": "wLuzVLgubOUS",
        "outputId": "beab94f9-3286-451b-df4b-e0805461e4c9"
      },
      "execution_count": 43,
      "outputs": [
        {
          "output_type": "stream",
          "name": "stdout",
          "text": [
            "[1 2 2 6 8 8 9 9 9 9]\n",
            "[9 9 9 9 8 8 6 2 2 1]\n"
          ]
        }
      ]
    },
    {
      "cell_type": "code",
      "source": [
        "print(arr)"
      ],
      "metadata": {
        "colab": {
          "base_uri": "https://localhost:8080/"
        },
        "id": "fR5rWG8qbej8",
        "outputId": "d7933dad-9063-4c9f-e261-cb06d0d27695"
      },
      "execution_count": 44,
      "outputs": [
        {
          "output_type": "stream",
          "name": "stdout",
          "text": [
            "[1 2 2 6 8 8 9 9 9 9]\n"
          ]
        }
      ]
    },
    {
      "cell_type": "code",
      "source": [
        "arr_s = np.sort(arr)\n",
        "print(arr_s)\n",
        "\n",
        "arr.sort()\n",
        "print(arr)"
      ],
      "metadata": {
        "colab": {
          "base_uri": "https://localhost:8080/"
        },
        "id": "kaZnI7F-bgy5",
        "outputId": "9838f700-ec0a-4534-b077-3c4e861e46ce"
      },
      "execution_count": 47,
      "outputs": [
        {
          "output_type": "stream",
          "name": "stdout",
          "text": [
            "[1 2 2 6 8 8 9 9 9 9]\n",
            "[1 2 2 6 8 8 9 9 9 9]\n"
          ]
        }
      ]
    },
    {
      "cell_type": "markdown",
      "source": [
        "## 2차원 배열의 정렬"
      ],
      "metadata": {
        "id": "1pslcicPb-bw"
      }
    },
    {
      "cell_type": "code",
      "source": [
        "arr = np.random.randint(20,size=(3,4))\n",
        "print(arr)\n",
        "print('')\n",
        "print(np.sort(arr))"
      ],
      "metadata": {
        "colab": {
          "base_uri": "https://localhost:8080/"
        },
        "id": "0i9HuDaJcTWD",
        "outputId": "187ea6fd-00a3-41ac-f529-560693c9f71f"
      },
      "execution_count": 53,
      "outputs": [
        {
          "output_type": "stream",
          "name": "stdout",
          "text": [
            "[[16  7 13 12]\n",
            " [13  5  2  3]\n",
            " [19 10 15 18]]\n",
            "\n",
            "[[ 7 12 13 16]\n",
            " [ 2  3  5 13]\n",
            " [10 15 18 19]]\n"
          ]
        }
      ]
    },
    {
      "cell_type": "code",
      "source": [
        "print(np.sort(arr,axis=0))\n",
        "print('')\n",
        "print(np.sort(arr,axis=1))\n",
        "print('')\n",
        "print(np.sort(arr,axis=None)) # 1차원 배열로 변경해서 오름차순 정렬"
      ],
      "metadata": {
        "colab": {
          "base_uri": "https://localhost:8080/"
        },
        "id": "bVVrNpXlb-AU",
        "outputId": "0f586d5d-cafa-43af-eea1-34cc01af6626"
      },
      "execution_count": 57,
      "outputs": [
        {
          "output_type": "stream",
          "name": "stdout",
          "text": [
            "[[13  5  2  3]\n",
            " [16  7 13 12]\n",
            " [19 10 15 18]]\n",
            "\n",
            "[[ 7 12 13 16]\n",
            " [ 2  3  5 13]\n",
            " [10 15 18 19]]\n",
            "\n",
            "[ 2  3  5  7 10 12 13 13 15 16 18 19]\n"
          ]
        }
      ]
    },
    {
      "cell_type": "code",
      "source": [
        "# argsort() 정렬된 원소의 원래배열에서의 인덱스를 반환\n",
        "\n",
        "print(arr,'\\n\\n')\n",
        "print(np.sort(arr, axis = 0), '\\n\\n')\n",
        "print(np.argsort(arr, axis = 0))"
      ],
      "metadata": {
        "colab": {
          "base_uri": "https://localhost:8080/"
        },
        "id": "uWEHNFqYbv3R",
        "outputId": "11646172-a264-4c3d-e3c3-e58af6894642"
      },
      "execution_count": 59,
      "outputs": [
        {
          "output_type": "stream",
          "name": "stdout",
          "text": [
            "[[16  7 13 12]\n",
            " [13  5  2  3]\n",
            " [19 10 15 18]] \n",
            "\n",
            "\n",
            "[[13  5  2  3]\n",
            " [16  7 13 12]\n",
            " [19 10 15 18]] \n",
            "\n",
            "\n",
            "[[1 1 1 1]\n",
            " [0 0 0 0]\n",
            " [2 2 2 2]]\n"
          ]
        }
      ]
    },
    {
      "cell_type": "markdown",
      "source": [
        "## n차원 배열의 형태 변경"
      ],
      "metadata": {
        "id": "gmcdkYD_eEZA"
      }
    },
    {
      "cell_type": "markdown",
      "source": [
        "### 배열의 형태 변경 1\n",
        "- reshape()"
      ],
      "metadata": {
        "id": "pF9g62J3eJyd"
      }
    },
    {
      "cell_type": "code",
      "source": [
        "arr = np.arange(12)\n",
        "print(arr,arr.ndim)"
      ],
      "metadata": {
        "colab": {
          "base_uri": "https://localhost:8080/"
        },
        "id": "gtsjjZSAeIz5",
        "outputId": "5c986c85-38eb-431f-ab31-a1f69ccc291a"
      },
      "execution_count": 60,
      "outputs": [
        {
          "output_type": "stream",
          "name": "stdout",
          "text": [
            "[ 0  1  2  3  4  5  6  7  8  9 10 11] 1\n"
          ]
        }
      ]
    },
    {
      "cell_type": "code",
      "source": [
        "arr = arr.reshape((3,4))\n",
        "print(arr,arr.ndim)"
      ],
      "metadata": {
        "colab": {
          "base_uri": "https://localhost:8080/"
        },
        "id": "gvb-i3cdeD0U",
        "outputId": "489695dd-feb2-4285-f44c-c1968ee95aae"
      },
      "execution_count": 61,
      "outputs": [
        {
          "output_type": "stream",
          "name": "stdout",
          "text": [
            "[[ 0  1  2  3]\n",
            " [ 4  5  6  7]\n",
            " [ 8  9 10 11]] 2\n"
          ]
        }
      ]
    },
    {
      "cell_type": "code",
      "source": [
        "arr = arr.reshape((2,3,2))\n",
        "print(arr,arr.ndim)"
      ],
      "metadata": {
        "colab": {
          "base_uri": "https://localhost:8080/"
        },
        "id": "ANf-_T7tepwg",
        "outputId": "d18ed192-b722-4a73-eec6-2ca8a2c01572"
      },
      "execution_count": 63,
      "outputs": [
        {
          "output_type": "stream",
          "name": "stdout",
          "text": [
            "[[[ 0  1]\n",
            "  [ 2  3]\n",
            "  [ 4  5]]\n",
            "\n",
            " [[ 6  7]\n",
            "  [ 8  9]\n",
            "  [10 11]]] 3\n"
          ]
        }
      ]
    },
    {
      "cell_type": "code",
      "source": [
        "arr = np.arange(36).reshape(3,4,3)\n",
        "print(arr,arr.ndim)"
      ],
      "metadata": {
        "colab": {
          "base_uri": "https://localhost:8080/"
        },
        "id": "ER_BGzLVe4ZB",
        "outputId": "4dc5b67b-da05-4c0b-956a-eafdd9d29cb8"
      },
      "execution_count": 64,
      "outputs": [
        {
          "output_type": "stream",
          "name": "stdout",
          "text": [
            "[[[ 0  1  2]\n",
            "  [ 3  4  5]\n",
            "  [ 6  7  8]\n",
            "  [ 9 10 11]]\n",
            "\n",
            " [[12 13 14]\n",
            "  [15 16 17]\n",
            "  [18 19 20]\n",
            "  [21 22 23]]\n",
            "\n",
            " [[24 25 26]\n",
            "  [27 28 29]\n",
            "  [30 31 32]\n",
            "  [33 34 35]]] 3\n"
          ]
        }
      ]
    },
    {
      "cell_type": "code",
      "source": [
        "arr = arr.reshape((2,2,3,3))\n",
        "print(arr,arr.ndim)"
      ],
      "metadata": {
        "colab": {
          "base_uri": "https://localhost:8080/"
        },
        "id": "9SJX1FFwe-gA",
        "outputId": "0eecbb37-2a9c-4278-d56e-2c037f1a9ae9"
      },
      "execution_count": 69,
      "outputs": [
        {
          "output_type": "stream",
          "name": "stdout",
          "text": [
            "[[[[ 0  1  2]\n",
            "   [ 3  4  5]\n",
            "   [ 6  7  8]]\n",
            "\n",
            "  [[ 9 10 11]\n",
            "   [12 13 14]\n",
            "   [15 16 17]]]\n",
            "\n",
            "\n",
            " [[[18 19 20]\n",
            "   [21 22 23]\n",
            "   [24 25 26]]\n",
            "\n",
            "  [[27 28 29]\n",
            "   [30 31 32]\n",
            "   [33 34 35]]]] 4\n"
          ]
        }
      ]
    },
    {
      "cell_type": "markdown",
      "source": [
        "### 배열의 형태 변경 2\n",
        "- resize\n",
        "- revel"
      ],
      "metadata": {
        "id": "Qv-Z7Knyflfu"
      }
    },
    {
      "cell_type": "code",
      "source": [
        "arr = np.arange(12)\n",
        "print(arr)"
      ],
      "metadata": {
        "colab": {
          "base_uri": "https://localhost:8080/"
        },
        "id": "JGC8MJDsfk1S",
        "outputId": "76227ce7-63aa-41a9-ada0-3cd0e6155f92"
      },
      "execution_count": 78,
      "outputs": [
        {
          "output_type": "stream",
          "name": "stdout",
          "text": [
            "[ 0  1  2  3  4  5  6  7  8  9 10 11]\n"
          ]
        }
      ]
    },
    {
      "cell_type": "code",
      "source": [
        "arr.resize(3,4) # resize 함수는 배열의 shape을 변경해주는데, 원본 데이터 형태가 변경된다\n",
        "print(arr,arr.ndim)"
      ],
      "metadata": {
        "colab": {
          "base_uri": "https://localhost:8080/"
        },
        "id": "lUkGyT9Tf2Xz",
        "outputId": "5e2cf650-d3b4-4da9-e41b-0c175c9ee8b3"
      },
      "execution_count": 79,
      "outputs": [
        {
          "output_type": "stream",
          "name": "stdout",
          "text": [
            "[[ 0  1  2  3]\n",
            " [ 4  5  6  7]\n",
            " [ 8  9 10 11]] 2\n"
          ]
        }
      ]
    },
    {
      "cell_type": "code",
      "source": [
        "print(arr.ravel()) # ravel 함수는 1차원 배열로 변경해주는 함수\n",
        "print(arr)\n",
        "arr = arr.ravel()\n",
        "print(arr)"
      ],
      "metadata": {
        "colab": {
          "base_uri": "https://localhost:8080/"
        },
        "id": "8XPzNe8ugDUv",
        "outputId": "732e2969-6bea-421d-f227-e9f967c0040f"
      },
      "execution_count": 80,
      "outputs": [
        {
          "output_type": "stream",
          "name": "stdout",
          "text": [
            "[ 0  1  2  3  4  5  6  7  8  9 10 11]\n",
            "[[ 0  1  2  3]\n",
            " [ 4  5  6  7]\n",
            " [ 8  9 10 11]]\n",
            "[ 0  1  2  3  4  5  6  7  8  9 10 11]\n"
          ]
        }
      ]
    },
    {
      "cell_type": "code",
      "source": [
        "# 1차원 배열\n",
        "arr = np.arange(1,13)\n",
        "print(arr)\n",
        "\n",
        "# 2차원 배열로 reshape\n",
        "arr = arr.reshape(-1,6)\n",
        "print(arr)\n",
        "\n",
        "# 3차원 배열로 reshape\n",
        "arr = arr.reshape((2,-1,3))\n",
        "print(arr)"
      ],
      "metadata": {
        "colab": {
          "base_uri": "https://localhost:8080/"
        },
        "id": "8TyzDT42gfot",
        "outputId": "778d7ec6-8b8f-467b-96fc-96d3e1bc6581"
      },
      "execution_count": 85,
      "outputs": [
        {
          "output_type": "stream",
          "name": "stdout",
          "text": [
            "[ 1  2  3  4  5  6  7  8  9 10 11 12]\n",
            "[[ 1  2  3  4  5  6]\n",
            " [ 7  8  9 10 11 12]]\n",
            "[[[ 1  2  3]\n",
            "  [ 4  5  6]]\n",
            "\n",
            " [[ 7  8  9]\n",
            "  [10 11 12]]]\n"
          ]
        }
      ]
    },
    {
      "cell_type": "markdown",
      "source": [
        "### 배열의 형태 변경 3\n",
        "- expand_dims\n",
        "- squeeze"
      ],
      "metadata": {
        "id": "YZc3HjImhYk1"
      }
    },
    {
      "cell_type": "code",
      "source": [
        "arr = np.arange(13)\n",
        "print(arr, arr.shape)\n",
        "\n",
        "arrs = np.expand_dims(arr, axis = 0)\n",
        "print(arrs, arrs.shape)\n",
        "\n",
        "arrs = np.expand_dims(arr, axis = 1)\n",
        "print(arrs, arrs.shape)"
      ],
      "metadata": {
        "colab": {
          "base_uri": "https://localhost:8080/"
        },
        "id": "KXYWFdpThXpj",
        "outputId": "474c28d0-d772-4729-8133-fe000e9c24d7"
      },
      "execution_count": 86,
      "outputs": [
        {
          "output_type": "stream",
          "name": "stdout",
          "text": [
            "[ 0  1  2  3  4  5  6  7  8  9 10 11 12] (13,)\n",
            "[[ 0  1  2  3  4  5  6  7  8  9 10 11 12]] (1, 13)\n",
            "[[ 0]\n",
            " [ 1]\n",
            " [ 2]\n",
            " [ 3]\n",
            " [ 4]\n",
            " [ 5]\n",
            " [ 6]\n",
            " [ 7]\n",
            " [ 8]\n",
            " [ 9]\n",
            " [10]\n",
            " [11]\n",
            " [12]] (13, 1)\n"
          ]
        }
      ]
    }
  ]
}