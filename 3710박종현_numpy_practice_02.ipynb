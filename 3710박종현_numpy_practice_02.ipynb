{
  "cells": [
    {
      "cell_type": "markdown",
      "metadata": {
        "id": "view-in-github",
        "colab_type": "text"
      },
      "source": [
        "<a href=\"https://colab.research.google.com/github/JongHyun070105/MachineLearning2025/blob/main/3710%EB%B0%95%EC%A2%85%ED%98%84_numpy_practice_02.ipynb\" target=\"_parent\"><img src=\"https://colab.research.google.com/assets/colab-badge.svg\" alt=\"Open In Colab\"/></a>"
      ]
    },
    {
      "cell_type": "markdown",
      "id": "41dd225b",
      "metadata": {
        "id": "41dd225b"
      },
      "source": [
        "## 1차원 배열 인덱싱\n"
      ]
    },
    {
      "cell_type": "markdown",
      "id": "59219b11",
      "metadata": {
        "id": "59219b11"
      },
      "source": [
        "### 1. `arr = np.arange(10)`을 생성한 후, 인덱스를 이용하여 3번째 원소를 출력하세요.\n"
      ]
    },
    {
      "cell_type": "code",
      "source": [
        "import numpy as np\n",
        "arr = np.arange(10)\n",
        "print(arr[2])"
      ],
      "metadata": {
        "colab": {
          "base_uri": "https://localhost:8080/"
        },
        "id": "VsYEwfmf1FZ4",
        "outputId": "a967ff3d-13d7-421c-a458-0d84ec68760b"
      },
      "id": "VsYEwfmf1FZ4",
      "execution_count": 9,
      "outputs": [
        {
          "output_type": "stream",
          "name": "stdout",
          "text": [
            "2\n"
          ]
        }
      ]
    },
    {
      "cell_type": "markdown",
      "id": "c4bf799a",
      "metadata": {
        "id": "c4bf799a"
      },
      "source": [
        "### 2. 위 배열에서 마지막 원소를 출력하세요.\n"
      ]
    },
    {
      "cell_type": "code",
      "source": [
        "print(arr[-1])"
      ],
      "metadata": {
        "colab": {
          "base_uri": "https://localhost:8080/"
        },
        "id": "Xn6WFAo41Nha",
        "outputId": "306d77b0-b7b7-4a26-eaa2-cc3988a38c7c"
      },
      "id": "Xn6WFAo41Nha",
      "execution_count": 5,
      "outputs": [
        {
          "output_type": "stream",
          "name": "stdout",
          "text": [
            "9\n"
          ]
        }
      ]
    },
    {
      "cell_type": "markdown",
      "id": "bfd16346",
      "metadata": {
        "id": "bfd16346"
      },
      "source": [
        "### 3. `arr`에서 2번째부터 5번째까지의 원소를 출력하세요.\n"
      ]
    },
    {
      "cell_type": "code",
      "source": [
        "print(arr[1:4])"
      ],
      "metadata": {
        "colab": {
          "base_uri": "https://localhost:8080/"
        },
        "id": "Ri2LXO9M1cRl",
        "outputId": "73f17c2c-6c1e-45d9-9f8f-6b75351b2b23"
      },
      "id": "Ri2LXO9M1cRl",
      "execution_count": 8,
      "outputs": [
        {
          "output_type": "stream",
          "name": "stdout",
          "text": [
            "[1 2 3]\n"
          ]
        }
      ]
    },
    {
      "cell_type": "markdown",
      "id": "d25b60be",
      "metadata": {
        "id": "d25b60be"
      },
      "source": [
        "### 4. `arr`에서 짝수 인덱스에 해당하는 값들만 출력하세요.\n"
      ]
    },
    {
      "cell_type": "code",
      "source": [
        "print(arr[0::2])"
      ],
      "metadata": {
        "colab": {
          "base_uri": "https://localhost:8080/"
        },
        "id": "fZT6DBp01pdV",
        "outputId": "b09282ce-45cd-4fdb-fbf3-68c1b807cd14"
      },
      "id": "fZT6DBp01pdV",
      "execution_count": 11,
      "outputs": [
        {
          "output_type": "stream",
          "name": "stdout",
          "text": [
            "[0 2 4 6 8]\n"
          ]
        }
      ]
    },
    {
      "cell_type": "markdown",
      "id": "15e0bc6e",
      "metadata": {
        "id": "15e0bc6e"
      },
      "source": [
        "### 5. `arr`에서 역순으로 배열을 출력하세요.\n"
      ]
    },
    {
      "cell_type": "code",
      "source": [
        "print(arr[::-1])"
      ],
      "metadata": {
        "colab": {
          "base_uri": "https://localhost:8080/"
        },
        "id": "2yZtFFXv104J",
        "outputId": "be13dc69-ed74-4ebd-8871-dbfa0b6dfa0a"
      },
      "id": "2yZtFFXv104J",
      "execution_count": 16,
      "outputs": [
        {
          "output_type": "stream",
          "name": "stdout",
          "text": [
            "[9 8 7 6 5 4 3 2 1 0]\n"
          ]
        }
      ]
    },
    {
      "cell_type": "markdown",
      "id": "daca28b5",
      "metadata": {
        "id": "daca28b5"
      },
      "source": [
        "## 2차원 배열 인덱싱\n"
      ]
    },
    {
      "cell_type": "markdown",
      "id": "ddb2ab3b",
      "metadata": {
        "id": "ddb2ab3b"
      },
      "source": [
        "### 6. `arr = np.array([[1, 2, 3], [4, 5, 6], [7, 8, 9]])`을 생성한 후, (1,1) 위치의 값을 출력하세요.\n"
      ]
    },
    {
      "cell_type": "code",
      "source": [
        "arr = np.array([[1, 2, 3], [4, 5, 6], [7, 8, 9]])\n",
        "print(arr[1,1])"
      ],
      "metadata": {
        "colab": {
          "base_uri": "https://localhost:8080/"
        },
        "id": "he9LGVi02feP",
        "outputId": "7246d537-99cf-4cb8-e2b1-928c017eb81f"
      },
      "id": "he9LGVi02feP",
      "execution_count": 17,
      "outputs": [
        {
          "output_type": "stream",
          "name": "stdout",
          "text": [
            "5\n"
          ]
        }
      ]
    },
    {
      "cell_type": "markdown",
      "id": "30b4b6f8",
      "metadata": {
        "id": "30b4b6f8"
      },
      "source": [
        "### 7. 위 배열에서 첫 번째 행을 출력하세요.\n"
      ]
    },
    {
      "cell_type": "code",
      "source": [
        "print(arr[0:1])"
      ],
      "metadata": {
        "colab": {
          "base_uri": "https://localhost:8080/"
        },
        "id": "_Jj8brN_2miS",
        "outputId": "449ed43e-2007-4518-ddcd-52bd723725c3"
      },
      "id": "_Jj8brN_2miS",
      "execution_count": 19,
      "outputs": [
        {
          "output_type": "stream",
          "name": "stdout",
          "text": [
            "[[1 2 3]]\n"
          ]
        }
      ]
    },
    {
      "cell_type": "markdown",
      "id": "a806bf29",
      "metadata": {
        "id": "a806bf29"
      },
      "source": [
        "### 8. 위 배열에서 두 번째 열을 출력하세요.\n"
      ]
    },
    {
      "cell_type": "code",
      "source": [
        "print(arr[:,1])"
      ],
      "metadata": {
        "colab": {
          "base_uri": "https://localhost:8080/"
        },
        "id": "BQeQj-XV3Myb",
        "outputId": "3223f82f-86f6-4db6-ee37-284f57bff30f"
      },
      "id": "BQeQj-XV3Myb",
      "execution_count": 31,
      "outputs": [
        {
          "output_type": "stream",
          "name": "stdout",
          "text": [
            "[2 5 8]\n"
          ]
        }
      ]
    },
    {
      "cell_type": "markdown",
      "id": "4d5fe478",
      "metadata": {
        "id": "4d5fe478"
      },
      "source": [
        "### 9. 위 배열에서 대각선 요소(1,5,9)를 출력하세요.\n"
      ]
    },
    {
      "cell_type": "code",
      "source": [
        "print(np.diag(arr))"
      ],
      "metadata": {
        "colab": {
          "base_uri": "https://localhost:8080/"
        },
        "id": "uiN2fjAx3z2C",
        "outputId": "dc6c0630-81f1-4fcb-c3bc-e032c9bd42b2"
      },
      "id": "uiN2fjAx3z2C",
      "execution_count": 32,
      "outputs": [
        {
          "output_type": "stream",
          "name": "stdout",
          "text": [
            "[1 5 9]\n"
          ]
        }
      ]
    },
    {
      "cell_type": "markdown",
      "id": "c864cfde",
      "metadata": {
        "id": "c864cfde"
      },
      "source": [
        "### 10. 위 배열에서 마지막 행의 모든 값을 출력하세요.\n"
      ]
    },
    {
      "cell_type": "code",
      "source": [
        "print(arr[2:])"
      ],
      "metadata": {
        "colab": {
          "base_uri": "https://localhost:8080/"
        },
        "id": "v3yC4kvS4mQN",
        "outputId": "200f5a12-dbb8-41f9-9e61-7916d69384da"
      },
      "id": "v3yC4kvS4mQN",
      "execution_count": 34,
      "outputs": [
        {
          "output_type": "stream",
          "name": "stdout",
          "text": [
            "[[7 8 9]]\n"
          ]
        }
      ]
    },
    {
      "cell_type": "markdown",
      "id": "71569204",
      "metadata": {
        "id": "71569204"
      },
      "source": [
        "## 3차원 배열 인덱싱\n"
      ]
    },
    {
      "cell_type": "markdown",
      "id": "ab90aa64",
      "metadata": {
        "id": "ab90aa64"
      },
      "source": [
        "### 11. `arr = np.arange(27).reshape(3,3,3)`을 생성하고, (2,1,0) 위치의 값을 출력하세요.\n"
      ]
    },
    {
      "cell_type": "code",
      "source": [
        "arr = np.arange(27).reshape(3,3,3)\n",
        "print(arr[2,1,0])"
      ],
      "metadata": {
        "colab": {
          "base_uri": "https://localhost:8080/"
        },
        "id": "WmPHX8rM4tAj",
        "outputId": "95de670d-3d37-4b03-c0e3-001ddf5c0d60"
      },
      "id": "WmPHX8rM4tAj",
      "execution_count": 36,
      "outputs": [
        {
          "output_type": "stream",
          "name": "stdout",
          "text": [
            "21\n"
          ]
        }
      ]
    },
    {
      "cell_type": "markdown",
      "id": "51aa740f",
      "metadata": {
        "id": "51aa740f"
      },
      "source": [
        "### 12. 위 배열에서 첫 번째 행렬을 출력하세요.\n"
      ]
    },
    {
      "cell_type": "code",
      "source": [
        "print(arr[:1])"
      ],
      "metadata": {
        "colab": {
          "base_uri": "https://localhost:8080/"
        },
        "id": "MA37ldpQ4xpp",
        "outputId": "28bf2c70-fe77-44a5-d13f-a040323146c6"
      },
      "id": "MA37ldpQ4xpp",
      "execution_count": 41,
      "outputs": [
        {
          "output_type": "stream",
          "name": "stdout",
          "text": [
            "[[[0 1 2]\n",
            "  [3 4 5]\n",
            "  [6 7 8]]]\n"
          ]
        }
      ]
    },
    {
      "cell_type": "markdown",
      "id": "e2272f2d",
      "metadata": {
        "id": "e2272f2d"
      },
      "source": [
        "### 13. 위 배열에서 두 번째 열의 모든 행렬 요소를 출력하세요.\n"
      ]
    },
    {
      "cell_type": "code",
      "source": [
        "print(arr[1:2])"
      ],
      "metadata": {
        "colab": {
          "base_uri": "https://localhost:8080/"
        },
        "id": "-g8DX2Z444Yn",
        "outputId": "1814a092-d3d0-4c9a-f9ca-b090115c26a0"
      },
      "id": "-g8DX2Z444Yn",
      "execution_count": 43,
      "outputs": [
        {
          "output_type": "stream",
          "name": "stdout",
          "text": [
            "[[[ 9 10 11]\n",
            "  [12 13 14]\n",
            "  [15 16 17]]]\n"
          ]
        }
      ]
    },
    {
      "cell_type": "markdown",
      "id": "c166d7e3",
      "metadata": {
        "id": "c166d7e3"
      },
      "source": [
        "### 14. 위 배열에서 마지막 차원의 모든 원소를 출력하세요.\n"
      ]
    },
    {
      "cell_type": "code",
      "source": [
        "print(arr[2:])"
      ],
      "metadata": {
        "colab": {
          "base_uri": "https://localhost:8080/"
        },
        "id": "YNuLaigN49Nu",
        "outputId": "496a7221-0461-4284-c422-d7d97bbae003"
      },
      "id": "YNuLaigN49Nu",
      "execution_count": 44,
      "outputs": [
        {
          "output_type": "stream",
          "name": "stdout",
          "text": [
            "[[[18 19 20]\n",
            "  [21 22 23]\n",
            "  [24 25 26]]]\n"
          ]
        }
      ]
    },
    {
      "cell_type": "markdown",
      "id": "01c309bd",
      "metadata": {
        "id": "01c309bd"
      },
      "source": [
        "### 15. 위 배열에서 특정 조건을 만족하는 값(예: 값이 10보다 큰 요소)을 출력하세요.\n",
        "\n",
        "> 인용구 추가\n",
        "\n",
        "\n"
      ]
    },
    {
      "cell_type": "code",
      "source": [
        "result = arr[arr > 10]\n",
        "print(result)"
      ],
      "metadata": {
        "colab": {
          "base_uri": "https://localhost:8080/"
        },
        "id": "IiRCPA8G5AV-",
        "outputId": "bc50eb1f-7ebb-43b5-c6fe-b9a0b6ab82dd"
      },
      "id": "IiRCPA8G5AV-",
      "execution_count": 53,
      "outputs": [
        {
          "output_type": "stream",
          "name": "stdout",
          "text": [
            "[11 12 13 14 15 16 17 18 19 20 21 22 23 24 25 26]\n"
          ]
        }
      ]
    },
    {
      "cell_type": "markdown",
      "id": "392b158d",
      "metadata": {
        "id": "392b158d"
      },
      "source": [
        "## 부울 인덱싱 및 조건부 인덱싱\n"
      ]
    },
    {
      "cell_type": "markdown",
      "id": "0750039c",
      "metadata": {
        "id": "0750039c"
      },
      "source": [
        "### 16. `arr = np.array([3, 7, 1, 9, 2, 6])`에서 값이 5보다 큰 요소들만 출력하세요.\n"
      ]
    },
    {
      "cell_type": "code",
      "source": [
        "arr = np.array([3,7,1,9,2,6])\n",
        "\n",
        "result = arr[arr > 5]\n",
        "print(result)"
      ],
      "metadata": {
        "colab": {
          "base_uri": "https://localhost:8080/"
        },
        "id": "vx_OZlkx5-Jb",
        "outputId": "9bf91d1e-1c1a-488a-fa30-a78ba9cff382"
      },
      "id": "vx_OZlkx5-Jb",
      "execution_count": 54,
      "outputs": [
        {
          "output_type": "stream",
          "name": "stdout",
          "text": [
            "[7 9 6]\n"
          ]
        }
      ]
    },
    {
      "cell_type": "markdown",
      "id": "cbac052b",
      "metadata": {
        "id": "cbac052b"
      },
      "source": [
        "### 17. `arr = np.array([[10, 20, 30], [40, 50, 60], [70, 80, 90]])`에서 값이 50 이상인 요소를 출력하세요.\n"
      ]
    },
    {
      "cell_type": "code",
      "source": [
        "arr = np.array([[10,20,30],[40,50,60],[70,80,90]])\n",
        "\n",
        "result = arr[arr > 50]\n",
        "print(result)"
      ],
      "metadata": {
        "colab": {
          "base_uri": "https://localhost:8080/"
        },
        "id": "8sks7eeb6FAW",
        "outputId": "9ef52216-0c7e-4060-d85d-2513b0f0e9c8"
      },
      "id": "8sks7eeb6FAW",
      "execution_count": 64,
      "outputs": [
        {
          "output_type": "stream",
          "name": "stdout",
          "text": [
            "[60 70 80 90]\n"
          ]
        }
      ]
    },
    {
      "cell_type": "markdown",
      "id": "425239df",
      "metadata": {
        "id": "425239df"
      },
      "source": [
        "### 18. 위 배열에서 값이 30 또는 80인 요소를 출력하세요.\n"
      ]
    },
    {
      "cell_type": "code",
      "source": [
        "result = arr[(arr == 30) | (arr == 80)]\n",
        "result"
      ],
      "metadata": {
        "colab": {
          "base_uri": "https://localhost:8080/"
        },
        "id": "GJMfNHMZ7YYe",
        "outputId": "4974d953-419a-447f-d362-a22eed681a69"
      },
      "id": "GJMfNHMZ7YYe",
      "execution_count": 72,
      "outputs": [
        {
          "output_type": "execute_result",
          "data": {
            "text/plain": [
              "array([30, 80])"
            ]
          },
          "metadata": {},
          "execution_count": 72
        }
      ]
    },
    {
      "cell_type": "markdown",
      "id": "72108624",
      "metadata": {
        "id": "72108624"
      },
      "source": [
        "## 고급 인덱싱\n"
      ]
    },
    {
      "cell_type": "markdown",
      "id": "67596311",
      "metadata": {
        "id": "67596311"
      },
      "source": [
        "### 19. `arr = np.array([10, 20, 30, 40, 50])`에서 인덱스 배열 `idx = np.array([0, 2, 4])`을 사용하여 해당 위치의 값을 출력하세요.\n"
      ]
    },
    {
      "cell_type": "code",
      "source": [
        "arr = np.array([10,20,30,40,50])\n",
        "\n",
        "idx = np.array([0,2,4])\n",
        "\n",
        "print(arr[idx])"
      ],
      "metadata": {
        "colab": {
          "base_uri": "https://localhost:8080/"
        },
        "id": "3NLR0LGx7lzF",
        "outputId": "70296026-fe71-45fd-93a8-d1c8a46fe909"
      },
      "id": "3NLR0LGx7lzF",
      "execution_count": 83,
      "outputs": [
        {
          "output_type": "stream",
          "name": "stdout",
          "text": [
            "[10 30 50]\n"
          ]
        }
      ]
    },
    {
      "cell_type": "markdown",
      "id": "fc61bf0a",
      "metadata": {
        "id": "fc61bf0a"
      },
      "source": [
        "### 20. `arr = np.array([[1, 2], [3, 4], [5, 6]])`에서 인덱스 배열을 사용하여 (0,1), (2,0) 위치의 값을 출력하세요.\n"
      ]
    },
    {
      "cell_type": "code",
      "execution_count": 92,
      "id": "260dc7e6",
      "metadata": {
        "colab": {
          "base_uri": "https://localhost:8080/"
        },
        "id": "260dc7e6",
        "outputId": "e24edd15-983b-490d-feb0-3c8dd5849dab"
      },
      "outputs": [
        {
          "output_type": "stream",
          "name": "stdout",
          "text": [
            "2 5\n"
          ]
        }
      ],
      "source": [
        "arr = np.array([[1,2],[3,4],[5,6]])\n",
        "\n",
        "print(arr[0,1],arr[2,0])"
      ]
    }
  ],
  "metadata": {
    "colab": {
      "provenance": [],
      "include_colab_link": true
    },
    "language_info": {
      "name": "python"
    },
    "kernelspec": {
      "name": "python3",
      "display_name": "Python 3"
    }
  },
  "nbformat": 4,
  "nbformat_minor": 5
}