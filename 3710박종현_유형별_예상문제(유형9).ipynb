{
  "nbformat": 4,
  "nbformat_minor": 0,
  "metadata": {
    "colab": {
      "provenance": [],
      "include_colab_link": true
    },
    "kernelspec": {
      "name": "python3",
      "display_name": "Python 3"
    },
    "language_info": {
      "name": "python"
    }
  },
  "cells": [
    {
      "cell_type": "markdown",
      "metadata": {
        "id": "view-in-github",
        "colab_type": "text"
      },
      "source": [
        "<a href=\"https://colab.research.google.com/github/JongHyun070105/MachineLearning2025/blob/main/3710%EB%B0%95%EC%A2%85%ED%98%84_%EC%9C%A0%ED%98%95%EB%B3%84_%EC%98%88%EC%83%81%EB%AC%B8%EC%A0%9C(%EC%9C%A0%ED%98%959).ipynb\" target=\"_parent\"><img src=\"https://colab.research.google.com/assets/colab-badge.svg\" alt=\"Open In Colab\"/></a>"
      ]
    },
    {
      "cell_type": "markdown",
      "source": [
        "# 유형별 예상문제(유형9)\n",
        "# 원-핫 인코딩 적용"
      ],
      "metadata": {
        "id": "WOQNxuHow6dB"
      }
    },
    {
      "cell_type": "code",
      "source": [
        "# 01.\n",
        "# 데이터프레임에서 모든 object 타입의 컬럼을 원-핫 인코딩하세요.\n",
        "\n",
        "obj_col = df.select_dtypes('object').columns\n",
        "\n",
        "pd.get_dummies(data = df, columns = obj_col)\n"
      ],
      "metadata": {
        "id": "t9Yy6YAsxHof"
      },
      "execution_count": null,
      "outputs": []
    },
    {
      "cell_type": "code",
      "source": [
        "# 02.\n",
        "# origin 컬럼을 원-핫 인코딩하세요.\n",
        "\n",
        "pd.get_dummies(data = df, columns = ['origin'])"
      ],
      "metadata": {
        "id": "9DLhtcmxxcEp"
      },
      "execution_count": null,
      "outputs": []
    },
    {
      "cell_type": "code",
      "source": [
        "# 03.\n",
        "# origin 컬럼을 라벨 인코딩(Label Encoding)하세요.\n",
        "# origin 컬럼이 1,2,3 으로 변환되도록 처리하세요.\n",
        "\n",
        "from sklearn.preprocessing import LabelEncoder\n",
        "\n",
        "encoder = LabelEncoder()\n",
        "df['origin'] = encoder.fit_transform(df['origin']) + 1"
      ],
      "metadata": {
        "id": "iiCkidghxgY3"
      },
      "execution_count": null,
      "outputs": []
    },
    {
      "cell_type": "code",
      "source": [
        "# 04.\n",
        "# origin 컬럼을 숫자 값 (1, 2, 3)으로 변환하는 순서형 인코딩(Ordinal Encoding)을 적용하세요.\n",
        "from sklearn.preprocessing import OrdinalEncoder\n",
        "\n",
        "enc = OrdinalEncoder()\n",
        "df['origin'] = enc.fit_transform(df['origin']) + 1"
      ],
      "metadata": {
        "id": "ltVCJk5OxkyC"
      },
      "execution_count": null,
      "outputs": []
    },
    {
      "cell_type": "code",
      "source": [
        "# 05.\n",
        "# origin 컬럼을 원-핫 인코딩하여 origin_1, origin_2, origin_3 컬럼을 생성하세요.\n",
        "\n",
        "df['origin_1'] = pd.get_dummies(data = df, columns = ['origin'])\n",
        "\n",
        "df['origin_2'] = pd.get_dummies(data = df, columns = ['origin'])\n",
        "\n",
        "df['origin_3'] = pd.get_dummies(data = df, columns = ['origin'])"
      ],
      "metadata": {
        "id": "JOY22gsExk9x"
      },
      "execution_count": null,
      "outputs": []
    }
  ]
}