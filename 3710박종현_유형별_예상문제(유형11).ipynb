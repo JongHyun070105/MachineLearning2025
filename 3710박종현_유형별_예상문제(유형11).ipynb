{
  "nbformat": 4,
  "nbformat_minor": 0,
  "metadata": {
    "colab": {
      "provenance": [],
      "include_colab_link": true
    },
    "kernelspec": {
      "name": "python3",
      "display_name": "Python 3"
    },
    "language_info": {
      "name": "python"
    }
  },
  "cells": [
    {
      "cell_type": "markdown",
      "metadata": {
        "id": "view-in-github",
        "colab_type": "text"
      },
      "source": [
        "<a href=\"https://colab.research.google.com/github/JongHyun070105/MachineLearning2025/blob/main/3710%EB%B0%95%EC%A2%85%ED%98%84_%EC%9C%A0%ED%98%95%EB%B3%84_%EC%98%88%EC%83%81%EB%AC%B8%EC%A0%9C(%EC%9C%A0%ED%98%9511).ipynb\" target=\"_parent\"><img src=\"https://colab.research.google.com/assets/colab-badge.svg\" alt=\"Open In Colab\"/></a>"
      ]
    },
    {
      "cell_type": "markdown",
      "source": [
        "# 유형별 예상문제(유형11)\n",
        "# 머신러닝 모델 학습"
      ],
      "metadata": {
        "id": "WOQNxuHow6dB"
      }
    },
    {
      "cell_type": "code",
      "source": [
        "# 01.\n",
        "# DecisionTreeRegressor와 RandomForestRegressor를 학습하세요.\n",
        "# max_depth=5, random_state=1202로 설정하세요.\n",
        "# 훈련 데이터(X_train, y_train)을 사용해 모델을 학습하세요.\n",
        "# tip 트리 기반 모델은 스케일링이 필요하지 않습니다.\n",
        "\n",
        "from sklearn.tree import DecisionTreeRegressor\n",
        "from sklearn.ensemble import RandomForestRegressor\n",
        "\n",
        "dt = DecisionTreeRegressor(max_depth = 5, random_state = 1202)\n",
        "rf = RandomForestRegressor(max_depth = 5, random_state = 1202)\n",
        "\n",
        "dt.fit(X_train, y_train)\n",
        "rf.fit(X_train, y_train)"
      ],
      "metadata": {
        "id": "t9Yy6YAsxHof"
      },
      "execution_count": null,
      "outputs": []
    },
    {
      "cell_type": "code",
      "source": [
        "# 02.\n",
        "# LinearRegression 모델을 학습하세요.\n",
        "# X_train_scaled, X_valid_scaled 데이터를 사용하세요.\n",
        "# tip 선형 모델은 스케일링이 필요합니다.\n",
        "\n",
        "from sklearn.linear_model import LinearRegression\n",
        "\n",
        "reg = LinearRegression().fit(X_train_scaled, X_valid_scaled)"
      ],
      "metadata": {
        "id": "9DLhtcmxxcEp"
      },
      "execution_count": null,
      "outputs": []
    },
    {
      "cell_type": "code",
      "source": [
        "# 03.\n",
        "# XGBoostRegressor 모델을 학습하세요.\n",
        "# n_estimators=100, learning_rate=0.1, random_state=42 설정\n",
        "# tip 트리 기반 모델이므로 스케일링이 필요하지 않습니다.\n",
        "\n",
        "from xgboost import XGBRegressor\n",
        "\n",
        "model = XGBRegressor(n_estimators = 100, learning_rate = 0.1, random_state = 42)\n",
        "\n",
        "model.fit(X_train,y_train)\n"
      ],
      "metadata": {
        "id": "iiCkidghxgY3"
      },
      "execution_count": null,
      "outputs": []
    },
    {
      "cell_type": "code",
      "source": [
        "# 04.\n",
        "# GradientBoostingRegressor 모델을 학습하세요.\n",
        "# n_estimators=50, max_depth=4, random_state=42 설정\n",
        "# tip 트리 기반 모델이므로 스케일링이 필요하지 않습니다.\n",
        "\n",
        "from sklearn.ensemble import GradientBoostingRegressor\n",
        "\n",
        "model = GradientBoostingRegressor(n_estimators=50, max_depth=4, random_state=42)\n",
        "\n",
        "model.fit(X_train,y_train)"
      ],
      "metadata": {
        "id": "ltVCJk5OxkyC"
      },
      "execution_count": null,
      "outputs": []
    },
    {
      "cell_type": "code",
      "source": [
        "# 05.\n",
        "# Support Vector Regressor (SVR) 모델을 학습하세요.\n",
        "# kernel=\"rbf\", C=10, epsilon=0.1 설정\n",
        "# X_train_scaled, X_valid_scaled 데이터를 사용하세요.\n",
        "# tip SVR 모델은 거리 기반이므로 스케일링이 필요합니다.\n",
        "\n",
        "from sklearn.svm import SVR\n",
        "\n",
        "model = SVR(kernel=\"rbf\", C=10, epsilon=0.1)\n",
        "\n",
        "model.fit(X_train_scaled, X_valid_scaled)\n"
      ],
      "metadata": {
        "id": "JOY22gsExk9x"
      },
      "execution_count": null,
      "outputs": []
    }
  ]
}