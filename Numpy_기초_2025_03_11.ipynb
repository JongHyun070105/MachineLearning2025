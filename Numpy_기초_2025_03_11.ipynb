{
  "nbformat": 4,
  "nbformat_minor": 0,
  "metadata": {
    "colab": {
      "provenance": [],
      "authorship_tag": "ABX9TyOZtPWMjtDgYqjsVsylRXmJ",
      "include_colab_link": true
    },
    "kernelspec": {
      "name": "python3",
      "display_name": "Python 3"
    },
    "language_info": {
      "name": "python"
    }
  },
  "cells": [
    {
      "cell_type": "markdown",
      "metadata": {
        "id": "view-in-github",
        "colab_type": "text"
      },
      "source": [
        "<a href=\"https://colab.research.google.com/github/JongHyun070105/MachineLearning2025/blob/main/Numpy_%EA%B8%B0%EC%B4%88_2025_03_11.ipynb\" target=\"_parent\"><img src=\"https://colab.research.google.com/assets/colab-badge.svg\" alt=\"Open In Colab\"/></a>"
      ]
    },
    {
      "cell_type": "markdown",
      "source": [
        "# 배열에 원소 추가 및 삭제"
      ],
      "metadata": {
        "id": "OfTET-Ua0IB9"
      }
    },
    {
      "cell_type": "code",
      "source": [
        "import numpy as np"
      ],
      "metadata": {
        "id": "-dxvGiDk0ob4"
      },
      "execution_count": 2,
      "outputs": []
    },
    {
      "cell_type": "code",
      "execution_count": 5,
      "metadata": {
        "colab": {
          "base_uri": "https://localhost:8080/"
        },
        "id": "yWoF-wisw5aG",
        "outputId": "03641561-f5ec-4fef-ac8b-cee28ad912d8"
      },
      "outputs": [
        {
          "output_type": "stream",
          "name": "stdout",
          "text": [
            "[1, 2, 3, 4, 5, 6, 7, 8]\n",
            "[1, 2, 50, 3, 4, 5, 6, 7, 8]\n",
            "[1 2 3 4 5 6 7 8]\n",
            "[ 1  2 50  3  4  5  6  7  8]\n"
          ]
        }
      ],
      "source": [
        "# 리스트\n",
        "\n",
        "li = list(range(1,9))\n",
        "print(li)\n",
        "li.insert(2,50) # insert(위치, 삽입할 값)\n",
        "print(li)\n",
        "\n",
        "# 1차원 배열\n",
        "arr = np.arange(1,9)\n",
        "print(arr)\n",
        "arr = np.insert(arr, 2, 50)\n",
        "print(arr)"
      ]
    },
    {
      "cell_type": "code",
      "source": [
        "arr = np.arange(1,13).reshape(3,4)\n",
        "print(arr,'\\n\\n')\n",
        "\n",
        "arr = np.insert(arr, 2, 50, axis=0)\n",
        "print(arr,'\\n\\n')\n",
        "\n",
        "arr = np.insert(arr, 2, 50, axis=1)\n",
        "print(arr,'\\n\\n')\n",
        "\n",
        "arr = np.insert(arr, 2, 50) # axis 를 지정하지 않으면 1차원으로 변형하여 추가\n",
        "print(arr)"
      ],
      "metadata": {
        "colab": {
          "base_uri": "https://localhost:8080/"
        },
        "id": "f9kSWmeAxy8X",
        "outputId": "2552a0f3-4e99-473a-f86a-4f16f9b8479a"
      },
      "execution_count": 10,
      "outputs": [
        {
          "output_type": "stream",
          "name": "stdout",
          "text": [
            "[[ 1  2  3  4]\n",
            " [ 5  6  7  8]\n",
            " [ 9 10 11 12]] \n",
            "\n",
            "\n",
            "[[ 1  2  3  4]\n",
            " [ 5  6  7  8]\n",
            " [50 50 50 50]\n",
            " [ 9 10 11 12]] \n",
            "\n",
            "\n",
            "[[ 1  2 50  3  4]\n",
            " [ 5  6 50  7  8]\n",
            " [50 50 50 50 50]\n",
            " [ 9 10 50 11 12]] \n",
            "\n",
            "\n",
            "[ 1  2 50 50  3  4  5  6 50  7  8 50 50 50 50 50  9 10 50 11 12]\n"
          ]
        }
      ]
    },
    {
      "cell_type": "code",
      "source": [
        "# delete\n",
        "\n",
        "arr = np.arange(1,13).reshape(3,4)\n",
        "print(arr,'\\n\\n')\n",
        "\n",
        "arr = np.delete(arr, 2, axis=0)\n",
        "print(arr,'\\n\\n')\n",
        "\n",
        "arr = np.delete(arr, 2, axis=1)\n",
        "print(arr,'\\n\\n')\n",
        "\n",
        "arr = np.delete(arr, 2) # axis 를 지정하지 않으면 1차원으로 변형하여 추가\n",
        "print(arr)"
      ],
      "metadata": {
        "colab": {
          "base_uri": "https://localhost:8080/"
        },
        "id": "x9mSW7dv1paY",
        "outputId": "42a5ee6a-29fb-4903-81fc-9c5e597f8b6c"
      },
      "execution_count": 12,
      "outputs": [
        {
          "output_type": "stream",
          "name": "stdout",
          "text": [
            "[[ 1  2  3  4]\n",
            " [ 5  6  7  8]\n",
            " [ 9 10 11 12]] \n",
            "\n",
            "\n",
            "[[1 2 3 4]\n",
            " [5 6 7 8]] \n",
            "\n",
            "\n",
            "[[1 2 4]\n",
            " [5 6 8]] \n",
            "\n",
            "\n",
            "[1 2 5 6 8]\n"
          ]
        }
      ]
    },
    {
      "cell_type": "markdown",
      "source": [
        "# 배열간의 병합"
      ],
      "metadata": {
        "id": "cL8QQcDN2Vz9"
      }
    },
    {
      "cell_type": "code",
      "source": [
        "# append\n",
        "arr = np.arange(1,13).reshape(3,4)\n",
        "arr1 = np.arange(13,25).reshape(3,4)\n",
        "\n",
        "print(arr,'\\n\\n',arr1, '\\n\\n')\n",
        "\n",
        "arr2 = np.append(arr,arr1, axis = 0)\n",
        "print(arr2,'\\n\\n')\n",
        "\n",
        "arr3 = np.append(arr,arr1, axis = 1)\n",
        "print(arr3,'\\n\\n')\n",
        "\n",
        "arr4 = np.append(arr, arr1) # axis를 생략하면 1차원으로 변환하여 병합\n",
        "print(arr4)"
      ],
      "metadata": {
        "colab": {
          "base_uri": "https://localhost:8080/"
        },
        "id": "glpEBBfG2lGK",
        "outputId": "e42d4afc-75fd-486c-93f2-55a3d781938d"
      },
      "execution_count": 19,
      "outputs": [
        {
          "output_type": "stream",
          "name": "stdout",
          "text": [
            "[[ 1  2  3  4]\n",
            " [ 5  6  7  8]\n",
            " [ 9 10 11 12]] \n",
            "\n",
            " [[13 14 15 16]\n",
            " [17 18 19 20]\n",
            " [21 22 23 24]] \n",
            "\n",
            "\n",
            "[[ 1  2  3  4]\n",
            " [ 5  6  7  8]\n",
            " [ 9 10 11 12]\n",
            " [13 14 15 16]\n",
            " [17 18 19 20]\n",
            " [21 22 23 24]] \n",
            "\n",
            "\n",
            "[[ 1  2  3  4 13 14 15 16]\n",
            " [ 5  6  7  8 17 18 19 20]\n",
            " [ 9 10 11 12 21 22 23 24]] \n",
            "\n",
            "\n",
            "[ 1  2  3  4  5  6  7  8  9 10 11 12 13 14 15 16 17 18 19 20 21 22 23 24]\n"
          ]
        }
      ]
    },
    {
      "cell_type": "markdown",
      "source": [
        "# vstack() / hsctack()\n",
        "\n",
        "## numpy.vstack(튜플)"
      ],
      "metadata": {
        "id": "BsK82-5H3wEe"
      }
    },
    {
      "cell_type": "code",
      "source": [
        "arr1 = np.arange(1,7).reshape(2,3)\n",
        "arr2 = np.arange(7,13).reshape(2,3)\n",
        "\n",
        "print(arr1,'\\n\\n',arr2,'\\n\\n')\n",
        "\n",
        "arr3 = np.vstack((arr1,arr2)) # vstack => aixs = 0 을 기준으로 병합하는 함수\n",
        "print(arr3,'\\n\\n')\n",
        "\n",
        "arr4 = np.hstack((arr1,arr2)) # hstack => aixs = 1 을 기준으로 병합하는 함수\n",
        "print(arr4)\n"
      ],
      "metadata": {
        "colab": {
          "base_uri": "https://localhost:8080/"
        },
        "id": "KWaVQuut34z2",
        "outputId": "e0700a18-3fd4-44d3-dd45-51a76c951c57"
      },
      "execution_count": 25,
      "outputs": [
        {
          "output_type": "stream",
          "name": "stdout",
          "text": [
            "[[1 2 3]\n",
            " [4 5 6]] \n",
            "\n",
            " [[ 7  8  9]\n",
            " [10 11 12]] \n",
            "\n",
            "\n",
            "[[ 1  2  3]\n",
            " [ 4  5  6]\n",
            " [ 7  8  9]\n",
            " [10 11 12]] \n",
            "\n",
            "\n",
            "[[ 1  2  3  7  8  9]\n",
            " [ 4  5  6 10 11 12]]\n"
          ]
        }
      ]
    },
    {
      "cell_type": "markdown",
      "source": [
        "# concatenate()"
      ],
      "metadata": {
        "id": "_O5TLoba46mm"
      }
    },
    {
      "cell_type": "code",
      "source": [
        "arrt = np.concatenate((arr1,arr2), axis = 0)\n",
        "print(arrt,'\\n\\n')\n",
        "\n",
        "arrh = np.concatenate((arr1,arr2), axis = 1)\n",
        "print(arrh)"
      ],
      "metadata": {
        "colab": {
          "base_uri": "https://localhost:8080/"
        },
        "id": "20mGxeJa49dP",
        "outputId": "cdb846e9-9bbd-4127-a852-d0d17e62456a"
      },
      "execution_count": 26,
      "outputs": [
        {
          "output_type": "stream",
          "name": "stdout",
          "text": [
            "[[ 1  2  3]\n",
            " [ 4  5  6]\n",
            " [ 7  8  9]\n",
            " [10 11 12]] \n",
            "\n",
            "\n",
            "[[ 1  2  3  7  8  9]\n",
            " [ 4  5  6 10 11 12]]\n"
          ]
        }
      ]
    },
    {
      "cell_type": "markdown",
      "source": [
        "# split()"
      ],
      "metadata": {
        "id": "3JnwJ6Mw5H6f"
      }
    },
    {
      "cell_type": "code",
      "source": [
        "arr = np.arange(1,13).reshape(3,4)\n",
        "print(arr,'\\n\\n')\n",
        "\n",
        "arr1 = np.split(arr, 3, axis = 0)\n",
        "print(arr1,'\\n',type(arr1),'\\n\\n') # numpy 배열구조를 가지고 있다\n",
        "\n",
        "arr2 = np.vsplit(arr, 3)\n",
        "print(arr2,'\\n','\\n\\n')\n",
        "\n",
        "arr3 = np.hsplit(arr, 2)\n",
        "print(arr3,'\\n')"
      ],
      "metadata": {
        "colab": {
          "base_uri": "https://localhost:8080/"
        },
        "id": "JW-s0pYE5JIu",
        "outputId": "00b302b9-522a-475d-80cc-4178b57b553a"
      },
      "execution_count": 42,
      "outputs": [
        {
          "output_type": "stream",
          "name": "stdout",
          "text": [
            "[[ 1  2  3  4]\n",
            " [ 5  6  7  8]\n",
            " [ 9 10 11 12]] \n",
            "\n",
            "\n",
            "[array([[1, 2, 3, 4]]), array([[5, 6, 7, 8]]), array([[ 9, 10, 11, 12]])] \n",
            " <class 'list'> \n",
            "\n",
            "\n",
            "[array([[1, 2, 3, 4]]), array([[5, 6, 7, 8]]), array([[ 9, 10, 11, 12]])] \n",
            " \n",
            "\n",
            "\n",
            "[array([[ 1,  2],\n",
            "       [ 5,  6],\n",
            "       [ 9, 10]]), array([[ 3,  4],\n",
            "       [ 7,  8],\n",
            "       [11, 12]])] \n",
            "\n"
          ]
        }
      ]
    },
    {
      "cell_type": "code",
      "source": [
        "arr1 = np.full([3,4,5],3)\n",
        "print(arr1)"
      ],
      "metadata": {
        "colab": {
          "base_uri": "https://localhost:8080/"
        },
        "id": "yNntoxdUA0lW",
        "outputId": "5c0fc07f-e709-43b8-b087-fdbd6759e4f2"
      },
      "execution_count": 46,
      "outputs": [
        {
          "output_type": "stream",
          "name": "stdout",
          "text": [
            "[[[3 3 3 3 3]\n",
            "  [3 3 3 3 3]\n",
            "  [3 3 3 3 3]\n",
            "  [3 3 3 3 3]]\n",
            "\n",
            " [[3 3 3 3 3]\n",
            "  [3 3 3 3 3]\n",
            "  [3 3 3 3 3]\n",
            "  [3 3 3 3 3]]\n",
            "\n",
            " [[3 3 3 3 3]\n",
            "  [3 3 3 3 3]\n",
            "  [3 3 3 3 3]\n",
            "  [3 3 3 3 3]]]\n"
          ]
        }
      ]
    },
    {
      "cell_type": "markdown",
      "source": [
        "다음 조건에 맞는 배열을 생성하시오\n",
        "- 족너1) 정수 -50 ~ 50 범위의 정수형 난수로 이루어진 배열의 형태\n",
        "- 조건2) 행을 기준으로 오름차순 정렬하여 출력\n",
        "- 조건3) 전체 배열을 1차원 배열로 변경하여 오름차순으로 정렬"
      ],
      "metadata": {
        "id": "wxCJQspODO1_"
      }
    },
    {
      "cell_type": "code",
      "source": [
        "arr2 = np.random.randint(-50,50,(4,5))\n",
        "print(np.sort(arr2,axis = 0),'\\n')\n",
        "print(np.sort(arr2, axis = None))"
      ],
      "metadata": {
        "colab": {
          "base_uri": "https://localhost:8080/"
        },
        "id": "3EZ8KllxBUxp",
        "outputId": "8d113de9-979d-45f2-c9b5-a1614afe92fc"
      },
      "execution_count": 75,
      "outputs": [
        {
          "output_type": "stream",
          "name": "stdout",
          "text": [
            "[[-31 -47 -28 -50 -28]\n",
            " [-19 -47 -15 -49 -16]\n",
            " [  1 -41 -15 -34  27]\n",
            " [ 33  36  38   2  46]] \n",
            "\n"
          ]
        }
      ]
    },
    {
      "cell_type": "code",
      "source": [
        "py_list = [\n",
        "           np.full(3,8),\n",
        "           np.array([33,-15,26]),\n",
        "           np.linspace(17,26,3)]\n",
        "\n",
        "result = []\n",
        "\n",
        "for i in py_list :\n",
        "  result.append(np.mean(i))\n",
        "  result.append(np.std(i))\n",
        "  result.append(np.median(i))\n",
        "\n",
        "  print(result)\n",
        ""
      ],
      "metadata": {
        "colab": {
          "base_uri": "https://localhost:8080/"
        },
        "id": "WplLakCsDsSI",
        "outputId": "63a9fbd8-63d4-4930-ffce-723d346d5dd9"
      },
      "execution_count": 113,
      "outputs": [
        {
          "output_type": "stream",
          "name": "stdout",
          "text": [
            "[8.0, 0.0, 8.0]\n",
            "[8.0, 0.0, 8.0, 14.666666666666666, 21.171259344267224, 26.0]\n",
            "[8.0, 0.0, 8.0, 14.666666666666666, 21.171259344267224, 26.0, 21.5, 3.6742346141747673, 21.5]\n"
          ]
        }
      ]
    },
    {
      "cell_type": "code",
      "source": [],
      "metadata": {
        "id": "TR_qxKj4IuDw"
      },
      "execution_count": null,
      "outputs": []
    },
    {
      "cell_type": "code",
      "source": [],
      "metadata": {
        "id": "HDzjtsRFIJN2"
      },
      "execution_count": null,
      "outputs": []
    },
    {
      "cell_type": "code",
      "source": [],
      "metadata": {
        "id": "rGH40SXcIHJ4"
      },
      "execution_count": null,
      "outputs": []
    },
    {
      "cell_type": "code",
      "source": [],
      "metadata": {
        "id": "ZmLRrhEoIFoD"
      },
      "execution_count": null,
      "outputs": []
    }
  ]
}